{
 "cells": [
  {
   "cell_type": "markdown",
   "metadata": {},
   "source": [
    "# Reusable Embeddings\n",
    "\n",
    "**Learning Objectives**\n",
    "1. Learn how to use a pre-trained TF Hub text modules to generate sentence vectors.\n",
    "1. Learn how to incorporate a pre-trained TF-Hub module into a Keras model.\n",
    "1. Learn how to deploy and use a text model on CAIP. \n",
    "\n",
    "\n",
    "\n",
    "## Introduction\n",
    "\n",
    "\n",
    "In this notebook, we will implement text models to recognize the probable source (Github, Tech-Crunch, or The New-York Times) of the titles we have in the title dataset.\n",
    "\n",
    "First, we will load and pre-process the texts and labels so that they are suitable to be fed to sequential Keras models with first layer being TF-hub pre-trained modules. Thanks to this first layer, we won't need to tokenize and integerize the text before passing it to our models. The pre-trained layer will take care of that for us, and consume directly raw text. However, we will still have to one-hot-encode each of the 3 classes into a 3 dimensional basis vector.\n",
    "\n",
    "Then we will build, train and compare simple DNN models starting with different pre-trained TF-Hub layers."
   ]
  },
  {
   "cell_type": "code",
   "execution_count": 1,
   "metadata": {},
   "outputs": [],
   "source": [
    "import os\n",
    "\n",
    "from google.cloud import bigquery\n",
    "import pandas as pd"
   ]
  },
  {
   "cell_type": "code",
   "execution_count": 2,
   "metadata": {},
   "outputs": [],
   "source": [
    "%load_ext google.cloud.bigquery"
   ]
  },
  {
   "cell_type": "markdown",
   "metadata": {},
   "source": [
    "Replace the variable values in the cell below:"
   ]
  },
  {
   "cell_type": "code",
   "execution_count": 3,
   "metadata": {},
   "outputs": [],
   "source": [
    "PROJECT = \"testbed-412418\"  # Replace with your PROJECT\n",
    "BUCKET = PROJECT \n",
    "REGION = \"us-central1\"  \n",
    "\n",
    "os.environ['PROJECT'] = PROJECT\n",
    "os.environ['BUCKET'] = BUCKET\n",
    "os.environ['REGION'] = REGION"
   ]
  },
  {
   "cell_type": "markdown",
   "metadata": {},
   "source": [
    "## Create a Dataset from BigQuery \n",
    "\n",
    "Hacker news headlines are available as a BigQuery public dataset. The [dataset](https://bigquery.cloud.google.com/table/bigquery-public-data:hacker_news.stories?tab=details) contains all headlines from the sites inception in October 2006 until October 2015. \n",
    "\n",
    "Here is a sample of the dataset:"
   ]
  },
  {
   "cell_type": "code",
   "execution_count": 4,
   "metadata": {},
   "outputs": [
    {
     "data": {
      "application/vnd.jupyter.widget-view+json": {
       "model_id": "b2b69d0977064745b423aaf10b215e1c",
       "version_major": 2,
       "version_minor": 0
      },
      "text/plain": [
       "Query is running:   0%|          |"
      ]
     },
     "metadata": {},
     "output_type": "display_data"
    },
    {
     "data": {
      "application/vnd.jupyter.widget-view+json": {
       "model_id": "58b249582a7f4e6b8c5845f1b9860200",
       "version_major": 2,
       "version_minor": 0
      },
      "text/plain": [
       "Downloading:   0%|          |"
      ]
     },
     "metadata": {},
     "output_type": "display_data"
    },
    {
     "data": {
      "text/html": [
       "<div>\n",
       "<style scoped>\n",
       "    .dataframe tbody tr th:only-of-type {\n",
       "        vertical-align: middle;\n",
       "    }\n",
       "\n",
       "    .dataframe tbody tr th {\n",
       "        vertical-align: top;\n",
       "    }\n",
       "\n",
       "    .dataframe thead th {\n",
       "        text-align: right;\n",
       "    }\n",
       "</style>\n",
       "<table border=\"1\" class=\"dataframe\">\n",
       "  <thead>\n",
       "    <tr style=\"text-align: right;\">\n",
       "      <th></th>\n",
       "      <th>url</th>\n",
       "      <th>title</th>\n",
       "      <th>score</th>\n",
       "    </tr>\n",
       "  </thead>\n",
       "  <tbody>\n",
       "    <tr>\n",
       "      <th>0</th>\n",
       "      <td>http://www.slideshare.net/linkedin/linkedins-c...</td>\n",
       "      <td>LinkedIn Architecture</td>\n",
       "      <td>12</td>\n",
       "    </tr>\n",
       "    <tr>\n",
       "      <th>1</th>\n",
       "      <td>http://www.effectgames.com/demos/canvascycle/</td>\n",
       "      <td>Few HTML5 demos with animation and sound</td>\n",
       "      <td>17</td>\n",
       "    </tr>\n",
       "    <tr>\n",
       "      <th>2</th>\n",
       "      <td>http://www.rackspace.com/email_hosting/blog/20...</td>\n",
       "      <td>Rackspace Will Pay for Your Upgrade to Apple’s...</td>\n",
       "      <td>19</td>\n",
       "    </tr>\n",
       "    <tr>\n",
       "      <th>3</th>\n",
       "      <td>http://thread.ly/</td>\n",
       "      <td>Show HN: Thread.ly - a news reading and sharin...</td>\n",
       "      <td>20</td>\n",
       "    </tr>\n",
       "    <tr>\n",
       "      <th>4</th>\n",
       "      <td>http://srirangan.net/2012-10-its-2012-stop-dup...</td>\n",
       "      <td>Please stop duplicating Rails</td>\n",
       "      <td>28</td>\n",
       "    </tr>\n",
       "    <tr>\n",
       "      <th>5</th>\n",
       "      <td>http://povolotski.me/2013/09/29/free-web-servi...</td>\n",
       "      <td>Are “free” web-services cheese in a mousetrap?</td>\n",
       "      <td>34</td>\n",
       "    </tr>\n",
       "    <tr>\n",
       "      <th>6</th>\n",
       "      <td>https://news.ycombinator.com/bookmarklet.html</td>\n",
       "      <td>Y Combinator: Bookmarklet</td>\n",
       "      <td>37</td>\n",
       "    </tr>\n",
       "    <tr>\n",
       "      <th>7</th>\n",
       "      <td>https://getyourmap.com/</td>\n",
       "      <td>Show HN – Get Your Own Maps – Pixel Perfect</td>\n",
       "      <td>51</td>\n",
       "    </tr>\n",
       "    <tr>\n",
       "      <th>8</th>\n",
       "      <td>http://online.wsj.com/news/article_email/SB100...</td>\n",
       "      <td>Apple Buys Twitter Analytics Startup Topsy Labs</td>\n",
       "      <td>68</td>\n",
       "    </tr>\n",
       "    <tr>\n",
       "      <th>9</th>\n",
       "      <td>http://www-inst.eecs.berkeley.edu/~cs61a/sp12/</td>\n",
       "      <td>SICP taught in Python 3 - UC Berkeley online</td>\n",
       "      <td>107</td>\n",
       "    </tr>\n",
       "  </tbody>\n",
       "</table>\n",
       "</div>"
      ],
      "text/plain": [
       "                                                 url  \\\n",
       "0  http://www.slideshare.net/linkedin/linkedins-c...   \n",
       "1      http://www.effectgames.com/demos/canvascycle/   \n",
       "2  http://www.rackspace.com/email_hosting/blog/20...   \n",
       "3                                  http://thread.ly/   \n",
       "4  http://srirangan.net/2012-10-its-2012-stop-dup...   \n",
       "5  http://povolotski.me/2013/09/29/free-web-servi...   \n",
       "6      https://news.ycombinator.com/bookmarklet.html   \n",
       "7                            https://getyourmap.com/   \n",
       "8  http://online.wsj.com/news/article_email/SB100...   \n",
       "9     http://www-inst.eecs.berkeley.edu/~cs61a/sp12/   \n",
       "\n",
       "                                               title  score  \n",
       "0                              LinkedIn Architecture     12  \n",
       "1           Few HTML5 demos with animation and sound     17  \n",
       "2  Rackspace Will Pay for Your Upgrade to Apple’s...     19  \n",
       "3  Show HN: Thread.ly - a news reading and sharin...     20  \n",
       "4                      Please stop duplicating Rails     28  \n",
       "5     Are “free” web-services cheese in a mousetrap?     34  \n",
       "6                          Y Combinator: Bookmarklet     37  \n",
       "7        Show HN – Get Your Own Maps – Pixel Perfect     51  \n",
       "8    Apple Buys Twitter Analytics Startup Topsy Labs     68  \n",
       "9       SICP taught in Python 3 - UC Berkeley online    107  "
      ]
     },
     "execution_count": 4,
     "metadata": {},
     "output_type": "execute_result"
    }
   ],
   "source": [
    "%%bigquery --project $PROJECT\n",
    "\n",
    "SELECT\n",
    "    url, title, score\n",
    "FROM\n",
    "    `bigquery-public-data.hacker_news.full`\n",
    "WHERE\n",
    "    LENGTH(title) > 10\n",
    "    AND score > 10\n",
    "    AND LENGTH(url) > 0\n",
    "LIMIT 10"
   ]
  },
  {
   "cell_type": "markdown",
   "metadata": {},
   "source": [
    "Let's do some regular expression parsing in BigQuery to get the source of the newspaper article from the URL. For example, if the url is http://mobile.nytimes.com/...., I want to be left with <i>nytimes</i>"
   ]
  },
  {
   "cell_type": "code",
   "execution_count": 5,
   "metadata": {},
   "outputs": [
    {
     "data": {
      "application/vnd.jupyter.widget-view+json": {
       "model_id": "586aecd36338405795baf222c3036421",
       "version_major": 2,
       "version_minor": 0
      },
      "text/plain": [
       "Query is running:   0%|          |"
      ]
     },
     "metadata": {},
     "output_type": "display_data"
    },
    {
     "data": {
      "application/vnd.jupyter.widget-view+json": {
       "model_id": "d45eebf15ef64a3fa7fac0a30d4d6eff",
       "version_major": 2,
       "version_minor": 0
      },
      "text/plain": [
       "Downloading:   0%|          |"
      ]
     },
     "metadata": {},
     "output_type": "display_data"
    },
    {
     "data": {
      "text/html": [
       "<div>\n",
       "<style scoped>\n",
       "    .dataframe tbody tr th:only-of-type {\n",
       "        vertical-align: middle;\n",
       "    }\n",
       "\n",
       "    .dataframe tbody tr th {\n",
       "        vertical-align: top;\n",
       "    }\n",
       "\n",
       "    .dataframe thead th {\n",
       "        text-align: right;\n",
       "    }\n",
       "</style>\n",
       "<table border=\"1\" class=\"dataframe\">\n",
       "  <thead>\n",
       "    <tr style=\"text-align: right;\">\n",
       "      <th></th>\n",
       "      <th>source</th>\n",
       "      <th>num_articles</th>\n",
       "    </tr>\n",
       "  </thead>\n",
       "  <tbody>\n",
       "    <tr>\n",
       "      <th>0</th>\n",
       "      <td>github</td>\n",
       "      <td>123624</td>\n",
       "    </tr>\n",
       "    <tr>\n",
       "      <th>1</th>\n",
       "      <td>medium</td>\n",
       "      <td>111783</td>\n",
       "    </tr>\n",
       "    <tr>\n",
       "      <th>2</th>\n",
       "      <td>youtube</td>\n",
       "      <td>89728</td>\n",
       "    </tr>\n",
       "    <tr>\n",
       "      <th>3</th>\n",
       "      <td>nytimes</td>\n",
       "      <td>64827</td>\n",
       "    </tr>\n",
       "    <tr>\n",
       "      <th>4</th>\n",
       "      <td>blogspot</td>\n",
       "      <td>53082</td>\n",
       "    </tr>\n",
       "    <tr>\n",
       "      <th>...</th>\n",
       "      <td>...</td>\n",
       "      <td>...</td>\n",
       "    </tr>\n",
       "    <tr>\n",
       "      <th>95</th>\n",
       "      <td>nextplatform</td>\n",
       "      <td>2359</td>\n",
       "    </tr>\n",
       "    <tr>\n",
       "      <th>96</th>\n",
       "      <td>anandtech</td>\n",
       "      <td>2351</td>\n",
       "    </tr>\n",
       "    <tr>\n",
       "      <th>97</th>\n",
       "      <td>politico</td>\n",
       "      <td>2340</td>\n",
       "    </tr>\n",
       "    <tr>\n",
       "      <th>98</th>\n",
       "      <td>extremetech</td>\n",
       "      <td>2333</td>\n",
       "    </tr>\n",
       "    <tr>\n",
       "      <th>99</th>\n",
       "      <td>atlasobscura</td>\n",
       "      <td>2296</td>\n",
       "    </tr>\n",
       "  </tbody>\n",
       "</table>\n",
       "<p>100 rows × 2 columns</p>\n",
       "</div>"
      ],
      "text/plain": [
       "          source  num_articles\n",
       "0         github        123624\n",
       "1         medium        111783\n",
       "2        youtube         89728\n",
       "3        nytimes         64827\n",
       "4       blogspot         53082\n",
       "..           ...           ...\n",
       "95  nextplatform          2359\n",
       "96     anandtech          2351\n",
       "97      politico          2340\n",
       "98   extremetech          2333\n",
       "99  atlasobscura          2296\n",
       "\n",
       "[100 rows x 2 columns]"
      ]
     },
     "execution_count": 5,
     "metadata": {},
     "output_type": "execute_result"
    }
   ],
   "source": [
    "%%bigquery --project $PROJECT\n",
    "\n",
    "SELECT\n",
    "    ARRAY_REVERSE(SPLIT(REGEXP_EXTRACT(url, '.*://(.[^/]+)/'), '.'))[safe_offset (1)] AS source,\n",
    "    COUNT(title) AS num_articles\n",
    "FROM\n",
    "    `bigquery-public-data.hacker_news.full`\n",
    "WHERE\n",
    "    REGEXP_CONTAINS(REGEXP_EXTRACT(url, '.*://(.[^/]+)/'), '.com$')\n",
    "    AND LENGTH(title) > 10\n",
    "GROUP BY\n",
    "    source\n",
    "ORDER BY num_articles DESC\n",
    "  LIMIT 100"
   ]
  },
  {
   "cell_type": "markdown",
   "metadata": {},
   "source": [
    "Now that we have good parsing of the URL to get the source, let's put together a dataset of source and titles. This will be our labeled dataset for machine learning."
   ]
  },
  {
   "cell_type": "code",
   "execution_count": 6,
   "metadata": {},
   "outputs": [
    {
     "name": "stdout",
     "output_type": "stream",
     "text": [
      "\n",
      "SELECT \n",
      "    LOWER(REGEXP_REPLACE(title, '[^a-zA-Z0-9 $.-]', ' ')) AS title,\n",
      "    source\n",
      "FROM\n",
      "  (\n",
      "SELECT\n",
      "    title,\n",
      "    ARRAY_REVERSE(SPLIT(REGEXP_EXTRACT(url, '.*://(.[^/]+)/'), '.'))[safe_offset (1)] AS source\n",
      "    \n",
      "FROM\n",
      "    `bigquery-public-data.hacker_news.full`\n",
      "WHERE\n",
      "    REGEXP_CONTAINS(REGEXP_EXTRACT(url, '.*://(.[^/]+)/'), '.com$')\n",
      "    AND LENGTH(title) > 10\n",
      ")\n",
      "WHERE (source = 'github' OR source = 'nytimes' OR source = 'techcrunch')\n",
      "\n"
     ]
    }
   ],
   "source": [
    "regex = '.*://(.[^/]+)/'\n",
    "\n",
    "\n",
    "sub_query = \"\"\"\n",
    "SELECT\n",
    "    title,\n",
    "    ARRAY_REVERSE(SPLIT(REGEXP_EXTRACT(url, '{0}'), '.'))[safe_offset (1)] AS source\n",
    "    \n",
    "FROM\n",
    "    `bigquery-public-data.hacker_news.full`\n",
    "WHERE\n",
    "    REGEXP_CONTAINS(REGEXP_EXTRACT(url, '{0}'), '.com$')\n",
    "    AND LENGTH(title) > 10\n",
    "\"\"\".format(regex)\n",
    "\n",
    "\n",
    "query = \"\"\"\n",
    "SELECT \n",
    "    LOWER(REGEXP_REPLACE(title, '[^a-zA-Z0-9 $.-]', ' ')) AS title,\n",
    "    source\n",
    "FROM\n",
    "  ({sub_query})\n",
    "WHERE (source = 'github' OR source = 'nytimes' OR source = 'techcrunch')\n",
    "\"\"\".format(sub_query=sub_query)\n",
    "\n",
    "print(query)"
   ]
  },
  {
   "cell_type": "markdown",
   "metadata": {},
   "source": [
    "For ML training, we usually need to split our dataset into training and evaluation datasets (and perhaps an independent test dataset if we are going to do model or feature selection based on the evaluation dataset). AutoML however figures out on its own how to create these splits, so we won't need to do that here. \n",
    "\n"
   ]
  },
  {
   "cell_type": "code",
   "execution_count": 7,
   "metadata": {},
   "outputs": [
    {
     "name": "stderr",
     "output_type": "stream",
     "text": [
      "/home/sferro/miniconda3/envs/dev-3712/envs/googleML2/lib/python3.11/site-packages/google/auth/_default.py:76: UserWarning: Your application has authenticated using end user credentials from Google Cloud SDK without a quota project. You might receive a \"quota exceeded\" or \"API not enabled\" error. See the following page for troubleshooting: https://cloud.google.com/docs/authentication/adc-troubleshooting/user-creds. \n",
      "  warnings.warn(_CLOUD_SDK_CREDENTIALS_WARNING)\n"
     ]
    },
    {
     "data": {
      "text/html": [
       "<div>\n",
       "<style scoped>\n",
       "    .dataframe tbody tr th:only-of-type {\n",
       "        vertical-align: middle;\n",
       "    }\n",
       "\n",
       "    .dataframe tbody tr th {\n",
       "        vertical-align: top;\n",
       "    }\n",
       "\n",
       "    .dataframe thead th {\n",
       "        text-align: right;\n",
       "    }\n",
       "</style>\n",
       "<table border=\"1\" class=\"dataframe\">\n",
       "  <thead>\n",
       "    <tr style=\"text-align: right;\">\n",
       "      <th></th>\n",
       "      <th>title</th>\n",
       "      <th>source</th>\n",
       "    </tr>\n",
       "  </thead>\n",
       "  <tbody>\n",
       "    <tr>\n",
       "      <th>0</th>\n",
       "      <td>globalchat 2 pro released to app stores</td>\n",
       "      <td>github</td>\n",
       "    </tr>\n",
       "    <tr>\n",
       "      <th>1</th>\n",
       "      <td>andromeda - a simple websocket server</td>\n",
       "      <td>github</td>\n",
       "    </tr>\n",
       "    <tr>\n",
       "      <th>2</th>\n",
       "      <td>redirect manager  seo  payment and solvency sy...</td>\n",
       "      <td>github</td>\n",
       "    </tr>\n",
       "    <tr>\n",
       "      <th>3</th>\n",
       "      <td>mcilroy s word frequency program in 1 line of ...</td>\n",
       "      <td>github</td>\n",
       "    </tr>\n",
       "    <tr>\n",
       "      <th>4</th>\n",
       "      <td>uiview quicksize</td>\n",
       "      <td>github</td>\n",
       "    </tr>\n",
       "  </tbody>\n",
       "</table>\n",
       "</div>"
      ],
      "text/plain": [
       "                                               title  source\n",
       "0            globalchat 2 pro released to app stores  github\n",
       "1              andromeda - a simple websocket server  github\n",
       "2  redirect manager  seo  payment and solvency sy...  github\n",
       "3  mcilroy s word frequency program in 1 line of ...  github\n",
       "4                                   uiview quicksize  github"
      ]
     },
     "execution_count": 7,
     "metadata": {},
     "output_type": "execute_result"
    }
   ],
   "source": [
    "bq = bigquery.Client(project=PROJECT)\n",
    "title_dataset = bq.query(query).to_dataframe()\n",
    "title_dataset.head()"
   ]
  },
  {
   "cell_type": "markdown",
   "metadata": {},
   "source": [
    "AutoML for text classification requires that\n",
    "* the dataset be in csv form with \n",
    "* the first column being the texts to classify or a GCS path to the text \n",
    "* the last colum to be the text labels\n",
    "\n",
    "The dataset we pulled from BiqQuery satisfies these requirements."
   ]
  },
  {
   "cell_type": "code",
   "execution_count": 8,
   "metadata": {},
   "outputs": [
    {
     "name": "stdout",
     "output_type": "stream",
     "text": [
      "The full dataset contains 236186 titles\n"
     ]
    }
   ],
   "source": [
    "print(\"The full dataset contains {n} titles\".format(n=len(title_dataset)))"
   ]
  },
  {
   "cell_type": "markdown",
   "metadata": {},
   "source": [
    "Let's make sure we have roughly the same number of labels for each of our three labels:"
   ]
  },
  {
   "cell_type": "code",
   "execution_count": 9,
   "metadata": {},
   "outputs": [
    {
     "data": {
      "text/plain": [
       "source\n",
       "github        123624\n",
       "nytimes        64827\n",
       "techcrunch     47735\n",
       "Name: count, dtype: int64"
      ]
     },
     "execution_count": 9,
     "metadata": {},
     "output_type": "execute_result"
    }
   ],
   "source": [
    "title_dataset.source.value_counts()"
   ]
  },
  {
   "cell_type": "markdown",
   "metadata": {},
   "source": [
    "Finally we will save our data, which is currently in-memory, to disk.\n",
    "\n",
    "We will create a csv file containing the full dataset and another containing only 1000 articles for development.\n",
    "\n",
    "**Note:** It may take a long time to train AutoML on the full dataset, so we recommend to use the sample dataset for the purpose of learning the tool. \n"
   ]
  },
  {
   "cell_type": "code",
   "execution_count": 10,
   "metadata": {},
   "outputs": [],
   "source": [
    "DATADIR = './data/'\n",
    "\n",
    "if not os.path.exists(DATADIR):\n",
    "    os.makedirs(DATADIR)"
   ]
  },
  {
   "cell_type": "code",
   "execution_count": 11,
   "metadata": {},
   "outputs": [],
   "source": [
    "FULL_DATASET_NAME = 'titles_full.csv'\n",
    "FULL_DATASET_PATH = os.path.join(DATADIR, FULL_DATASET_NAME)\n",
    "\n",
    "# Let's shuffle the data before writing it to disk.\n",
    "title_dataset = title_dataset.sample(n=len(title_dataset))\n",
    "\n",
    "title_dataset.to_csv(\n",
    "    FULL_DATASET_PATH, header=False, index=False, encoding='utf-8')"
   ]
  },
  {
   "cell_type": "markdown",
   "metadata": {},
   "source": [
    "Now let's sample 1000 articles from the full dataset and make sure we have enough examples for each label in our sample dataset (see [here](https://cloud.google.com/natural-language/automl/docs/beginners-guide) for further details on how to prepare data for AutoML)."
   ]
  },
  {
   "cell_type": "code",
   "execution_count": 12,
   "metadata": {},
   "outputs": [
    {
     "data": {
      "text/plain": [
       "source\n",
       "github        504\n",
       "nytimes       260\n",
       "techcrunch    236\n",
       "Name: count, dtype: int64"
      ]
     },
     "execution_count": 12,
     "metadata": {},
     "output_type": "execute_result"
    }
   ],
   "source": [
    "sample_title_dataset = title_dataset.sample(n=1000)\n",
    "sample_title_dataset.source.value_counts()"
   ]
  },
  {
   "cell_type": "markdown",
   "metadata": {},
   "source": [
    "Let's write the sample datatset to disk."
   ]
  },
  {
   "cell_type": "code",
   "execution_count": 13,
   "metadata": {},
   "outputs": [],
   "source": [
    "SAMPLE_DATASET_NAME = 'titles_sample.csv'\n",
    "SAMPLE_DATASET_PATH = os.path.join(DATADIR, SAMPLE_DATASET_NAME)\n",
    "\n",
    "sample_title_dataset.to_csv(\n",
    "    SAMPLE_DATASET_PATH, header=False, index=False, encoding='utf-8')"
   ]
  },
  {
   "cell_type": "code",
   "execution_count": 14,
   "metadata": {},
   "outputs": [
    {
     "name": "stderr",
     "output_type": "stream",
     "text": [
      "2024-03-04 09:54:40.821503: I tensorflow/core/util/port.cc:113] oneDNN custom operations are on. You may see slightly different numerical results due to floating-point round-off errors from different computation orders. To turn them off, set the environment variable `TF_ENABLE_ONEDNN_OPTS=0`.\n",
      "2024-03-04 09:54:41.094669: I tensorflow/core/platform/cpu_feature_guard.cc:182] This TensorFlow binary is optimized to use available CPU instructions in performance-critical operations.\n",
      "To enable the following instructions: SSE4.1 SSE4.2 AVX AVX2 AVX512F AVX512_VNNI FMA, in other operations, rebuild TensorFlow with the appropriate compiler flags.\n"
     ]
    },
    {
     "name": "stdout",
     "output_type": "stream",
     "text": [
      "2.15.0\n"
     ]
    }
   ],
   "source": [
    "import datetime\n",
    "import os\n",
    "import shutil\n",
    "\n",
    "import pandas as pd\n",
    "import tensorflow as tf\n",
    "from tensorflow.keras.callbacks import TensorBoard, EarlyStopping\n",
    "from tensorflow_hub import KerasLayer\n",
    "from tensorflow.keras.layers import Dense\n",
    "from tensorflow.keras.models import Sequential\n",
    "from tensorflow.keras.preprocessing.text import Tokenizer\n",
    "from tensorflow.keras.utils import to_categorical\n",
    "\n",
    "\n",
    "print(tf.__version__)"
   ]
  },
  {
   "cell_type": "code",
   "execution_count": 15,
   "metadata": {},
   "outputs": [],
   "source": [
    "%matplotlib inline"
   ]
  },
  {
   "cell_type": "markdown",
   "metadata": {},
   "source": [
    "Let's start by specifying where the information about the trained models will be saved as well as where our dataset is located:"
   ]
  },
  {
   "cell_type": "code",
   "execution_count": 16,
   "metadata": {},
   "outputs": [],
   "source": [
    "MODEL_DIR = \"./text_models\"\n",
    "DATA_DIR = \"./data\""
   ]
  },
  {
   "cell_type": "markdown",
   "metadata": {},
   "source": [
    "## Loading the dataset"
   ]
  },
  {
   "cell_type": "markdown",
   "metadata": {},
   "source": [
    "As in the previous labs, our dataset consists of titles of articles along with the label indicating from which source these articles have been taken from (GitHub, Tech-Crunch, or the New-York Times):"
   ]
  },
  {
   "cell_type": "code",
   "execution_count": 17,
   "metadata": {},
   "outputs": [
    {
     "name": "stdout",
     "output_type": "stream",
     "text": [
      "titles_full.csv  titles_sample.csv\n"
     ]
    }
   ],
   "source": [
    "ls ./data/"
   ]
  },
  {
   "cell_type": "code",
   "execution_count": 18,
   "metadata": {},
   "outputs": [
    {
     "data": {
      "text/html": [
       "<div>\n",
       "<style scoped>\n",
       "    .dataframe tbody tr th:only-of-type {\n",
       "        vertical-align: middle;\n",
       "    }\n",
       "\n",
       "    .dataframe tbody tr th {\n",
       "        vertical-align: top;\n",
       "    }\n",
       "\n",
       "    .dataframe thead th {\n",
       "        text-align: right;\n",
       "    }\n",
       "</style>\n",
       "<table border=\"1\" class=\"dataframe\">\n",
       "  <thead>\n",
       "    <tr style=\"text-align: right;\">\n",
       "      <th></th>\n",
       "      <th>title</th>\n",
       "      <th>source</th>\n",
       "    </tr>\n",
       "  </thead>\n",
       "  <tbody>\n",
       "    <tr>\n",
       "      <th>0</th>\n",
       "      <td>bananas  ip addresses   spam management for rails</td>\n",
       "      <td>github</td>\n",
       "    </tr>\n",
       "    <tr>\n",
       "      <th>1</th>\n",
       "      <td>patreon s new service fee spurs concern that c...</td>\n",
       "      <td>techcrunch</td>\n",
       "    </tr>\n",
       "    <tr>\n",
       "      <th>2</th>\n",
       "      <td>a php syntax highlighting engine that rivals a...</td>\n",
       "      <td>github</td>\n",
       "    </tr>\n",
       "    <tr>\n",
       "      <th>3</th>\n",
       "      <td>knotel co-founder leaves company  describes ne...</td>\n",
       "      <td>techcrunch</td>\n",
       "    </tr>\n",
       "    <tr>\n",
       "      <th>4</th>\n",
       "      <td>rcp 11   stream data type proposal for redis</td>\n",
       "      <td>github</td>\n",
       "    </tr>\n",
       "  </tbody>\n",
       "</table>\n",
       "</div>"
      ],
      "text/plain": [
       "                                               title      source\n",
       "0  bananas  ip addresses   spam management for rails      github\n",
       "1  patreon s new service fee spurs concern that c...  techcrunch\n",
       "2  a php syntax highlighting engine that rivals a...      github\n",
       "3  knotel co-founder leaves company  describes ne...  techcrunch\n",
       "4       rcp 11   stream data type proposal for redis      github"
      ]
     },
     "execution_count": 18,
     "metadata": {},
     "output_type": "execute_result"
    }
   ],
   "source": [
    "DATASET_NAME = \"titles_full.csv\"\n",
    "TITLE_SAMPLE_PATH = os.path.join(DATA_DIR, DATASET_NAME)\n",
    "COLUMNS = ['title', 'source']\n",
    "\n",
    "titles_df = pd.read_csv(TITLE_SAMPLE_PATH, header=None, names=COLUMNS)\n",
    "titles_df.head()"
   ]
  },
  {
   "cell_type": "markdown",
   "metadata": {},
   "source": [
    "Let's look again at the number of examples per label to make sure we have a well-balanced dataset:"
   ]
  },
  {
   "cell_type": "code",
   "execution_count": 19,
   "metadata": {},
   "outputs": [
    {
     "data": {
      "text/plain": [
       "source\n",
       "github        123624\n",
       "nytimes        64827\n",
       "techcrunch     47735\n",
       "Name: count, dtype: int64"
      ]
     },
     "execution_count": 19,
     "metadata": {},
     "output_type": "execute_result"
    }
   ],
   "source": [
    "titles_df.source.value_counts()"
   ]
  },
  {
   "cell_type": "markdown",
   "metadata": {},
   "source": [
    "## Preparing the labels"
   ]
  },
  {
   "cell_type": "markdown",
   "metadata": {},
   "source": [
    "In this lab, we will use pre-trained [TF-Hub embeddings modules for english](https://tfhub.dev/s?q=tf2%20embeddings%20text%20english) for the first layer of our models. One immediate\n",
    "advantage of doing so is that the TF-Hub embedding module will take care for us of processing the raw text. \n",
    "This also means that our model will be able to consume text directly instead of sequences of integers representing the words.\n",
    "\n",
    "However, as before, we still need to preprocess the labels into one-hot-encoded vectors:"
   ]
  },
  {
   "cell_type": "code",
   "execution_count": 20,
   "metadata": {},
   "outputs": [],
   "source": [
    "CLASSES = {\n",
    "    'github': 0,\n",
    "    'nytimes': 1,\n",
    "    'techcrunch': 2\n",
    "}\n",
    "N_CLASSES = len(CLASSES)"
   ]
  },
  {
   "cell_type": "code",
   "execution_count": 21,
   "metadata": {},
   "outputs": [],
   "source": [
    "def encode_labels(sources):\n",
    "    classes = [CLASSES[source] for source in sources]\n",
    "    one_hots = to_categorical(classes, num_classes=N_CLASSES)\n",
    "    return one_hots"
   ]
  },
  {
   "cell_type": "code",
   "execution_count": 22,
   "metadata": {},
   "outputs": [
    {
     "data": {
      "text/plain": [
       "array([[1., 0., 0.],\n",
       "       [0., 0., 1.],\n",
       "       [1., 0., 0.],\n",
       "       [0., 0., 1.]], dtype=float32)"
      ]
     },
     "execution_count": 22,
     "metadata": {},
     "output_type": "execute_result"
    }
   ],
   "source": [
    "encode_labels(titles_df.source[:4])"
   ]
  },
  {
   "cell_type": "markdown",
   "metadata": {},
   "source": [
    "## Preparing the train/test splits"
   ]
  },
  {
   "cell_type": "markdown",
   "metadata": {},
   "source": [
    "Let's split our data into train and test splits:"
   ]
  },
  {
   "cell_type": "code",
   "execution_count": 23,
   "metadata": {},
   "outputs": [],
   "source": [
    "N_TRAIN = int(len(titles_df) * 0.95)\n",
    "\n",
    "titles_train, sources_train = (\n",
    "    titles_df.title[:N_TRAIN], titles_df.source[:N_TRAIN])\n",
    "\n",
    "titles_valid, sources_valid = (\n",
    "    titles_df.title[N_TRAIN:], titles_df.source[N_TRAIN:])"
   ]
  },
  {
   "cell_type": "markdown",
   "metadata": {},
   "source": [
    "To be on the safe side, we verify that the train and test splits\n",
    "have roughly the same number of examples per class.\n",
    "\n",
    "Since it is the case, accuracy will be a good metric to use to measure\n",
    "the performance of our models."
   ]
  },
  {
   "cell_type": "code",
   "execution_count": 24,
   "metadata": {},
   "outputs": [
    {
     "data": {
      "text/plain": [
       "source\n",
       "github        117387\n",
       "nytimes        61618\n",
       "techcrunch     45371\n",
       "Name: count, dtype: int64"
      ]
     },
     "execution_count": 24,
     "metadata": {},
     "output_type": "execute_result"
    }
   ],
   "source": [
    "sources_train.value_counts()"
   ]
  },
  {
   "cell_type": "code",
   "execution_count": 25,
   "metadata": {},
   "outputs": [
    {
     "data": {
      "text/plain": [
       "source\n",
       "github        6237\n",
       "nytimes       3209\n",
       "techcrunch    2364\n",
       "Name: count, dtype: int64"
      ]
     },
     "execution_count": 25,
     "metadata": {},
     "output_type": "execute_result"
    }
   ],
   "source": [
    "sources_valid.value_counts()"
   ]
  },
  {
   "cell_type": "markdown",
   "metadata": {},
   "source": [
    "Now let's create the features and labels we will feed our models with:"
   ]
  },
  {
   "cell_type": "code",
   "execution_count": 26,
   "metadata": {},
   "outputs": [],
   "source": [
    "X_train, Y_train = titles_train.values, encode_labels(sources_train)\n",
    "X_valid, Y_valid = titles_valid.values, encode_labels(sources_valid)"
   ]
  },
  {
   "cell_type": "code",
   "execution_count": 27,
   "metadata": {},
   "outputs": [
    {
     "data": {
      "text/plain": [
       "array(['bananas  ip addresses   spam management for rails',\n",
       "       'patreon s new service fee spurs concern that creators will lose patrons',\n",
       "       'a php syntax highlighting engine that rivals any full blown editor'],\n",
       "      dtype=object)"
      ]
     },
     "execution_count": 27,
     "metadata": {},
     "output_type": "execute_result"
    }
   ],
   "source": [
    "X_train[:3]"
   ]
  },
  {
   "cell_type": "code",
   "execution_count": 28,
   "metadata": {},
   "outputs": [
    {
     "data": {
      "text/plain": [
       "array([[1., 0., 0.],\n",
       "       [0., 0., 1.],\n",
       "       [1., 0., 0.]], dtype=float32)"
      ]
     },
     "execution_count": 28,
     "metadata": {},
     "output_type": "execute_result"
    }
   ],
   "source": [
    "Y_train[:3]"
   ]
  },
  {
   "cell_type": "markdown",
   "metadata": {},
   "source": [
    "## NNLM Model"
   ]
  },
  {
   "cell_type": "markdown",
   "metadata": {},
   "source": [
    "We will first try a word embedding pre-trained using a [Neural Probabilistic Language Model](http://www.jmlr.org/papers/volume3/bengio03a/bengio03a.pdf). TF-Hub has a 50-dimensional one called \n",
    "[nnlm-en-dim50-with-normalization](https://tfhub.dev/google/tf2-preview/nnlm-en-dim50/1), which also\n",
    "normalizes the vectors produced. \n",
    "\n",
    "### Lab Task 1a: Import NNLM TF Hub module into `KerasLayer`\n",
    "\n",
    "Once loaded from its url, the TF-hub module can be used as a normal Keras layer in a sequential or functional model. Since we have enough data to fine-tune the parameters of the pre-trained embedding itself, we will set `trainable=True` in the `KerasLayer` that loads the pre-trained embedding:"
   ]
  },
  {
   "cell_type": "code",
   "execution_count": 30,
   "metadata": {},
   "outputs": [],
   "source": [
    "NNLM = \"https://tfhub.dev/google/nnlm-en-dim50/2\"\n",
    "\n",
    "nnlm_module = KerasLayer(handle=NNLM) # TODO"
   ]
  },
  {
   "cell_type": "markdown",
   "metadata": {},
   "source": [
    "Note that this TF-Hub embedding produces a single 50-dimensional vector when passed a sentence:"
   ]
  },
  {
   "cell_type": "markdown",
   "metadata": {},
   "source": [
    "### Lab Task 1b: Use module to encode a sentence string"
   ]
  },
  {
   "cell_type": "code",
   "execution_count": 32,
   "metadata": {},
   "outputs": [
    {
     "data": {
      "text/plain": [
       "<tf.Tensor: shape=(1, 50), dtype=float32, numpy=\n",
       "array([[-0.15379995,  0.22156605, -0.1133186 ,  0.20227045,  0.05445805,\n",
       "         0.00639871,  0.06156696,  0.01211753, -0.334868  ,  0.38066795,\n",
       "         0.09128601,  0.05226019, -0.10466266, -0.00694283, -0.21865314,\n",
       "         0.08009206, -0.12328869, -0.00509365,  0.18473293, -0.39309344,\n",
       "         0.06592541, -0.07561804,  0.0587949 , -0.07505391, -0.18040916,\n",
       "        -0.05384441, -0.41737875, -0.04084421,  0.04999248, -0.25824735,\n",
       "         0.009005  ,  0.1403196 ,  0.2201783 , -0.11457358, -0.4099738 ,\n",
       "        -0.02987219,  0.02242003, -0.20366013,  0.01145816, -0.12304819,\n",
       "         0.16009231,  0.14773948, -0.03773656,  0.00478034, -0.23974752,\n",
       "        -0.03878748, -0.0819593 , -0.30281448,  0.21082328,  0.24958032]],\n",
       "      dtype=float32)>"
      ]
     },
     "execution_count": 32,
     "metadata": {},
     "output_type": "execute_result"
    }
   ],
   "source": [
    "nnlm_module(tf.constant(['Here is all you need to know']))"
   ]
  },
  {
   "cell_type": "code",
   "execution_count": 33,
   "metadata": {},
   "outputs": [
    {
     "data": {
      "text/plain": [
       "<tf.Tensor: shape=(1, 50), dtype=float32, numpy=\n",
       "array([[-0.18607855,  0.27664542, -0.1800513 ,  0.22468935,  0.09115304,\n",
       "        -0.00450335,  0.07829525,  0.02402999, -0.2511765 ,  0.35448098,\n",
       "         0.03437916,  0.07668329, -0.05295185, -0.02529637, -0.11469652,\n",
       "         0.14479718, -0.16063909, -0.06044037,  0.20233521, -0.37858734,\n",
       "         0.04251011, -0.09712239,  0.05087491,  0.01161222, -0.12693734,\n",
       "         0.06584676, -0.37134138, -0.00334157,  0.07800074, -0.2721664 ,\n",
       "        -0.01245863,  0.15170667,  0.26629713, -0.0753973 , -0.28345087,\n",
       "        -0.04439466,  0.06913177, -0.20941238,  0.01899269, -0.07449294,\n",
       "         0.1128147 ,  0.14626344,  0.01894854,  0.00568525, -0.22033672,\n",
       "        -0.07455078, -0.05595729, -0.41871747,  0.16552404,  0.32460967]],\n",
       "      dtype=float32)>"
      ]
     },
     "execution_count": 33,
     "metadata": {},
     "output_type": "execute_result"
    }
   ],
   "source": [
    "nnlm_module(tf.constant(['Here is all you need to know today']))"
   ]
  },
  {
   "cell_type": "markdown",
   "metadata": {},
   "source": [
    "## Swivel Model"
   ]
  },
  {
   "cell_type": "markdown",
   "metadata": {},
   "source": [
    "Then we will try a word embedding obtained using [Swivel](https://arxiv.org/abs/1602.02215), an algorithm that essentially factorizes word co-occurrence matrices to create the words embeddings. \n",
    "TF-Hub hosts the pretrained [gnews-swivel-20dim-with-oov](https://tfhub.dev/google/tf2-preview/gnews-swivel-20dim-with-oov/1) 20-dimensional Swivel module.\n",
    "\n",
    "### Lab Task 1c: Import Swivel TF Hub module into `KerasLayer`"
   ]
  },
  {
   "cell_type": "code",
   "execution_count": 34,
   "metadata": {},
   "outputs": [],
   "source": [
    "SWIVEL = \"https://tfhub.dev/google/tf2-preview/gnews-swivel-20dim-with-oov/1\"\n",
    "swivel_module = KerasLayer(handle=SWIVEL)"
   ]
  },
  {
   "cell_type": "markdown",
   "metadata": {},
   "source": [
    "Similarly as the previous pre-trained embedding, it outputs a single vector when passed a sentence:\n",
    "\n",
    "### Lab Task 1d: Use module to encode a sentence string"
   ]
  },
  {
   "cell_type": "code",
   "execution_count": 35,
   "metadata": {},
   "outputs": [
    {
     "data": {
      "text/plain": [
       "<tf.Tensor: shape=(1, 20), dtype=float32, numpy=\n",
       "array([[ 0.2664202 , -1.261776  ,  2.0381458 ,  1.2109234 , -2.576659  ,\n",
       "        -2.068301  , -0.8421438 ,  0.35262185,  0.11986589,  0.19456999,\n",
       "        -0.94143987, -0.39906135,  0.6148027 ,  0.62903035, -1.7650205 ,\n",
       "        -0.17113647,  2.1219916 ,  0.05144852, -0.20001383, -0.6799559 ]],\n",
       "      dtype=float32)>"
      ]
     },
     "execution_count": 35,
     "metadata": {},
     "output_type": "execute_result"
    }
   ],
   "source": [
    "swivel_module(tf.constant(['Here is all you need to know today']))"
   ]
  },
  {
   "cell_type": "markdown",
   "metadata": {},
   "source": [
    "## Building the models"
   ]
  },
  {
   "cell_type": "markdown",
   "metadata": {},
   "source": [
    "Let's write a function that \n",
    "\n",
    "* takes as input an instance of a `KerasLayer` (i.e. the `swivel_module` or the `nnlm_module` we constructed above) as well as the name of the model (say `swivel` or `nnlm`)\n",
    "* returns a compiled Keras sequential model starting with this pre-trained TF-hub layer, adding one or more dense relu layers to it, and ending with a softmax layer giving the probability of each of the classes:\n",
    "\n",
    "### Lab Task 2: Incorporate a pre-trained TF Hub module as first layer of Keras Sequential Model"
   ]
  },
  {
   "cell_type": "code",
   "execution_count": 36,
   "metadata": {},
   "outputs": [],
   "source": [
    "def build_model(hub_module, name):\n",
    "    model = Sequential([\n",
    "        hub_module, # TODO\n",
    "        Dense(16, activation='relu'),\n",
    "        Dense(N_CLASSES, activation='softmax')\n",
    "    ], name=name)\n",
    "\n",
    "    model.compile(\n",
    "        optimizer='adam',\n",
    "        loss='categorical_crossentropy',\n",
    "        metrics=['accuracy']\n",
    "    )\n",
    "    return model"
   ]
  },
  {
   "cell_type": "markdown",
   "metadata": {},
   "source": [
    "Let's also wrap the training code into a `train_and_evaluate` function that \n",
    "* takes as input the training and validation data, as well as the compiled model itself, and the `batch_size`\n",
    "* trains the compiled model for 100 epochs at most, and does early-stopping when the validation loss is no longer decreasing\n",
    "* returns an `history` object, which will help us to plot the learning curves"
   ]
  },
  {
   "cell_type": "code",
   "execution_count": 37,
   "metadata": {},
   "outputs": [],
   "source": [
    "def train_and_evaluate(train_data, val_data, model, batch_size=5000):\n",
    "    X_train, Y_train = train_data\n",
    "\n",
    "    tf.random.set_seed(33)\n",
    "\n",
    "    model_dir = os.path.join(MODEL_DIR, model.name)\n",
    "    if tf.io.gfile.exists(model_dir):\n",
    "        tf.io.gfile.rmtree(model_dir)\n",
    "\n",
    "    history = model.fit(\n",
    "        X_train, Y_train,\n",
    "        epochs=50,\n",
    "        batch_size=batch_size,\n",
    "        validation_data=val_data,\n",
    "        callbacks=TensorBoard(model_dir),\n",
    "    )\n",
    "    return history"
   ]
  },
  {
   "cell_type": "markdown",
   "metadata": {},
   "source": [
    "## Training NNLM"
   ]
  },
  {
   "cell_type": "code",
   "execution_count": 38,
   "metadata": {},
   "outputs": [],
   "source": [
    "data = (X_train, Y_train)\n",
    "val_data = (X_valid, Y_valid)"
   ]
  },
  {
   "cell_type": "code",
   "execution_count": 39,
   "metadata": {},
   "outputs": [
    {
     "name": "stdout",
     "output_type": "stream",
     "text": [
      "Epoch 1/50\n",
      "45/45 [==============================] - 3s 26ms/step - loss: 1.0328 - accuracy: 0.4850 - val_loss: 0.9468 - val_accuracy: 0.5630\n",
      "Epoch 2/50\n",
      "45/45 [==============================] - 1s 19ms/step - loss: 0.8959 - accuracy: 0.6005 - val_loss: 0.8356 - val_accuracy: 0.6550\n",
      "Epoch 3/50\n",
      "45/45 [==============================] - 1s 19ms/step - loss: 0.7991 - accuracy: 0.6640 - val_loss: 0.7478 - val_accuracy: 0.6913\n",
      "Epoch 4/50\n",
      "45/45 [==============================] - 1s 20ms/step - loss: 0.7265 - accuracy: 0.6919 - val_loss: 0.6848 - val_accuracy: 0.7178\n",
      "Epoch 5/50\n",
      "45/45 [==============================] - 1s 20ms/step - loss: 0.6763 - accuracy: 0.7154 - val_loss: 0.6427 - val_accuracy: 0.7329\n",
      "Epoch 6/50\n",
      "45/45 [==============================] - 1s 22ms/step - loss: 0.6439 - accuracy: 0.7304 - val_loss: 0.6158 - val_accuracy: 0.7417\n",
      "Epoch 7/50\n",
      "45/45 [==============================] - 1s 19ms/step - loss: 0.6244 - accuracy: 0.7385 - val_loss: 0.6003 - val_accuracy: 0.7475\n",
      "Epoch 8/50\n",
      "45/45 [==============================] - 1s 21ms/step - loss: 0.6134 - accuracy: 0.7432 - val_loss: 0.5918 - val_accuracy: 0.7534\n",
      "Epoch 9/50\n",
      "45/45 [==============================] - 1s 25ms/step - loss: 0.6073 - accuracy: 0.7462 - val_loss: 0.5867 - val_accuracy: 0.7549\n",
      "Epoch 10/50\n",
      "45/45 [==============================] - 1s 19ms/step - loss: 0.6037 - accuracy: 0.7480 - val_loss: 0.5836 - val_accuracy: 0.7557\n",
      "Epoch 11/50\n",
      "45/45 [==============================] - 1s 20ms/step - loss: 0.6015 - accuracy: 0.7488 - val_loss: 0.5813 - val_accuracy: 0.7569\n",
      "Epoch 12/50\n",
      "45/45 [==============================] - 1s 20ms/step - loss: 0.5999 - accuracy: 0.7494 - val_loss: 0.5799 - val_accuracy: 0.7583\n",
      "Epoch 13/50\n",
      "45/45 [==============================] - 1s 19ms/step - loss: 0.5987 - accuracy: 0.7500 - val_loss: 0.5786 - val_accuracy: 0.7583\n",
      "Epoch 14/50\n",
      "45/45 [==============================] - 1s 21ms/step - loss: 0.5977 - accuracy: 0.7502 - val_loss: 0.5774 - val_accuracy: 0.7597\n",
      "Epoch 15/50\n",
      "45/45 [==============================] - 1s 19ms/step - loss: 0.5968 - accuracy: 0.7506 - val_loss: 0.5764 - val_accuracy: 0.7593\n",
      "Epoch 16/50\n",
      "45/45 [==============================] - 1s 19ms/step - loss: 0.5959 - accuracy: 0.7508 - val_loss: 0.5752 - val_accuracy: 0.7605\n",
      "Epoch 17/50\n",
      "45/45 [==============================] - 1s 18ms/step - loss: 0.5950 - accuracy: 0.7509 - val_loss: 0.5745 - val_accuracy: 0.7609\n",
      "Epoch 18/50\n",
      "45/45 [==============================] - 1s 18ms/step - loss: 0.5941 - accuracy: 0.7512 - val_loss: 0.5735 - val_accuracy: 0.7613\n",
      "Epoch 19/50\n",
      "45/45 [==============================] - 1s 19ms/step - loss: 0.5932 - accuracy: 0.7514 - val_loss: 0.5725 - val_accuracy: 0.7610\n",
      "Epoch 20/50\n",
      "45/45 [==============================] - 1s 21ms/step - loss: 0.5922 - accuracy: 0.7519 - val_loss: 0.5716 - val_accuracy: 0.7614\n",
      "Epoch 21/50\n",
      "45/45 [==============================] - 1s 23ms/step - loss: 0.5913 - accuracy: 0.7525 - val_loss: 0.5705 - val_accuracy: 0.7624\n",
      "Epoch 22/50\n",
      "45/45 [==============================] - 1s 20ms/step - loss: 0.5902 - accuracy: 0.7528 - val_loss: 0.5700 - val_accuracy: 0.7622\n",
      "Epoch 23/50\n",
      "45/45 [==============================] - 1s 20ms/step - loss: 0.5893 - accuracy: 0.7535 - val_loss: 0.5690 - val_accuracy: 0.7637\n",
      "Epoch 24/50\n",
      "45/45 [==============================] - 1s 19ms/step - loss: 0.5882 - accuracy: 0.7541 - val_loss: 0.5681 - val_accuracy: 0.7634\n",
      "Epoch 25/50\n",
      "45/45 [==============================] - 1s 18ms/step - loss: 0.5872 - accuracy: 0.7548 - val_loss: 0.5670 - val_accuracy: 0.7646\n",
      "Epoch 26/50\n",
      "45/45 [==============================] - 1s 19ms/step - loss: 0.5861 - accuracy: 0.7550 - val_loss: 0.5665 - val_accuracy: 0.7643\n",
      "Epoch 27/50\n",
      "45/45 [==============================] - 1s 18ms/step - loss: 0.5850 - accuracy: 0.7556 - val_loss: 0.5653 - val_accuracy: 0.7650\n",
      "Epoch 28/50\n",
      "45/45 [==============================] - 1s 19ms/step - loss: 0.5839 - accuracy: 0.7561 - val_loss: 0.5644 - val_accuracy: 0.7662\n",
      "Epoch 29/50\n",
      "45/45 [==============================] - 1s 18ms/step - loss: 0.5828 - accuracy: 0.7567 - val_loss: 0.5634 - val_accuracy: 0.7675\n",
      "Epoch 30/50\n",
      "45/45 [==============================] - 1s 22ms/step - loss: 0.5817 - accuracy: 0.7572 - val_loss: 0.5628 - val_accuracy: 0.7671\n",
      "Epoch 31/50\n",
      "45/45 [==============================] - 1s 17ms/step - loss: 0.5805 - accuracy: 0.7574 - val_loss: 0.5619 - val_accuracy: 0.7677\n",
      "Epoch 32/50\n",
      "45/45 [==============================] - 1s 18ms/step - loss: 0.5794 - accuracy: 0.7582 - val_loss: 0.5608 - val_accuracy: 0.7675\n",
      "Epoch 33/50\n",
      "45/45 [==============================] - 1s 19ms/step - loss: 0.5782 - accuracy: 0.7586 - val_loss: 0.5597 - val_accuracy: 0.7670\n",
      "Epoch 34/50\n",
      "45/45 [==============================] - 1s 19ms/step - loss: 0.5772 - accuracy: 0.7591 - val_loss: 0.5588 - val_accuracy: 0.7679\n",
      "Epoch 35/50\n",
      "45/45 [==============================] - 1s 18ms/step - loss: 0.5760 - accuracy: 0.7598 - val_loss: 0.5578 - val_accuracy: 0.7690\n",
      "Epoch 36/50\n",
      "45/45 [==============================] - 1s 18ms/step - loss: 0.5748 - accuracy: 0.7603 - val_loss: 0.5568 - val_accuracy: 0.7693\n",
      "Epoch 37/50\n",
      "45/45 [==============================] - 1s 17ms/step - loss: 0.5737 - accuracy: 0.7607 - val_loss: 0.5559 - val_accuracy: 0.7694\n",
      "Epoch 38/50\n",
      "45/45 [==============================] - 1s 18ms/step - loss: 0.5725 - accuracy: 0.7616 - val_loss: 0.5550 - val_accuracy: 0.7694\n",
      "Epoch 39/50\n",
      "45/45 [==============================] - 1s 18ms/step - loss: 0.5714 - accuracy: 0.7622 - val_loss: 0.5542 - val_accuracy: 0.7713\n",
      "Epoch 40/50\n",
      "45/45 [==============================] - 1s 17ms/step - loss: 0.5702 - accuracy: 0.7626 - val_loss: 0.5532 - val_accuracy: 0.7710\n",
      "Epoch 41/50\n",
      "45/45 [==============================] - 1s 17ms/step - loss: 0.5690 - accuracy: 0.7630 - val_loss: 0.5519 - val_accuracy: 0.7715\n",
      "Epoch 42/50\n",
      "45/45 [==============================] - 1s 17ms/step - loss: 0.5679 - accuracy: 0.7636 - val_loss: 0.5512 - val_accuracy: 0.7716\n",
      "Epoch 43/50\n",
      "45/45 [==============================] - 1s 17ms/step - loss: 0.5668 - accuracy: 0.7644 - val_loss: 0.5501 - val_accuracy: 0.7721\n",
      "Epoch 44/50\n",
      "45/45 [==============================] - 1s 16ms/step - loss: 0.5657 - accuracy: 0.7648 - val_loss: 0.5491 - val_accuracy: 0.7728\n",
      "Epoch 45/50\n",
      "45/45 [==============================] - 1s 17ms/step - loss: 0.5646 - accuracy: 0.7652 - val_loss: 0.5483 - val_accuracy: 0.7734\n",
      "Epoch 46/50\n",
      "45/45 [==============================] - 1s 17ms/step - loss: 0.5635 - accuracy: 0.7657 - val_loss: 0.5474 - val_accuracy: 0.7754\n",
      "Epoch 47/50\n",
      "45/45 [==============================] - 1s 19ms/step - loss: 0.5625 - accuracy: 0.7662 - val_loss: 0.5462 - val_accuracy: 0.7753\n",
      "Epoch 48/50\n",
      "45/45 [==============================] - 1s 18ms/step - loss: 0.5614 - accuracy: 0.7669 - val_loss: 0.5454 - val_accuracy: 0.7765\n",
      "Epoch 49/50\n",
      "45/45 [==============================] - 1s 18ms/step - loss: 0.5604 - accuracy: 0.7678 - val_loss: 0.5444 - val_accuracy: 0.7775\n",
      "Epoch 50/50\n",
      "45/45 [==============================] - 1s 17ms/step - loss: 0.5594 - accuracy: 0.7681 - val_loss: 0.5438 - val_accuracy: 0.7776\n"
     ]
    }
   ],
   "source": [
    "nnlm_model = build_model(nnlm_module, 'nnlm')\n",
    "nnlm_history = train_and_evaluate(data, val_data, nnlm_model)"
   ]
  },
  {
   "cell_type": "code",
   "execution_count": 40,
   "metadata": {},
   "outputs": [
    {
     "data": {
      "text/plain": [
       "<Axes: >"
      ]
     },
     "execution_count": 40,
     "metadata": {},
     "output_type": "execute_result"
    },
    {
     "data": {
      "image/png": "[encoded data removed]",
      "text/plain": [
       "<Figure size 640x480 with 1 Axes>"
      ]
     },
     "metadata": {},
     "output_type": "display_data"
    },
    {
     "data": {
      "image/png": "[encoded data removed]",
      "text/plain": [
       "<Figure size 640x480 with 1 Axes>"
      ]
     },
     "metadata": {},
     "output_type": "display_data"
    }
   ],
   "source": [
    "history = nnlm_history\n",
    "pd.DataFrame(history.history)[['loss', 'val_loss']].plot()\n",
    "pd.DataFrame(history.history)[['accuracy', 'val_accuracy']].plot()"
   ]
  },
  {
   "cell_type": "markdown",
   "metadata": {},
   "source": [
    "## Training Swivel"
   ]
  },
  {
   "cell_type": "code",
   "execution_count": 41,
   "metadata": {},
   "outputs": [],
   "source": [
    "swivel_model = build_model(swivel_module, name='swivel')"
   ]
  },
  {
   "cell_type": "code",
   "execution_count": 42,
   "metadata": {},
   "outputs": [
    {
     "name": "stdout",
     "output_type": "stream",
     "text": [
      "Epoch 1/50\n",
      "45/45 [==============================] - 2s 22ms/step - loss: 1.0572 - accuracy: 0.5272 - val_loss: 0.9691 - val_accuracy: 0.5588\n",
      "Epoch 2/50\n",
      "45/45 [==============================] - 1s 19ms/step - loss: 0.9378 - accuracy: 0.5735 - val_loss: 0.8915 - val_accuracy: 0.6010\n",
      "Epoch 3/50\n",
      "45/45 [==============================] - 1s 19ms/step - loss: 0.8816 - accuracy: 0.6087 - val_loss: 0.8485 - val_accuracy: 0.6272\n",
      "Epoch 4/50\n",
      "45/45 [==============================] - 1s 17ms/step - loss: 0.8484 - accuracy: 0.6284 - val_loss: 0.8215 - val_accuracy: 0.6413\n",
      "Epoch 5/50\n",
      "45/45 [==============================] - 1s 17ms/step - loss: 0.8270 - accuracy: 0.6402 - val_loss: 0.8046 - val_accuracy: 0.6535\n",
      "Epoch 6/50\n",
      "45/45 [==============================] - 1s 20ms/step - loss: 0.8134 - accuracy: 0.6477 - val_loss: 0.7941 - val_accuracy: 0.6586\n",
      "Epoch 7/50\n",
      "45/45 [==============================] - 1s 20ms/step - loss: 0.8045 - accuracy: 0.6524 - val_loss: 0.7874 - val_accuracy: 0.6608\n",
      "Epoch 8/50\n",
      "45/45 [==============================] - 1s 19ms/step - loss: 0.7983 - accuracy: 0.6560 - val_loss: 0.7828 - val_accuracy: 0.6622\n",
      "Epoch 9/50\n",
      "45/45 [==============================] - 1s 17ms/step - loss: 0.7938 - accuracy: 0.6585 - val_loss: 0.7793 - val_accuracy: 0.6638\n",
      "Epoch 10/50\n",
      "45/45 [==============================] - 1s 18ms/step - loss: 0.7902 - accuracy: 0.6604 - val_loss: 0.7766 - val_accuracy: 0.6649\n",
      "Epoch 11/50\n",
      "45/45 [==============================] - 1s 18ms/step - loss: 0.7872 - accuracy: 0.6617 - val_loss: 0.7738 - val_accuracy: 0.6674\n",
      "Epoch 12/50\n",
      "45/45 [==============================] - 1s 20ms/step - loss: 0.7847 - accuracy: 0.6627 - val_loss: 0.7716 - val_accuracy: 0.6676\n",
      "Epoch 13/50\n",
      "45/45 [==============================] - 1s 18ms/step - loss: 0.7823 - accuracy: 0.6637 - val_loss: 0.7696 - val_accuracy: 0.6687\n",
      "Epoch 14/50\n",
      "45/45 [==============================] - 1s 18ms/step - loss: 0.7802 - accuracy: 0.6651 - val_loss: 0.7676 - val_accuracy: 0.6703\n",
      "Epoch 15/50\n",
      "45/45 [==============================] - 1s 19ms/step - loss: 0.7780 - accuracy: 0.6662 - val_loss: 0.7655 - val_accuracy: 0.6723\n",
      "Epoch 16/50\n",
      "45/45 [==============================] - 1s 19ms/step - loss: 0.7759 - accuracy: 0.6673 - val_loss: 0.7636 - val_accuracy: 0.6735\n",
      "Epoch 17/50\n",
      "45/45 [==============================] - 1s 17ms/step - loss: 0.7739 - accuracy: 0.6684 - val_loss: 0.7617 - val_accuracy: 0.6737\n",
      "Epoch 18/50\n",
      "45/45 [==============================] - 1s 18ms/step - loss: 0.7720 - accuracy: 0.6691 - val_loss: 0.7597 - val_accuracy: 0.6767\n",
      "Epoch 19/50\n",
      "45/45 [==============================] - 1s 18ms/step - loss: 0.7702 - accuracy: 0.6699 - val_loss: 0.7580 - val_accuracy: 0.6766\n",
      "Epoch 20/50\n",
      "45/45 [==============================] - 1s 19ms/step - loss: 0.7686 - accuracy: 0.6712 - val_loss: 0.7566 - val_accuracy: 0.6787\n",
      "Epoch 21/50\n",
      "45/45 [==============================] - 1s 17ms/step - loss: 0.7671 - accuracy: 0.6718 - val_loss: 0.7549 - val_accuracy: 0.6789\n",
      "Epoch 22/50\n",
      "45/45 [==============================] - 1s 20ms/step - loss: 0.7657 - accuracy: 0.6728 - val_loss: 0.7540 - val_accuracy: 0.6787\n",
      "Epoch 23/50\n",
      "45/45 [==============================] - 1s 18ms/step - loss: 0.7645 - accuracy: 0.6733 - val_loss: 0.7524 - val_accuracy: 0.6798\n",
      "Epoch 24/50\n",
      "45/45 [==============================] - 1s 17ms/step - loss: 0.7633 - accuracy: 0.6741 - val_loss: 0.7518 - val_accuracy: 0.6799\n",
      "Epoch 25/50\n",
      "45/45 [==============================] - 1s 18ms/step - loss: 0.7623 - accuracy: 0.6743 - val_loss: 0.7504 - val_accuracy: 0.6798\n",
      "Epoch 26/50\n",
      "45/45 [==============================] - 1s 18ms/step - loss: 0.7613 - accuracy: 0.6751 - val_loss: 0.7495 - val_accuracy: 0.6804\n",
      "Epoch 27/50\n",
      "45/45 [==============================] - 1s 17ms/step - loss: 0.7605 - accuracy: 0.6754 - val_loss: 0.7486 - val_accuracy: 0.6806\n",
      "Epoch 28/50\n",
      "45/45 [==============================] - 1s 19ms/step - loss: 0.7597 - accuracy: 0.6758 - val_loss: 0.7477 - val_accuracy: 0.6813\n",
      "Epoch 29/50\n",
      "45/45 [==============================] - 1s 19ms/step - loss: 0.7589 - accuracy: 0.6762 - val_loss: 0.7471 - val_accuracy: 0.6808\n",
      "Epoch 30/50\n",
      "45/45 [==============================] - 1s 17ms/step - loss: 0.7582 - accuracy: 0.6765 - val_loss: 0.7464 - val_accuracy: 0.6815\n",
      "Epoch 31/50\n",
      "45/45 [==============================] - 1s 19ms/step - loss: 0.7576 - accuracy: 0.6769 - val_loss: 0.7457 - val_accuracy: 0.6838\n",
      "Epoch 32/50\n",
      "45/45 [==============================] - 1s 18ms/step - loss: 0.7570 - accuracy: 0.6775 - val_loss: 0.7450 - val_accuracy: 0.6829\n",
      "Epoch 33/50\n",
      "45/45 [==============================] - 1s 18ms/step - loss: 0.7564 - accuracy: 0.6773 - val_loss: 0.7445 - val_accuracy: 0.6834\n",
      "Epoch 34/50\n",
      "45/45 [==============================] - 1s 20ms/step - loss: 0.7559 - accuracy: 0.6779 - val_loss: 0.7438 - val_accuracy: 0.6845\n",
      "Epoch 35/50\n",
      "45/45 [==============================] - 1s 20ms/step - loss: 0.7553 - accuracy: 0.6780 - val_loss: 0.7432 - val_accuracy: 0.6835\n",
      "Epoch 36/50\n",
      "45/45 [==============================] - 1s 17ms/step - loss: 0.7548 - accuracy: 0.6781 - val_loss: 0.7428 - val_accuracy: 0.6832\n",
      "Epoch 37/50\n",
      "45/45 [==============================] - 1s 16ms/step - loss: 0.7542 - accuracy: 0.6784 - val_loss: 0.7432 - val_accuracy: 0.6843\n",
      "Epoch 38/50\n",
      "45/45 [==============================] - 1s 15ms/step - loss: 0.7540 - accuracy: 0.6782 - val_loss: 0.7416 - val_accuracy: 0.6833\n",
      "Epoch 39/50\n",
      "45/45 [==============================] - 1s 22ms/step - loss: 0.7534 - accuracy: 0.6790 - val_loss: 0.7414 - val_accuracy: 0.6832\n",
      "Epoch 40/50\n",
      "45/45 [==============================] - 1s 17ms/step - loss: 0.7529 - accuracy: 0.6789 - val_loss: 0.7409 - val_accuracy: 0.6843\n",
      "Epoch 41/50\n",
      "45/45 [==============================] - 1s 16ms/step - loss: 0.7525 - accuracy: 0.6788 - val_loss: 0.7401 - val_accuracy: 0.6861\n",
      "Epoch 42/50\n",
      "45/45 [==============================] - 1s 17ms/step - loss: 0.7522 - accuracy: 0.6792 - val_loss: 0.7405 - val_accuracy: 0.6856\n",
      "Epoch 43/50\n",
      "45/45 [==============================] - 1s 16ms/step - loss: 0.7518 - accuracy: 0.6794 - val_loss: 0.7395 - val_accuracy: 0.6862\n",
      "Epoch 44/50\n",
      "45/45 [==============================] - 1s 17ms/step - loss: 0.7514 - accuracy: 0.6796 - val_loss: 0.7394 - val_accuracy: 0.6855\n",
      "Epoch 45/50\n",
      "45/45 [==============================] - 1s 21ms/step - loss: 0.7511 - accuracy: 0.6797 - val_loss: 0.7386 - val_accuracy: 0.6847\n",
      "Epoch 46/50\n",
      "45/45 [==============================] - 1s 20ms/step - loss: 0.7507 - accuracy: 0.6800 - val_loss: 0.7389 - val_accuracy: 0.6865\n",
      "Epoch 47/50\n",
      "45/45 [==============================] - 1s 25ms/step - loss: 0.7504 - accuracy: 0.6802 - val_loss: 0.7382 - val_accuracy: 0.6865\n",
      "Epoch 48/50\n",
      "45/45 [==============================] - 1s 23ms/step - loss: 0.7500 - accuracy: 0.6802 - val_loss: 0.7381 - val_accuracy: 0.6863\n",
      "Epoch 49/50\n",
      "45/45 [==============================] - 1s 24ms/step - loss: 0.7498 - accuracy: 0.6805 - val_loss: 0.7378 - val_accuracy: 0.6862\n",
      "Epoch 50/50\n",
      "45/45 [==============================] - 1s 22ms/step - loss: 0.7495 - accuracy: 0.6805 - val_loss: 0.7375 - val_accuracy: 0.6860\n"
     ]
    }
   ],
   "source": [
    "swivel_history = train_and_evaluate(data, val_data, swivel_model)"
   ]
  },
  {
   "cell_type": "code",
   "execution_count": 43,
   "metadata": {},
   "outputs": [
    {
     "data": {
      "text/plain": [
       "<Axes: >"
      ]
     },
     "execution_count": 43,
     "metadata": {},
     "output_type": "execute_result"
    },
    {
     "data": {
      "image/png": "[encoded data removed]",
      "text/plain": [
       "<Figure size 640x480 with 1 Axes>"
      ]
     },
     "metadata": {},
     "output_type": "display_data"
    },
    {
     "data": {
      "image/png": "[encoded data removed]",
      "text/plain": [
       "<Figure size 640x480 with 1 Axes>"
      ]
     },
     "metadata": {},
     "output_type": "display_data"
    }
   ],
   "source": [
    "history = swivel_history\n",
    "pd.DataFrame(history.history)[['loss', 'val_loss']].plot()\n",
    "pd.DataFrame(history.history)[['accuracy', 'val_accuracy']].plot()"
   ]
  },
  {
   "cell_type": "markdown",
   "metadata": {},
   "source": [
    "Swivel trains faster but achieves a lower validation accuracy, and requires more epochs to train on."
   ]
  },
  {
   "cell_type": "markdown",
   "metadata": {},
   "source": [
    "## Deploying the model"
   ]
  },
  {
   "cell_type": "markdown",
   "metadata": {},
   "source": [
    "The first step is to serialize one of our trained Keras model as a SavedModel:"
   ]
  },
  {
   "cell_type": "code",
   "execution_count": 44,
   "metadata": {},
   "outputs": [
    {
     "name": "stdout",
     "output_type": "stream",
     "text": [
      "INFO:tensorflow:Assets written to: ./savedmodels/swivel/assets\n"
     ]
    },
    {
     "name": "stderr",
     "output_type": "stream",
     "text": [
      "INFO:tensorflow:Assets written to: ./savedmodels/swivel/assets\n"
     ]
    }
   ],
   "source": [
    "OUTPUT_DIR = \"./savedmodels\"\n",
    "shutil.rmtree(OUTPUT_DIR, ignore_errors=True)\n",
    "\n",
    "EXPORT_PATH = os.path.join(OUTPUT_DIR, 'swivel')\n",
    "os.environ['EXPORT_PATH'] = EXPORT_PATH\n",
    "\n",
    "shutil.rmtree(EXPORT_PATH, ignore_errors=True)\n",
    "\n",
    "tf.saved_model.save(swivel_model, EXPORT_PATH)"
   ]
  },
  {
   "cell_type": "markdown",
   "metadata": {},
   "source": [
    "Then we can deploy the model using the gcloud CLI as before:"
   ]
  },
  {
   "cell_type": "markdown",
   "metadata": {},
   "source": [
    "### Lab Task 3a: Complete the following script to deploy the swivel model "
   ]
  },
  {
   "cell_type": "code",
   "execution_count": 43,
   "metadata": {},
   "outputs": [
    {
     "name": "stderr",
     "output_type": "stream",
     "text": [
      "Using endpoint [https://us-central1-ml.googleapis.com/]\n"
     ]
    },
    {
     "name": "stdout",
     "output_type": "stream",
     "text": [
      "Creating title_model\n"
     ]
    },
    {
     "name": "stderr",
     "output_type": "stream",
     "text": [
      "Using endpoint [https://us-central1-ml.googleapis.com/]\n",
      "Created ai platform model [projects/qwiklabs-gcp-04-af059b23c3fc/models/title_model].\n",
      "Using endpoint [https://us-central1-ml.googleapis.com/]\n"
     ]
    },
    {
     "name": "stdout",
     "output_type": "stream",
     "text": [
      "Creating title_model:swivel\n"
     ]
    },
    {
     "name": "stderr",
     "output_type": "stream",
     "text": [
      "Using endpoint [https://us-central1-ml.googleapis.com/]\n",
      "Creating version (this might take a few minutes)......\n",
      "...............................................................................................................................................................................................................................................................................................................................................................................................................................................................................................................................................................................................................................................................................................................................................................................................................................................................................................................................................................................................................................................................................................................................................................................................................................................................................................................................................................................................................................................................................................................................................................................................................................................................................................................................................................................................................................................................................................................................................................................................................................................................................................................................................................................................................................................................................................................................................................................................................................................................................................................................................................................................................................................................................................................................................................................................................................................................................................................................................................................................................................................................................................................................................................................................................................................................................................................................................................................................................................................................................................................................................................................................................done.\n"
     ]
    }
   ],
   "source": [
    "%%bash\n",
    "\n",
    "# TODO 5\n",
    "\n",
    "MODEL_NAME=title_model\n",
    "VERSION_NAME=swivel\n",
    "\n",
    "if [[ $(gcloud ai-platform models list --format='value(name)' | grep ^$MODEL_NAME$) ]]; then\n",
    "    echo \"$MODEL_NAME already exists\"\n",
    "else\n",
    "    echo \"Creating $MODEL_NAME\"\n",
    "    gcloud ai-platform models create --region=$REGION $MODEL_NAME\n",
    "fi\n",
    "\n",
    "if [[ $(gcloud ai-platform versions list --model $MODEL_NAME --format='value(name)' | grep ^$VERSION_NAME$) ]]; then\n",
    "    echo \"Deleting already existing $MODEL_NAME:$VERSION_NAME ... \"\n",
    "    echo yes | gcloud ai-platform versions delete --model=$MODEL_NAME $VERSION_NAME\n",
    "    echo \"Please run this cell again if you don't see a Creating message ... \"\n",
    "    sleep 2\n",
    "fi\n",
    "\n",
    "echo \"Creating $MODEL_NAME:$VERSION_NAME\"\n",
    "gcloud ai-platform versions create \\\n",
    "  --model=$MODEL_NAME \\\n",
    "  --framework=# TODO \\\n",
    "  --python-version=# TODO \\\n",
    "  --runtime-version=2.1 \\\n",
    "  --origin=# TODO \\\n",
    "  --staging-bucket=# TODO \\\n",
    "  --machine-type n1-standard-4 \\\n",
    "  --region=$REGION"
   ]
  },
  {
   "cell_type": "markdown",
   "metadata": {},
   "source": [
    "Before we try our deployed model, let's inspect its signature to know what to send to the deployed API:"
   ]
  },
  {
   "cell_type": "code",
   "execution_count": 44,
   "metadata": {},
   "outputs": [
    {
     "name": "stdout",
     "output_type": "stream",
     "text": [
      "The given SavedModel SignatureDef contains the following input(s):\n",
      "  inputs['keras_layer_1_input'] tensor_info:\n",
      "      dtype: DT_STRING\n",
      "      shape: (-1)\n",
      "      name: serving_default_keras_layer_1_input:0\n",
      "The given SavedModel SignatureDef contains the following output(s):\n",
      "  outputs['dense_3'] tensor_info:\n",
      "      dtype: DT_FLOAT\n",
      "      shape: (-1, 3)\n",
      "      name: StatefulPartitionedCall_2:0\n",
      "Method name is: tensorflow/serving/predict\n",
      "./savedmodels/swivel\n",
      "./savedmodels/swivel/assets\n",
      "./savedmodels/swivel/assets/tokens.txt\n",
      "./savedmodels/swivel/variables\n",
      "./savedmodels/swivel/variables/variables.index\n",
      "./savedmodels/swivel/variables/variables.data-00000-of-00001\n",
      "./savedmodels/swivel/saved_model.pb\n"
     ]
    }
   ],
   "source": [
    "!saved_model_cli show \\\n",
    " --tag_set serve \\\n",
    " --signature_def serving_default \\\n",
    " --dir {EXPORT_PATH}\n",
    "!find {EXPORT_PATH}"
   ]
  },
  {
   "cell_type": "markdown",
   "metadata": {},
   "source": [
    "Let's go ahead and hit our model:"
   ]
  },
  {
   "cell_type": "markdown",
   "metadata": {},
   "source": [
    "### Lab Task 3b: Create the JSON object to send a title to the API  you just deployed\n",
    "(**Hint:** Look at the 'saved_model_cli show' command output above.)"
   ]
  },
  {
   "cell_type": "code",
   "execution_count": 45,
   "metadata": {},
   "outputs": [
    {
     "name": "stdout",
     "output_type": "stream",
     "text": [
      "Writing input.json\n"
     ]
    }
   ],
   "source": [
    "%%writefile input.json\n",
    "{# TODO}"
   ]
  },
  {
   "cell_type": "code",
   "execution_count": 46,
   "metadata": {},
   "outputs": [
    {
     "name": "stdout",
     "output_type": "stream",
     "text": [
      "Using endpoint [https://us-central1-ml.googleapis.com/]\n",
      "[[0.885626853, 0.0408654884, 0.0735076517]]\n"
     ]
    }
   ],
   "source": [
    "!gcloud ai-platform predict \\\n",
    "  --model title_model \\\n",
    "  --json-instances input.json \\\n",
    "  --version swivel \\\n",
    "  --region=$REGION"
   ]
  },
  {
   "cell_type": "markdown",
   "metadata": {},
   "source": [
    "## Bonus"
   ]
  },
  {
   "cell_type": "markdown",
   "metadata": {},
   "source": [
    "Try to beat the best model by modifying the model architecture, changing the TF-Hub embedding, and tweaking the training parameters."
   ]
  },
  {
   "cell_type": "markdown",
   "metadata": {},
   "source": [
    "Copyright 2023 Google Inc. Licensed under the Apache License, Version 2.0 (the \"License\"); you may not use this file except in compliance with the License. You may obtain a copy of the License at http://www.apache.org/licenses/LICENSE-2.0 Unless required by applicable law or agreed to in writing, software distributed under the License is distributed on an \"AS IS\" BASIS, WITHOUT WARRANTIES OR CONDITIONS OF ANY KIND, either express or implied. See the License for the specific language governing permissions and limitations under the License"
   ]
  }
 ],
 "metadata": {
  "environment": {
   "kernel": "python3",
   "name": "tf2-gpu.2-6.m109",
   "type": "gcloud",
   "uri": "gcr.io/deeplearning-platform-release/tf2-gpu.2-6:m109"
  },
  "kernelspec": {
   "display_name": "Python 3",
   "language": "python",
   "name": "python3"
  },
  "language_info": {
   "codemirror_mode": {
    "name": "ipython",
    "version": 3
   },
   "file_extension": ".py",
   "mimetype": "text/x-python",
   "name": "python",
   "nbconvert_exporter": "python",
   "pygments_lexer": "ipython3",
   "version": "3.11.8"
  }
 },
 "nbformat": 4,
 "nbformat_minor": 4
}
