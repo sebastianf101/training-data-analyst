{
 "cells": [
  {
   "cell_type": "markdown",
   "metadata": {
    "deletable": true,
    "editable": true
   },
   "source": [
    "# Collaborative Filtering on Google Analytics Data\n"
   ]
  },
  {
   "cell_type": "markdown",
   "metadata": {},
   "source": [
    "### Learning objectives\n",
    "1. Prepare the user-item matrix and use it with WALS.\n",
    "2. Train a `WALSMatrixFactorization` within TensorFlow locally and on AI Platform.\n",
    "3. Visualize the embedding vectors with principal components analysis.\n"
   ]
  },
  {
   "cell_type": "markdown",
   "metadata": {},
   "source": [
    "## Overview\n",
    "This notebook demonstrates how to implement a WALS matrix refactorization approach to do collaborative filtering.\n",
    "\n",
    "Each learning objective will correspond to a __#TODO__ in the notebook, where you will complete the notebook cell's code before running the cell. Refer to the [solution notebook](../solutions/wals.ipynb) for reference.\n"
   ]
  },
  {
   "cell_type": "code",
   "execution_count": 1,
   "metadata": {
    "collapsed": false,
    "deletable": true,
    "editable": true,
    "jupyter": {
     "outputs_hidden": false
    }
   },
   "outputs": [],
   "source": [
    "import os\n",
    "PROJECT = \"testbed-412418\" # REPLACE WITH YOUR PROJECT ID\n",
    "BUCKET = \"testbed-412418\" # REPLACE WITH YOUR BUCKET NAME\n",
    "REGION = \"us-central1\" # REPLACE WITH YOUR BUCKET REGION e.g. us-central1\n",
    "\n",
    "# Do not change these\n",
    "os.environ[\"PROJECT\"] = PROJECT\n",
    "os.environ[\"BUCKET\"] = BUCKET\n",
    "os.environ[\"REGION\"] = REGION\n",
    "os.environ[\"TFVERSION\"] = \"2.15\""
   ]
  },
  {
   "cell_type": "code",
   "execution_count": 2,
   "metadata": {
    "collapsed": false,
    "deletable": true,
    "editable": true,
    "jupyter": {
     "outputs_hidden": false
    }
   },
   "outputs": [
    {
     "name": "stderr",
     "output_type": "stream",
     "text": [
      "WARNING: Your active project does not match the quota project in your local Application Default Credentials file. This might result in unexpected quota issues.\n",
      "\n",
      "To update your Application Default Credentials quota project, use the `gcloud auth application-default set-quota-project` command.\n",
      "Updated property [core/project].\n",
      "Updated property [compute/region].\n"
     ]
    }
   ],
   "source": [
    "%%bash\n",
    "gcloud config set project $PROJECT\n",
    "gcloud config set compute/region $REGION"
   ]
  },
  {
   "cell_type": "code",
   "execution_count": 3,
   "metadata": {
    "collapsed": false,
    "deletable": true,
    "editable": true,
    "jupyter": {
     "outputs_hidden": false
    }
   },
   "outputs": [
    {
     "name": "stderr",
     "output_type": "stream",
     "text": [
      "2024-03-09 12:45:37.898905: I tensorflow/core/util/port.cc:113] oneDNN custom operations are on. You may see slightly different numerical results due to floating-point round-off errors from different computation orders. To turn them off, set the environment variable `TF_ENABLE_ONEDNN_OPTS=0`.\n",
      "2024-03-09 12:45:38.221214: I tensorflow/core/platform/cpu_feature_guard.cc:182] This TensorFlow binary is optimized to use available CPU instructions in performance-critical operations.\n",
      "To enable the following instructions: SSE4.1 SSE4.2 AVX AVX2 AVX512F AVX512_VNNI FMA, in other operations, rebuild TensorFlow with the appropriate compiler flags.\n"
     ]
    },
    {
     "name": "stdout",
     "output_type": "stream",
     "text": [
      "2.15.0\n"
     ]
    }
   ],
   "source": [
    "import tensorflow as tf\n",
    "print(tf.__version__)"
   ]
  },
  {
   "cell_type": "markdown",
   "metadata": {
    "deletable": true,
    "editable": true
   },
   "source": [
    "## Create raw dataset\n",
    "<p>\n",
    "For collaborative filtering, you don't need to know anything about either the users or the content. Essentially, all you need to know is userId, itemId, and rating that the particular user gave the particular item.\n",
    "<p>\n",
    "In this case, you are working with newspaper articles. The company doesn't ask their users to rate the articles. However, you can use the time-spent on the page as a proxy for rating.\n",
    "<p>\n",
    "Normally, you would also add a time filter to this (\"latest 7 days\"), but your dataset is itself limited to a few days."
   ]
  },
  {
   "cell_type": "code",
   "execution_count": 4,
   "metadata": {
    "collapsed": false,
    "deletable": true,
    "editable": true,
    "jupyter": {
     "outputs_hidden": false
    }
   },
   "outputs": [
    {
     "name": "stderr",
     "output_type": "stream",
     "text": [
      "/home/sferro/miniconda3/envs/dev-3712/envs/googleML2/lib/python3.11/site-packages/google/auth/_default.py:76: UserWarning: Your application has authenticated using end user credentials from Google Cloud SDK without a quota project. You might receive a \"quota exceeded\" or \"API not enabled\" error. See the following page for troubleshooting: https://cloud.google.com/docs/authentication/adc-troubleshooting/user-creds. \n",
      "  warnings.warn(_CLOUD_SDK_CREDENTIALS_WARNING)\n"
     ]
    },
    {
     "data": {
      "text/html": [
       "<div>\n",
       "<style scoped>\n",
       "    .dataframe tbody tr th:only-of-type {\n",
       "        vertical-align: middle;\n",
       "    }\n",
       "\n",
       "    .dataframe tbody tr th {\n",
       "        vertical-align: top;\n",
       "    }\n",
       "\n",
       "    .dataframe thead th {\n",
       "        text-align: right;\n",
       "    }\n",
       "</style>\n",
       "<table border=\"1\" class=\"dataframe\">\n",
       "  <thead>\n",
       "    <tr style=\"text-align: right;\">\n",
       "      <th></th>\n",
       "      <th>visitorId</th>\n",
       "      <th>contentId</th>\n",
       "      <th>session_duration</th>\n",
       "    </tr>\n",
       "  </thead>\n",
       "  <tbody>\n",
       "    <tr>\n",
       "      <th>0</th>\n",
       "      <td>1128668233820115027-1</td>\n",
       "      <td>299293352</td>\n",
       "      <td>174546</td>\n",
       "    </tr>\n",
       "    <tr>\n",
       "      <th>1</th>\n",
       "      <td>1206119881575218085-174</td>\n",
       "      <td>299942248</td>\n",
       "      <td>39619</td>\n",
       "    </tr>\n",
       "    <tr>\n",
       "      <th>2</th>\n",
       "      <td>1955822103969464021-944</td>\n",
       "      <td>299913879</td>\n",
       "      <td>100985</td>\n",
       "    </tr>\n",
       "    <tr>\n",
       "      <th>3</th>\n",
       "      <td>2349169794698978793-3</td>\n",
       "      <td>299912151</td>\n",
       "      <td>21451</td>\n",
       "    </tr>\n",
       "    <tr>\n",
       "      <th>4</th>\n",
       "      <td>3025206181189463166-1</td>\n",
       "      <td>791298</td>\n",
       "      <td>79188</td>\n",
       "    </tr>\n",
       "  </tbody>\n",
       "</table>\n",
       "</div>"
      ],
      "text/plain": [
       "                 visitorId  contentId  session_duration\n",
       "0    1128668233820115027-1  299293352            174546\n",
       "1  1206119881575218085-174  299942248             39619\n",
       "2  1955822103969464021-944  299913879            100985\n",
       "3    2349169794698978793-3  299912151             21451\n",
       "4    3025206181189463166-1     791298             79188"
      ]
     },
     "execution_count": 4,
     "metadata": {},
     "output_type": "execute_result"
    }
   ],
   "source": [
    "from google.cloud import bigquery\n",
    "bq = bigquery.Client(project = PROJECT)\n",
    "\n",
    "sql = \"\"\"\n",
    "WITH CTE_visitor_page_content AS (\n",
    "    SELECT\n",
    "        # Schema: https://support.google.com/analytics/answer/3437719?hl=en\n",
    "        # For a completely unique visit-session ID, you combine combination of fullVisitorId and visitNumber:\n",
    "        CONCAT(fullVisitorID,'-',CAST(visitNumber AS STRING)) AS visitorId,\n",
    "        (SELECT MAX(IF(index=10, value, NULL)) FROM UNNEST(hits.customDimensions)) AS latestContentId,  \n",
    "        (LEAD(hits.time, 1) OVER (PARTITION BY fullVisitorId ORDER BY hits.time ASC) - hits.time) AS session_duration \n",
    "    FROM\n",
    "        `cloud-training-demos.GA360_test.ga_sessions_sample`,   \n",
    "        UNNEST(hits) AS hits\n",
    "    WHERE \n",
    "        # only include hits on pages\n",
    "        hits.type = \"PAGE\"\n",
    "GROUP BY   \n",
    "        fullVisitorId,\n",
    "        visitNumber,\n",
    "        latestContentId,\n",
    "        hits.time )\n",
    "-- Aggregate web stats\n",
    "SELECT   \n",
    "    visitorId,\n",
    "    latestContentId as contentId,\n",
    "    SUM(session_duration) AS session_duration\n",
    "FROM\n",
    "    CTE_visitor_page_content\n",
    "WHERE\n",
    "    latestContentId IS NOT NULL \n",
    "GROUP BY\n",
    "    visitorId, \n",
    "    latestContentId\n",
    "HAVING \n",
    "    session_duration > 0\n",
    "\"\"\"\n",
    "\n",
    "df = bq.query(sql).to_dataframe()\n",
    "df.head()"
   ]
  },
  {
   "cell_type": "code",
   "execution_count": 5,
   "metadata": {
    "collapsed": false,
    "deletable": true,
    "editable": true,
    "jupyter": {
     "outputs_hidden": false
    }
   },
   "outputs": [
    {
     "data": {
      "text/html": [
       "<div>\n",
       "<style scoped>\n",
       "    .dataframe tbody tr th:only-of-type {\n",
       "        vertical-align: middle;\n",
       "    }\n",
       "\n",
       "    .dataframe tbody tr th {\n",
       "        vertical-align: top;\n",
       "    }\n",
       "\n",
       "    .dataframe thead th {\n",
       "        text-align: right;\n",
       "    }\n",
       "</style>\n",
       "<table border=\"1\" class=\"dataframe\">\n",
       "  <thead>\n",
       "    <tr style=\"text-align: right;\">\n",
       "      <th></th>\n",
       "      <th>session_duration</th>\n",
       "    </tr>\n",
       "  </thead>\n",
       "  <tbody>\n",
       "    <tr>\n",
       "      <th>count</th>\n",
       "      <td>283124.0</td>\n",
       "    </tr>\n",
       "    <tr>\n",
       "      <th>mean</th>\n",
       "      <td>125249.144523</td>\n",
       "    </tr>\n",
       "    <tr>\n",
       "      <th>std</th>\n",
       "      <td>231842.797581</td>\n",
       "    </tr>\n",
       "    <tr>\n",
       "      <th>min</th>\n",
       "      <td>1.0</td>\n",
       "    </tr>\n",
       "    <tr>\n",
       "      <th>25%</th>\n",
       "      <td>16234.0</td>\n",
       "    </tr>\n",
       "    <tr>\n",
       "      <th>50%</th>\n",
       "      <td>56620.5</td>\n",
       "    </tr>\n",
       "    <tr>\n",
       "      <th>75%</th>\n",
       "      <td>127640.5</td>\n",
       "    </tr>\n",
       "    <tr>\n",
       "      <th>max</th>\n",
       "      <td>7690598.0</td>\n",
       "    </tr>\n",
       "  </tbody>\n",
       "</table>\n",
       "</div>"
      ],
      "text/plain": [
       "       session_duration\n",
       "count          283124.0\n",
       "mean      125249.144523\n",
       "std       231842.797581\n",
       "min                 1.0\n",
       "25%             16234.0\n",
       "50%             56620.5\n",
       "75%            127640.5\n",
       "max           7690598.0"
      ]
     },
     "execution_count": 5,
     "metadata": {},
     "output_type": "execute_result"
    }
   ],
   "source": [
    "stats = df.describe()\n",
    "stats"
   ]
  },
  {
   "cell_type": "code",
   "execution_count": 6,
   "metadata": {},
   "outputs": [
    {
     "data": {
      "text/plain": [
       "<Axes: ylabel='Frequency'>"
      ]
     },
     "execution_count": 6,
     "metadata": {},
     "output_type": "execute_result"
    },
    {
     "data": {
      "image/png": "[encoded data removed]",
      "text/plain": [
       "<Figure size 800x500 with 1 Axes>"
      ]
     },
     "metadata": {},
     "output_type": "display_data"
    }
   ],
   "source": [
    "df[[\"session_duration\"]].plot(kind=\"hist\", logy=True, bins=100, figsize=[8,5])"
   ]
  },
  {
   "cell_type": "code",
   "execution_count": 7,
   "metadata": {
    "collapsed": false,
    "deletable": true,
    "editable": true,
    "jupyter": {
     "outputs_hidden": false
    }
   },
   "outputs": [
    {
     "data": {
      "text/plain": [
       "<Axes: ylabel='Frequency'>"
      ]
     },
     "execution_count": 7,
     "metadata": {},
     "output_type": "execute_result"
    },
    {
     "data": {
      "image/png": "[encoded data removed]",
      "text/plain": [
       "<Figure size 800x500 with 1 Axes>"
      ]
     },
     "metadata": {},
     "output_type": "display_data"
    }
   ],
   "source": [
    "# The rating is the session_duration scaled to be in the range 0-1.  This will help with training.\n",
    "median = stats.loc[\"50%\", \"session_duration\"]\n",
    "df[\"rating\"] = 0.3 * df[\"session_duration\"] / median\n",
    "df.loc[df[\"rating\"] > 1, \"rating\"] = 1\n",
    "df[[\"rating\"]].plot(kind=\"hist\", logy=True, bins=100, figsize=[8,5])"
   ]
  },
  {
   "cell_type": "code",
   "execution_count": 8,
   "metadata": {
    "collapsed": false,
    "deletable": true,
    "editable": true,
    "jupyter": {
     "outputs_hidden": false
    }
   },
   "outputs": [],
   "source": [
    "del df[\"session_duration\"]"
   ]
  },
  {
   "cell_type": "code",
   "execution_count": 9,
   "metadata": {
    "collapsed": false,
    "deletable": true,
    "editable": true,
    "jupyter": {
     "outputs_hidden": false
    }
   },
   "outputs": [],
   "source": [
    "%%bash\n",
    "rm -rf data\n",
    "mkdir data"
   ]
  },
  {
   "cell_type": "code",
   "execution_count": 17,
   "metadata": {
    "collapsed": false,
    "deletable": true,
    "editable": true,
    "jupyter": {
     "outputs_hidden": false
    }
   },
   "outputs": [],
   "source": [
    "# Write object to a comma-separated values (csv) file.\n",
    "# TODO 1: Your code here\n",
    "df.to_csv('data/collab_raw.csv', header=False, index=False)"
   ]
  },
  {
   "cell_type": "code",
   "execution_count": 18,
   "metadata": {
    "collapsed": false,
    "deletable": true,
    "editable": true,
    "jupyter": {
     "outputs_hidden": false
    }
   },
   "outputs": [
    {
     "name": "stdout",
     "output_type": "stream",
     "text": [
      "1128668233820115027-1,299293352,0.9248205155376585\n",
      "1206119881575218085-174,299942248,0.20991866903330064\n",
      "1955822103969464021-944,299913879,0.5350623890640316\n",
      "2349169794698978793-3,299912151,0.11365671444088273\n",
      "3025206181189463166-1,791298,0.41957241635096826\n",
      "3093020497862839474-2,109249612,0.1685220017484833\n",
      "354444681398355987-356,299814842,0.12644713487164544\n",
      "3618953176082749245-737,299830996,0.3845921530187829\n",
      "4077654601012599143-12,299934703,0.16457996661986385\n",
      "4826080286115541867-1,299273864,0.5904204307627097\n"
     ]
    }
   ],
   "source": [
    "!head data/collab_raw.csv"
   ]
  },
  {
   "cell_type": "markdown",
   "metadata": {
    "deletable": true,
    "editable": true
   },
   "source": [
    "## Create dataset for WALS\n",
    "<p>\n",
    "The raw dataset (above) won't work for WALS:\n",
    "<ol>\n",
    "<li> The userId and itemId have to be 0,1,2 ... so you need to create a mapping from visitorId (in the raw data) to userId and contentId (in the raw data) to itemId.\n",
    "<li> You will need to save the above mapping to a file because at prediction time, you'll need to know how to map the contentId in the table above to the itemId.\n",
    "<li> You'll need two files: a \"rows\" dataset where all the items for a particular user are listed; and a \"columns\" dataset where all the users for a particular item are listed.\n",
    "</ol>\n",
    "\n",
    "<p>\n",
    "\n",
    "### Mapping"
   ]
  },
  {
   "cell_type": "code",
   "execution_count": 19,
   "metadata": {
    "collapsed": false,
    "deletable": true,
    "editable": true,
    "jupyter": {
     "outputs_hidden": false
    }
   },
   "outputs": [],
   "source": [
    "import pandas as pd\n",
    "import numpy as np\n",
    "def create_mapping(values, filename):\n",
    "    with open(filename, 'w') as ofp:\n",
    "        value_to_id = {value:idx for idx, value in enumerate(values.unique())}\n",
    "        for value, idx in value_to_id.items():\n",
    "            ofp.write(\"{},{}\\n\".format(value, idx))\n",
    "    return value_to_id\n",
    "\n",
    "df = pd.read_csv(filepath_or_buffer = \"data/collab_raw.csv\",\n",
    "                 header = None,\n",
    "                 names = [\"visitorId\", \"contentId\", \"rating\"],\n",
    "                dtype = {\"visitorId\": str, \"contentId\": str, \"rating\": np.float64})\n",
    "df.to_csv(path_or_buf = \"data/collab_raw.csv\", index = False, header = False)\n",
    "user_mapping = create_mapping(df[\"visitorId\"], \"data/users.csv\")\n",
    "item_mapping = create_mapping(df[\"contentId\"], \"data/items.csv\")"
   ]
  },
  {
   "cell_type": "code",
   "execution_count": 13,
   "metadata": {
    "collapsed": false,
    "deletable": true,
    "editable": true,
    "jupyter": {
     "outputs_hidden": false
    }
   },
   "outputs": [
    {
     "name": "stdout",
     "output_type": "stream",
     "text": [
      "==> data/collab_raw.csv <==\n",
      "1012012094517511217-1,299949290,1.0\n",
      "1614877438160481626-349,29455408,1.0\n",
      "1815317450115839569-235,299807267,0.8569622728727375\n",
      "\n",
      "==> data/items.csv <==\n",
      "299949290,0\n",
      "29455408,1\n",
      "299807267,2\n",
      "\n",
      "==> data/users.csv <==\n",
      "1012012094517511217-1,0\n",
      "1614877438160481626-349,1\n",
      "1815317450115839569-235,2\n"
     ]
    }
   ],
   "source": [
    "!head -3 data/*.csv"
   ]
  },
  {
   "cell_type": "code",
   "execution_count": 24,
   "metadata": {},
   "outputs": [
    {
     "data": {
      "text/plain": [
       "builtin_function_or_method"
      ]
     },
     "execution_count": 24,
     "metadata": {},
     "output_type": "execute_result"
    }
   ],
   "source": [
    "type(user_mapping.get)\n"
   ]
  },
  {
   "cell_type": "code",
   "execution_count": 26,
   "metadata": {
    "collapsed": false,
    "deletable": true,
    "editable": true,
    "jupyter": {
     "outputs_hidden": false
    }
   },
   "outputs": [],
   "source": [
    "df[\"userId\"] = df[\"visitorId\"].map(user_mapping.get)\n",
    "df[\"itemId\"] = df[\"contentId\"].map(item_mapping.get)"
   ]
  },
  {
   "cell_type": "code",
   "execution_count": 27,
   "metadata": {
    "collapsed": false,
    "deletable": true,
    "editable": true,
    "jupyter": {
     "outputs_hidden": false
    }
   },
   "outputs": [
    {
     "data": {
      "text/html": [
       "<div>\n",
       "<style scoped>\n",
       "    .dataframe tbody tr th:only-of-type {\n",
       "        vertical-align: middle;\n",
       "    }\n",
       "\n",
       "    .dataframe tbody tr th {\n",
       "        vertical-align: top;\n",
       "    }\n",
       "\n",
       "    .dataframe thead th {\n",
       "        text-align: right;\n",
       "    }\n",
       "</style>\n",
       "<table border=\"1\" class=\"dataframe\">\n",
       "  <thead>\n",
       "    <tr style=\"text-align: right;\">\n",
       "      <th></th>\n",
       "      <th>userId</th>\n",
       "      <th>itemId</th>\n",
       "      <th>rating</th>\n",
       "    </tr>\n",
       "  </thead>\n",
       "  <tbody>\n",
       "    <tr>\n",
       "      <th>0</th>\n",
       "      <td>0</td>\n",
       "      <td>0</td>\n",
       "      <td>0.924821</td>\n",
       "    </tr>\n",
       "    <tr>\n",
       "      <th>1</th>\n",
       "      <td>1</td>\n",
       "      <td>1</td>\n",
       "      <td>0.209919</td>\n",
       "    </tr>\n",
       "    <tr>\n",
       "      <th>2</th>\n",
       "      <td>2</td>\n",
       "      <td>2</td>\n",
       "      <td>0.535062</td>\n",
       "    </tr>\n",
       "    <tr>\n",
       "      <th>3</th>\n",
       "      <td>3</td>\n",
       "      <td>3</td>\n",
       "      <td>0.113657</td>\n",
       "    </tr>\n",
       "    <tr>\n",
       "      <th>4</th>\n",
       "      <td>4</td>\n",
       "      <td>4</td>\n",
       "      <td>0.419572</td>\n",
       "    </tr>\n",
       "  </tbody>\n",
       "</table>\n",
       "</div>"
      ],
      "text/plain": [
       "   userId  itemId    rating\n",
       "0       0       0  0.924821\n",
       "1       1       1  0.209919\n",
       "2       2       2  0.535062\n",
       "3       3       3  0.113657\n",
       "4       4       4  0.419572"
      ]
     },
     "execution_count": 27,
     "metadata": {},
     "output_type": "execute_result"
    }
   ],
   "source": [
    "mapped_df = df[[\"userId\", \"itemId\", \"rating\"]]\n",
    "mapped_df.to_csv(path_or_buf = \"data/collab_mapped.csv\", index = False, header = False)\n",
    "mapped_df.head()"
   ]
  },
  {
   "cell_type": "markdown",
   "metadata": {
    "deletable": true,
    "editable": true
   },
   "source": [
    "### Creating rows and columns datasets"
   ]
  },
  {
   "cell_type": "code",
   "execution_count": 28,
   "metadata": {
    "collapsed": false,
    "deletable": true,
    "editable": true,
    "jupyter": {
     "outputs_hidden": false
    }
   },
   "outputs": [
    {
     "data": {
      "text/html": [
       "<div>\n",
       "<style scoped>\n",
       "    .dataframe tbody tr th:only-of-type {\n",
       "        vertical-align: middle;\n",
       "    }\n",
       "\n",
       "    .dataframe tbody tr th {\n",
       "        vertical-align: top;\n",
       "    }\n",
       "\n",
       "    .dataframe thead th {\n",
       "        text-align: right;\n",
       "    }\n",
       "</style>\n",
       "<table border=\"1\" class=\"dataframe\">\n",
       "  <thead>\n",
       "    <tr style=\"text-align: right;\">\n",
       "      <th></th>\n",
       "      <th>userId</th>\n",
       "      <th>itemId</th>\n",
       "      <th>rating</th>\n",
       "    </tr>\n",
       "  </thead>\n",
       "  <tbody>\n",
       "    <tr>\n",
       "      <th>0</th>\n",
       "      <td>0</td>\n",
       "      <td>0</td>\n",
       "      <td>0.924821</td>\n",
       "    </tr>\n",
       "    <tr>\n",
       "      <th>1</th>\n",
       "      <td>1</td>\n",
       "      <td>1</td>\n",
       "      <td>0.209919</td>\n",
       "    </tr>\n",
       "    <tr>\n",
       "      <th>2</th>\n",
       "      <td>2</td>\n",
       "      <td>2</td>\n",
       "      <td>0.535062</td>\n",
       "    </tr>\n",
       "    <tr>\n",
       "      <th>3</th>\n",
       "      <td>3</td>\n",
       "      <td>3</td>\n",
       "      <td>0.113657</td>\n",
       "    </tr>\n",
       "    <tr>\n",
       "      <th>4</th>\n",
       "      <td>4</td>\n",
       "      <td>4</td>\n",
       "      <td>0.419572</td>\n",
       "    </tr>\n",
       "  </tbody>\n",
       "</table>\n",
       "</div>"
      ],
      "text/plain": [
       "   userId  itemId    rating\n",
       "0       0       0  0.924821\n",
       "1       1       1  0.209919\n",
       "2       2       2  0.535062\n",
       "3       3       3  0.113657\n",
       "4       4       4  0.419572"
      ]
     },
     "execution_count": 28,
     "metadata": {},
     "output_type": "execute_result"
    }
   ],
   "source": [
    "import pandas as pd\n",
    "import numpy as np\n",
    "mapped_df = pd.read_csv(filepath_or_buffer = \"data/collab_mapped.csv\", header = None, names = [\"userId\", \"itemId\", \"rating\"])\n",
    "mapped_df.head()"
   ]
  },
  {
   "cell_type": "code",
   "execution_count": 29,
   "metadata": {
    "collapsed": false,
    "deletable": true,
    "editable": true,
    "jupyter": {
     "outputs_hidden": false
    }
   },
   "outputs": [
    {
     "name": "stdout",
     "output_type": "stream",
     "text": [
      "5596 items, 118858 users, 283124 interactions\n"
     ]
    }
   ],
   "source": [
    "NITEMS = np.max(mapped_df[\"itemId\"]) + 1\n",
    "NUSERS = np.max(mapped_df[\"userId\"]) + 1\n",
    "mapped_df[\"rating\"] = np.round(mapped_df[\"rating\"].values, 2)\n",
    "print(\"{} items, {} users, {} interactions\".format( NITEMS, NUSERS, len(mapped_df) ))"
   ]
  },
  {
   "cell_type": "code",
   "execution_count": 30,
   "metadata": {
    "collapsed": false,
    "deletable": true,
    "editable": true,
    "jupyter": {
     "outputs_hidden": false
    }
   },
   "outputs": [
    {
     "name": "stdout",
     "output_type": "stream",
     "text": [
      "0 [    0  6473 11162 18589 16702 24831 25907 29030 35272 45375 49547] [0.92 1.   0.06 1.   0.77 1.   0.71 0.07 0.44 0.13 0.01]\n",
      "1 [    1   247   285  2864  2909  2929  3289  4119  4773  5822  5976  6075\n",
      "  6440  6661  6778  7156  8271  8852  9172  9425  9960 10103 10532  1835\n",
      " 11049 11083 11477 11655  3195  3960 12702 12837 14443 14535 15463 15714\n",
      " 16229 16367 11702  4127 17767 18107 18309 18602 18678 19031 15279  4727\n",
      " 20371  2327 20727 20798 21450  3943 19690 21952 10205 22233 22504 22678\n",
      " 22710 10964 23205 23407 24189 24261  1245 25096 25736 17497  1409 15721\n",
      " 26773 26797  8011  8063 27453 27622 19249 28130 26323 28462 28911 25317\n",
      " 29395 30019 30080 30840 14065 31349  3387 31909   838 32109 32162 32189\n",
      " 32312  7563 33197 14504 33526 33659 33951 34194 34233 34264 10768  5961\n",
      " 11931 29677 27779 35731 36477 36534 36885 37097 37192 37230 37815 37869\n",
      " 38218 38440 23579 38960 32216 39418  4742 15793 39684 39784 29246 23349\n",
      " 14420 40437 40596 22011 40823 26574 30526 37747 22903 31051 42102 42164\n",
      "  9381 42227 42336  1183 42694 36077 43371 27513 25768 43856 44242 44511\n",
      " 44673 44696 44714  8518 14008 23265 44950 45294  7006 45777 45850 45987\n",
      " 46131 43439 29492 46579 31563 46876   677  4874  7837 47480 47603 29337\n",
      " 16583  3209 48322  4033 48536 48599 13184 48807 48873 48946 20615 11125\n",
      " 49199 49232  3011 27813 30202 50062 50071 50164 20878 50540 22159 50155\n",
      "  2022 10867 13465 41651 51853 34903 18894 52219 52271 52466 51147 42519\n",
      " 28361 52745 52766 41228 52795 34323 18164  2135  8955 53353 16796 45054\n",
      " 53445 53666 53772  7082 54125 22556 54598 17816 48848 55434 18394  2122\n",
      "  8126 31015 46216  2553 55865  6150 56066   899 56628 56882 56922 23374\n",
      " 41961] [0.21 0.4  0.68 0.01 0.44 0.01 0.14 1.   0.02 0.21 0.03 0.26 0.16 0.7\n",
      " 0.2  0.74 0.06 0.04 0.05 0.07 0.05 0.04 0.78 0.03 0.5  0.04 0.12 1.\n",
      " 0.09 0.48 0.02 1.   0.09 0.05 0.01 0.06 0.24 1.   0.01 0.82 0.13 0.23\n",
      " 0.04 1.   0.28 0.05 0.44 0.01 1.   0.64 0.01 1.   0.   0.09 0.61 0.2\n",
      " 0.04 1.   0.52 0.   0.19 1.   0.26 0.48 0.16 1.   0.43 0.32 0.1  0.39\n",
      " 0.23 0.23 1.   0.25 1.   0.08 0.02 0.3  0.32 0.16 0.05 0.25 0.02 0.03\n",
      " 0.14 0.26 0.04 0.83 0.34 0.06 0.36 0.11 0.5  0.11 0.06 0.12 0.02 0.19\n",
      " 0.13 0.44 0.05 0.1  1.   0.35 0.22 0.42 0.23 0.03 0.41 1.   0.08 0.12\n",
      " 0.01 0.46 0.03 0.59 1.   0.01 0.03 0.07 0.12 0.6  0.46 0.09 0.37 0.02\n",
      " 0.02 0.32 0.24 0.09 0.15 0.07 1.   1.   1.   0.22 0.33 0.59 0.34 0.03\n",
      " 0.28 0.02 0.22 0.45 0.43 0.35 0.1  0.07 0.24 0.28 0.42 0.67 0.22 0.12\n",
      " 0.07 0.07 0.28 0.71 0.08 0.7  0.2  0.14 0.07 0.01 0.06 0.13 0.03 0.\n",
      " 0.25 0.29 0.38 0.09 0.06 0.43 0.19 0.77 0.04 0.04 0.27 0.   0.32 0.37\n",
      " 1.   1.   0.01 0.51 0.19 0.07 0.05 0.22 1.   0.76 0.4  0.57 0.15 0.27\n",
      " 0.65 0.03 0.37 0.04 0.74 1.   0.45 0.85 0.05 1.   0.13 0.2  0.67 0.32\n",
      " 0.2  0.11 0.03 0.91 1.   1.   0.14 0.3  1.   0.17 0.33 0.75 0.03 0.62\n",
      " 0.97 0.04 0.48 0.8  0.58 1.   1.   0.76 1.   1.   0.03 0.84 0.   0.12\n",
      " 0.51 0.01 0.01 0.56 0.11 0.14 0.41 0.54 0.02 0.26 0.33 0.   0.48 0.07\n",
      " 0.57]\n",
      "2 [    2    10    98   389   670   673   796   885   895  1051  1072  1103\n",
      "  1140  1354  1448  1460  1486  1550  1641  1767  1964  2024  2113  2214\n",
      "  2398  2427  2429  2666  2956  3171  3229  3298  3681  3832  3887  3896\n",
      "  4088  4239  4289  4376  4441  4445  4552  4825  4904  5122  5449  5546\n",
      "  5547  5592  5594  5716  5803  6008  6064  6255  6317  6388  6389  6410\n",
      "  6515  6574  6593  6610  6653  6681  6780  6890  7406  7598  7650  7659\n",
      "  7744  7885  8175  8177  8187  8297  8327  8410  8490  8635  8726  8737\n",
      "  3042  8931  3272  9134  9163  9301  9363  9369  9610  6951  9745 10188\n",
      " 10255 10259  1456 10416 10538 10567  1751 10609 10701 10750 10755 10762\n",
      "  1948 10901 10939 10944 10975 11024 11135 11375 11380 11455 11493  8696\n",
      "  5911  5985  8811 11708 11864   174 11985 12057   423 12170 12189 12282\n",
      " 12335 12379 12397   977 12668 12717  7379 12904  1382 12954 12989 13017\n",
      " 13025 13206 13224 13365 10801 13406 10812  5241 13524 13746 13769 13814\n",
      " 13840  2601  2678 13964 13995 14037 14142 14150  8791 14187  8837 14259\n",
      " 14287 14299 14338 11865 14446 14456 14587 14604 14708 14827 14847 15039\n",
      " 15152 15265 15346 15636 10555 15825  7917 15900  7974  8069 16012 16117\n",
      " 16482 16517 16524 16776 14402 16928 11941 16978 17029 17038  9351 17123\n",
      " 17189 12301 17394 17461 15080 17544 17621  9965 17676 10273 17886 17958\n",
      " 17966 15612 18129  4895 18181 18447 13567 18474  5406 18656 18679 18725\n",
      " 18733 18769  3004 19071 19083 19138 19235 19362 19518 19529 19771 19783\n",
      " 19799 15224 19933 19945 19995 20061 20132 20146 20165 20253 20273 10516\n",
      " 20466 20488 20515  5186 20729 20775 20827 20963 20974 21011 21155 11623\n",
      " 21215 11760 21399 21500 21509  9293 21657 21672 12224  3800 21723 21738\n",
      " 21787 21831 21854 22184 17758 10201 22243  7492 22356  7581 22493 13173\n",
      "  1814 22618 22623 10913 22823 22864 22970  5631 23051 13897 13898 13919\n",
      " 23162 23217 23348 23497  9035  6254 23859 19642 24031 24033 24108 24263\n",
      " 24340 24371 24387 24398 24534 15781 24711 24860  2135  8143 24941  2255\n",
      " 13658 25127 16533  8673 16670 25724  9210 25743 12025 25779 17161 25959\n",
      " 25983 26059 26085 26118 26193 10002 12713 26304 22171 26379 26452 26453\n",
      " 26651  1661  7813 20377 26859 26902 11080 27148 27164 27226 16538  5877\n",
      " 27442 27502 27520 27555 27612  9126 27845 27846 12222 21686 28005  3876\n",
      " 28024 28057 28178 21994 28251 28354 28430 28431 10452 28796 29011 22894\n",
      " 22913 29087  5580 29182 29221  8535 29344 14178  6245 29578  3297 29683\n",
      " 27922 29904 29961 29979 30058 30093 12521 24189 30199 30233  4450 30351\n",
      " 30360 28476 30464  4679 30544 30578 30603 30714 20471 28835 30801 22759\n",
      " 30861 30964 31093 31099 31166 31297 11568  8956 27563 29570 25692 31649\n",
      " 31744   438 14725 31838  3909 31939 32027 32060 32088 32099 32133 32215\n",
      " 15356 30353 12971 32343  7585 18296 32657 32672 32925 16520 25451 33209\n",
      " 19055 33247 25588 33414  3454 25782 33527   538  9538 33670   822 33780\n",
      " 33781 33822 33873 33877  4305 12756 33937 33988 34040 34098 34126 34135\n",
      " 34253  1848 34400 34402  8039 34514 34516 26966 34524 34539  2181 34550\n",
      " 34558 29026 32840 16217 34804  5717 34831 34894 23287 35009 35016 19118\n",
      "  3238  6500  3577 35316 35376 35448 30073 35578 19813 19903  4283  4340\n",
      " 28330 35745 10286 10385  4881 36153 36259 16005 36302 36322 20616 36399\n",
      " 36442 36521 20869 36631  8810  8853 36822 27762 37030 37036 14619 31758\n",
      "  3628 37081 37124 37270 24073 15113  7068 37372 37385 12587 19844  4221\n",
      " 37432  9980 37554 37577 22403 32403 37797 10653 37886 22593 22636 37985\n",
      " 38041 38078 38111 36491 38252 36625 38465 38496 38536 38556 38579 11792\n",
      " 38647  3550   334 27903 38897 38961 35473 38983 19722 39129  7370 28475\n",
      "  7569 30575  4972 10688 32802 39791 18496 39837 39847 39864  5519 39868\n",
      " 39965  8536  5752 40118 40163 40212 40236 21326     6 40363 23689 40540\n",
      " 40625  3906 35486 19811  4457 41049 39359  4654 37727 41197 41217 41440\n",
      " 41448 39771 41621 11314 41729 34884 21122 40207 41928 19096 38580 42043\n",
      " 42132  9719 26100 42382 21921 37325 42440  1128 28372 42622 17960 15829\n",
      " 43032 28988 43109  5443 43136 11237 43229 31152 29352 31394 43446 43598\n",
      "   298 43751 27990 32033 43972 44007 44113 44119 17746 20033  7474 15483\n",
      " 44215 35921 44252 32380 44301  1990 36280 44594 44659 34647 29114 25130\n",
      " 44861 44955 45020 45089 45093 45111   203 45167 45192  9307 45286 12314\n",
      "  9609 15007 17598 45532 15287 10087 45691 17847 39334  7699 45809 15697\n",
      " 45922 45967 45977 45984 46034 46043 43033 20685 46159 46167 46199 11294\n",
      "  5669 46258 46301 46311 44910 46398 46554 11852 46591 23768 25899 19558\n",
      " 19685  4125  4171 47037 17630 47053  1153 12815 12959 47220 47232 47317\n",
      "  4841 47355 24669 47426 47430 28828 47506 47643 47801 41762  8761 11639\n",
      " 47937  8917 48006 48024 48052  9325 14642   374 19415 17140  3661 14718\n",
      "  6744 48321 46913 48373 48391 15058 15235 35870  4607 15588  1669 48800\n",
      " 32558 10703 48866 49012 23008 32979 49245 36685 14146 49279 46414 38519\n",
      "  6107 49365 16794 27657 49449  3397 21619  3662  9549 49721   918  7093\n",
      " 49896  7545 26736 22611  5049 42921  1974 50256 47512 50324 50490 47765\n",
      " 14174 23406 21253 14285 21288 14319 16799 38712 50863 45233 50940 14746\n",
      " 45302 51009 35550 33773 51151 51175 24209 44376 28771 51493 32663 51600\n",
      " 51651 11177 27144 51927  5885 51971 51973 44945 52047 11762 52109    47\n",
      "  3293   107 52158 52165 52187 52211 52231 52265  3849 52357 35455 52372\n",
      " 26186 28199 22031 52560 52571 37546 52621 52622 49967 52924 24830 53021\n",
      " 25082 53105 53141  8583  2782 53242 49292 53277 27501 53401  3224 53426\n",
      " 49488 42108 53533  3549 53544 48245  3889 26008 26077 28345  4387 28480\n",
      " 53985 53994 54001 32378  7769 54144 41337 54192  1941  8129 54288 54305\n",
      " 38112 13608 54337 54387 54497  5901 54535 54537 36757 54668 54722 54747\n",
      " 54812 53668 21793 54968 12418  9826 55082 53999 55264 55286 37767 36122\n",
      " 32590 55585 55608 32875  2474 55764 55814 11614 55849 49326 16717 35029\n",
      " 55920    11   276 19328 42161 21695  6760  3792 21746 25994 45350 56212\n",
      " 30074   842  7107 33853 52572 32214 56471 47170 32357 56527 56558  4770\n",
      " 15717  1712  4880 56641  4917 56663  1891 20491  2228 13617 56835 20704\n",
      " 29076 56906 56917  8417 50483 18727 56974 51852  8625 57047 57078 57082\n",
      " 57152 57170] [0.54 0.17 0.12 0.2  0.15 0.11 0.28 0.   0.26 0.02 0.22 0.18 0.14 0.3\n",
      " 0.1  0.46 0.18 0.29 0.55 0.42 0.25 0.28 0.4  0.26 0.11 0.26 0.29 0.3\n",
      " 0.18 0.11 0.24 0.17 0.11 0.14 0.1  0.24 0.28 0.15 0.06 0.43 0.21 0.43\n",
      " 0.12 0.43 0.11 0.17 0.06 0.95 0.18 0.19 0.26 0.04 0.12 0.12 0.16 0.01\n",
      " 0.56 0.74 0.17 0.18 0.14 0.09 0.17 0.05 0.11 0.35 0.18 0.2  0.01 0.18\n",
      " 0.32 0.57 0.01 0.3  0.21 0.18 0.08 0.67 0.28 0.01 0.09 0.12 0.01 0.02\n",
      " 0.01 0.15 0.18 0.19 1.   0.61 0.02 0.21 0.17 0.14 0.13 0.18 0.18 0.32\n",
      " 0.08 0.1  0.09 0.18 0.44 0.02 0.12 0.25 0.   0.44 0.11 0.21 0.22 0.12\n",
      " 0.15 0.1  0.21 0.08 0.57 0.46 0.34 1.   0.13 0.12 0.9  0.31 0.56 0.12\n",
      " 0.03 0.25 0.15 0.18 0.12 0.15 0.16 1.   0.83 0.01 0.26 0.11 0.15 1.\n",
      " 0.08 0.18 0.07 0.3  0.2  0.18 0.36 0.02 0.04 0.74 0.19 0.47 1.   0.\n",
      " 0.19 0.07 0.44 0.09 0.48 0.34 0.51 0.43 0.02 0.18 0.13 0.08 0.23 0.13\n",
      " 0.07 0.27 0.3  0.3  0.16 0.28 0.16 0.06 0.54 0.18 0.3  0.43 0.05 0.1\n",
      " 0.16 0.26 0.11 0.22 0.27 0.13 0.27 0.04 0.15 0.14 0.16 0.18 0.61 0.31\n",
      " 0.19 0.21 0.1  0.7  0.4  0.34 0.16 0.24 0.18 0.22 0.15 0.36 0.6  0.17\n",
      " 1.   0.45 0.07 0.01 0.35 0.04 1.   0.16 0.   0.21 0.14 0.15 1.   0.13\n",
      " 0.24 0.68 0.98 0.14 0.86 0.25 0.13 0.08 0.12 0.07 0.02 0.25 0.14 1.\n",
      " 0.25 0.17 0.22 0.24 0.12 0.08 0.25 1.   0.13 0.35 0.22 0.2  0.24 0.25\n",
      " 0.56 0.27 0.41 0.16 0.03 0.73 0.41 0.15 0.14 0.2  0.01 0.16 0.15 0.04\n",
      " 0.21 0.17 0.29 0.16 0.23 0.34 0.16 0.01 0.11 0.82 0.04 0.   1.   0.12\n",
      " 0.41 0.01 0.03 0.46 0.94 0.11 0.51 0.13 0.16 0.13 0.07 0.27 0.1  0.32\n",
      " 0.24 0.23 0.02 0.05 0.16 0.02 0.31 0.24 0.15 0.13 0.3  0.28 0.17 0.23\n",
      " 0.77 0.3  0.24 0.14 0.11 0.01 0.32 0.04 1.   0.06 0.19 0.29 0.2  0.2\n",
      " 0.44 0.21 0.71 0.14 0.31 0.11 0.11 0.27 0.73 0.17 0.09 0.24 0.12 0.3\n",
      " 0.04 0.74 0.21 0.08 0.15 0.31 0.11 0.36 1.   0.1  0.56 0.27 0.21 0.04\n",
      " 0.11 0.09 0.1  0.09 0.12 0.5  0.18 0.09 0.17 0.25 0.11 0.11 0.24 0.16\n",
      " 0.67 0.22 0.16 0.13 0.14 0.11 0.47 0.54 0.5  0.18 1.   0.31 0.09 0.03\n",
      " 0.01 0.23 0.3  0.05 0.03 0.12 0.5  0.07 0.13 0.8  0.3  0.25 0.07 0.27\n",
      " 0.54 0.68 0.46 0.18 0.07 0.08 0.07 0.14 1.   0.33 0.2  0.6  0.16 0.11\n",
      " 0.01 0.13 0.1  0.08 0.   0.12 1.   0.16 0.1  0.07 0.85 0.19 0.27 0.09\n",
      " 0.13 0.3  0.15 0.3  0.2  0.35 0.39 0.11 0.21 0.12 0.43 0.31 0.2  1.\n",
      " 0.29 1.   0.49 0.12 0.19 0.22 0.45 0.09 0.37 0.18 0.28 0.17 0.02 0.32\n",
      " 0.11 0.55 0.25 0.22 0.09 1.   0.02 0.14 0.55 0.71 0.25 0.13 0.3  0.13\n",
      " 0.81 0.01 0.33 0.46 0.28 0.24 0.03 0.55 0.14 0.17 0.06 0.29 0.25 0.04\n",
      " 0.02 1.   0.17 0.03 0.17 1.   0.15 1.   0.13 0.06 0.1  0.14 0.15 0.47\n",
      " 0.13 1.   0.08 0.05 0.15 0.22 0.67 0.23 0.14 0.07 0.29 0.01 0.19 0.07\n",
      " 0.04 1.   0.28 0.12 0.15 0.08 0.16 0.1  0.31 0.27 0.24 0.28 0.24 1.\n",
      " 0.03 0.33 0.09 0.02 0.19 0.01 0.05 0.04 0.63 0.13 0.21 0.01 0.28 0.2\n",
      " 0.07 0.46 0.25 0.33 0.17 0.8  0.09 0.14 0.83 0.35 1.   0.27 0.08 0.22\n",
      " 0.37 1.   0.15 0.2  0.27 0.03 0.34 1.   0.4  0.12 0.02 0.32 0.15 0.14\n",
      " 0.14 1.   0.15 0.16 0.19 0.33 0.16 0.29 0.07 0.02 0.3  0.22 0.11 0.46\n",
      " 0.41 0.25 0.05 0.17 0.21 1.   0.16 0.43 0.13 0.21 0.   0.3  0.18 0.17\n",
      " 0.17 0.05 0.11 0.21 0.35 0.18 0.27 1.   0.24 0.05 0.15 0.37 0.42 0.13\n",
      " 0.07 0.2  0.18 0.79 0.23 0.05 0.39 0.28 0.01 0.3  0.17 0.53 0.04 0.34\n",
      " 0.13 0.21 0.06 0.24 0.18 0.03 0.18 0.22 0.24 0.06 0.28 0.13 0.22 0.23\n",
      " 0.05 0.16 0.17 0.05 0.16 0.17 0.02 0.1  1.   1.   0.   0.2  0.95 0.18\n",
      " 0.08 0.25 0.98 0.34 0.26 0.14 1.   0.34 0.1  0.05 0.25 0.03 0.08 1.\n",
      " 0.52 0.1  0.43 0.06 1.   0.24 0.56 0.01 0.09 0.14 0.31 0.16 0.19 0.17\n",
      " 0.01 0.32 0.13 0.29 0.17 0.62 0.41 0.49 0.02 0.13 0.25 0.16 0.15 0.14\n",
      " 0.18 0.18 0.34 0.25 0.11 0.1  0.7  0.24 1.   0.17 1.   0.12 0.24 0.27\n",
      " 0.19 0.08 0.11 0.01 0.02 1.   0.12 0.36 0.82 0.23 1.   0.22 0.01 0.13\n",
      " 0.02 0.03 0.26 0.01 0.24 0.61 0.18 0.16 0.11 0.38 0.92 0.1  0.02 0.09\n",
      " 0.21 1.   0.02 0.12 0.18 0.05 0.08 0.11 0.05 0.68 0.28 0.12 0.19 0.08\n",
      " 0.27 0.2  0.24 0.12 0.12 0.88 0.17 0.19 0.17 0.16 0.14 0.55 0.09 0.32\n",
      " 0.07 0.02 0.03 0.18 0.03 0.15 0.2  0.08 0.16 0.01 0.47 0.04 0.4  0.23\n",
      " 0.03 0.3  0.18 0.37 0.19 0.23 0.25 0.3  1.   1.   0.21 0.39 0.04 0.34\n",
      " 0.11 0.18 0.22 0.12 0.21 0.09 0.22 0.24 0.04 0.18 0.13 0.13 1.   0.17\n",
      " 0.69 0.12 0.15 0.41 0.19 0.31 0.07 0.15 0.34 0.18 0.12 0.17 0.09 0.02\n",
      " 0.09 0.07 1.   0.18 0.17 0.18 0.11 0.06 0.15 0.05 0.14 0.08 0.42 0.33\n",
      " 0.11 0.01 0.25 0.27 0.84 0.01 0.27 0.16 0.13 0.19 0.03 0.17 0.06 0.69\n",
      " 0.21 0.06 0.17 1.   0.23 0.03 0.14 0.13 0.2  0.12 0.37 0.11 0.18 0.12\n",
      " 0.1  0.17 0.28 0.27 0.09 0.23 0.07 0.23 1.   0.63 1.   0.02 0.15 0.11\n",
      " 0.26 0.17 0.49 1.   0.26 0.15 0.48 0.14 0.77 0.13 0.3  0.51 0.06 0.12\n",
      " 0.37 0.15 0.16 1.   0.2  1.   0.12 0.09 1.   1.   0.3  0.03 0.16 0.43\n",
      " 1.   0.34 0.23 0.52 0.37 0.14 0.13 0.83 0.18 0.19 0.29 0.05 0.36 0.62\n",
      " 0.32 1.   0.03 0.58 0.27 0.53 0.19 0.04 0.36 0.17 0.15 0.2  0.01 1.\n",
      " 0.11 0.06 0.16 0.26 0.21 0.03 0.26 0.7  0.16 1.   0.21 0.17 0.27 0.12\n",
      " 0.19 0.11 0.49 0.23 0.13 0.02 0.05 0.29 0.13 0.02 0.31 0.25 0.19 0.24\n",
      " 0.04 0.26 0.   0.11 0.29 0.24 0.23 0.41 0.36 0.12 0.01 0.19 0.48 0.48\n",
      " 1.   0.03 0.31 0.06 0.42 0.17 0.13 0.16 0.16 0.58 0.01 0.04 0.29 0.28\n",
      " 0.13 0.08 0.33 0.57 0.01 0.04 0.   0.25 0.15 0.11 0.02 0.4  0.56 0.17\n",
      " 0.08 0.22 0.17 0.47]\n",
      "3 [    3    26    50    76   260   374   632   649   798   868  1105  1117\n",
      "  1237  1437  1541  1596  1661  1838  2266  2352  2591  2665  2722  3004\n",
      "  3095  3151   401  3638  3643   534  3754  3873  4123  4261  4436  4457\n",
      "  4508  4516  4583  4646  4991  5130  5214  5256  5260  5611  5878  5885\n",
      "  5993  6095  6245  6329  6411  6424  6579  6734  6753  6789  6837  6957\n",
      "  6959  4125  7093  7151  7278  7656  7816  7833  7858  7904  7921  7929\n",
      "  7991  8043  8110  8132  8345  8476  5657  8564  8603  8614  8638  8804\n",
      "  8825  8917  8935  9058  9126  9240  9293  9359  9686  9709  9719  9763\n",
      "  9770  9826  9944  9980 10015 10319 10393 10404 10523 10547 10573 10594\n",
      " 10642 10760  2028 11080 11115 11134 11236 11299  2530 11427 11497 11557\n",
      " 11567 11741 11814  3321 11948 12115 12152 12471 12582  4239 12842  7379\n",
      "  1269  4942 13384 13652 13856 13982 14018 14167 14169  2956 14451 14578\n",
      " 14620 14782 14797 15124 15132 15210 15224  4311 15437 15572 15702 15709\n",
      " 15754  1775 15862 15954 16081  5343  5439 16338 16408  2601 16611 16633\n",
      " 16797 16908 16949  3681 17239 17347 17449 17644 17656 17698 17701 17861\n",
      " 17870 17919 17974  4780 18043 18168 18203 18265 18352 18445 18453 13603\n",
      " 18669 18746 18752 18830 18899 11590 18981 19022 19075 19107 19141 19502\n",
      " 19533 19679 19709  4340 15305 20180 20359 20363 20497 16015  8202 20694\n",
      " 20753 20929 20945 20955 20995 21000 21030 21074 21386   483 21695 21729\n",
      "  9629 21824 21928 21997 22196 22247 10388 22761 22921 22965 16325 23203\n",
      " 23348 23388   123 23776 14840 23875 23924  9597 23977 24108 24222 24311\n",
      " 20088 24395  1442 24483 24590 24704 24802 24830 22864 25033 13781 25277\n",
      " 25287 25523 25588 25626 25639 25815 25915 25987 19593 26198 26311 26335\n",
      " 26342 26620 26631 26774  5122 27038 27243 18850 27441 27555 27740 27831\n",
      " 27888 28001 28147 28218 28219 22192  7556 26543  1653  4904 28763 28782\n",
      " 28921 11054 29056 29143  8498 29368 29479 29618 29657 29858  3758 29926\n",
      " 29943 29945 29986 30013 30236 30247 15267 30283 15293 30429 26548 30575\n",
      " 30644 30652 30980 31130 31175 31229 31241 31508 31610  9424 31816 31892\n",
      "  9982 32167 32283 32303 32344 32354 32357 32400 32488 32521 32550 32663\n",
      " 32684 32704 32777 32802 13711 32864 32875 32896 32931 33029 11533 11690\n",
      " 33270 33285 33364 33375 33470 33498 33583 14823 17334 33728 33740  1059\n",
      " 33926 12815 34021 34090 34198 24593  4917 20377 34583 29127 34677 34709\n",
      " 34732 14142 35115 35220  6497 35412 31884  3906 35577 35633 35652 35708\n",
      " 35720 35748 35781 26385 35841 35954 36175 20468 36237 36343 36403 36412\n",
      " 36471 36485 36492 36529 36655 23339 36830  3163  3213 36962   232 37091\n",
      " 37123  9548 37208 37209 37352  1147 37594 24446 37756 37767 37839 38111\n",
      "  5402 38208  2559 38349 38626 25777 38829 21793 39000   772  7024 35590\n",
      " 39154 39176 17678 39275 39384 39395 39467 39494 39649 39664 39717  2162\n",
      " 39751 39763  5427 29186 39950 38340 40061 40094 40112 40130 33175 40140\n",
      " 40150 40261 40295 40323 38777 21610 40593 40622 40635  9647 21842  9711\n",
      " 40686 15245 41051 41196 20286 41293 32787 20685 41532  8417 41758 41796\n",
      " 34938 14141 41823 41917 41941 42033 16927 42213 42319 42551 42568 42575\n",
      " 17847 42830 42837  1829  7989 42953 28988 43063 41702 43307 43400 40329\n",
      " 43700 12277 43813 43862 43865 43883 44104 44174 44198 39634 39673 44628\n",
      " 44728 44789 21049 44878 27562 45013 45038 45087  3397 45172  3548 29745\n",
      " 45229 45234 45239 12151 45412  7048 45506 45555 45625  4439 45666 45709\n",
      " 45756 45929 13365 45981 46088 46164 46256 46292 46314 46824 37320   847\n",
      " 28199 35787 28451 47205 12986  1456 47370 28771 47473 47476 47483  5221\n",
      " 47537 47544 18496 33004 47808 47857 48047 48081 21464 48141 48145 48164\n",
      " 48188   368  3628 45326 12309 21911 48407 37345 24152 19952 47170 48706\n",
      " 48814 41304 49098 34807 11411 49203 49315 49345 41914 11782 49516 49586\n",
      " 28005 49725 43998 22079 50123 50214 39701  2187  2265 11205 50523 38647\n",
      " 50802 37009 42141 50932 50977 51055 51200 28375 28709 51596 51629 13567\n",
      " 51736 51742 23051 51883 51925 51997 52010 21327 52083 52090 52267  9422\n",
      " 52320 52376 30188 52549  1140  4387 34091 52738 13256  4972 34363 52864\n",
      "  5069 10922 10924 53045 32831 53097 53098 34941 31442 53358 53394 53434\n",
      " 45101 53499 53527 27810 53530 53535  3563 53548 23990 53768 21989 53837\n",
      " 30277 53923 30451 54076 54084 26648 10609  7802 36249 54254 54278 38137\n",
      " 54333 54525 49275 47889 31389 53401 54680 23576 54778 54809 14619 33504\n",
      " 12222  3735 54906 54995 55027 22015 42461 19907 55133 24263  1141  4499\n",
      " 35870 24473 22635 47430  5092 55445 20566 55653 55735 55786 51974 38523\n",
      " 55937 52177 50847   293 27943 28024 56257 52447 56370 56417 39285 26453\n",
      "  4677  1605 32591 22759 56767 43049 56806 11025 56848 27091  5512 56905\n",
      " 56907 16374 27271 57032 47829 38427 23285] [0.11 0.02 0.05 0.04 1.   0.03 0.15 1.   0.01 0.19 0.06 0.04 0.16 0.09\n",
      " 0.59 0.94 0.04 0.18 0.02 0.04 0.07 0.04 1.   0.02 0.01 0.34 0.03 0.07\n",
      " 0.14 0.16 0.08 0.16 0.11 0.05 0.35 0.64 0.17 0.97 0.6  0.01 0.06 0.42\n",
      " 0.31 0.31 0.08 0.01 0.01 0.39 0.04 0.21 0.01 0.05 0.09 0.06 0.48 1.\n",
      " 0.71 0.72 0.72 0.31 0.65 0.07 0.18 0.11 0.04 0.19 0.09 0.05 1.   0.77\n",
      " 0.02 0.82 0.08 0.04 0.11 0.51 0.12 1.   0.25 0.07 0.38 0.38 0.35 0.1\n",
      " 0.03 0.01 0.21 0.94 0.39 0.23 0.2  0.29 0.05 0.1  0.09 0.04 0.05 0.03\n",
      " 0.47 0.32 0.38 0.35 0.07 0.46 0.12 1.   0.02 0.11 0.03 0.44 0.31 0.94\n",
      " 0.09 1.   0.04 0.33 0.13 0.04 0.05 0.45 0.05 0.05 0.   0.07 1.   0.2\n",
      " 0.17 0.14 0.41 0.08 0.05 0.13 1.   0.28 0.03 0.29 0.02 0.09 0.36 0.\n",
      " 0.15 0.03 0.29 1.   0.19 0.04 0.19 0.3  0.69 0.12 0.57 0.03 0.37 1.\n",
      " 0.03 1.   0.1  0.1  0.37 0.   0.95 0.   0.4  0.16 0.05 0.02 0.88 0.02\n",
      " 0.14 0.2  0.27 0.31 0.04 0.03 0.1  0.04 0.35 0.15 0.38 0.02 0.01 0.04\n",
      " 0.05 0.57 0.04 0.06 0.36 0.01 0.1  0.55 0.53 0.42 0.14 0.02 0.55 0.12\n",
      " 0.03 0.1  0.19 0.36 0.14 0.17 0.19 0.11 0.02 0.12 0.52 0.08 0.06 0.13\n",
      " 0.01 0.24 0.04 0.02 0.04 0.21 0.14 1.   0.37 0.54 0.09 0.16 0.01 0.\n",
      " 0.63 0.4  0.04 1.   0.31 0.24 0.07 0.01 0.22 0.12 0.13 0.06 0.26 0.04\n",
      " 1.   0.08 0.13 0.2  0.24 0.13 0.24 0.15 0.07 0.66 0.05 0.43 0.19 1.\n",
      " 0.18 1.   0.03 0.91 0.57 0.14 0.36 0.1  0.01 0.36 0.52 0.05 0.06 0.23\n",
      " 0.56 0.08 0.03 0.16 0.15 0.74 0.05 0.09 0.03 0.31 0.25 0.01 0.23 0.03\n",
      " 0.38 0.01 0.03 0.4  0.06 0.02 0.25 0.01 0.01 0.02 0.1  0.46 1.   0.33\n",
      " 0.05 0.51 0.42 0.22 0.12 0.48 0.19 0.04 0.71 0.35 0.34 0.01 0.2  0.09\n",
      " 0.17 0.06 0.08 0.91 0.06 0.12 0.38 0.16 0.27 1.   0.61 0.06 0.05 0.28\n",
      " 0.65 0.05 1.   0.15 0.1  0.07 0.13 0.33 1.   1.   0.15 0.01 0.01 0.17\n",
      " 0.5  0.03 0.06 0.07 0.15 0.02 0.16 0.03 0.19 0.32 0.13 0.08 0.42 0.16\n",
      " 1.   0.07 0.77 0.58 0.49 0.16 0.22 0.02 1.   0.52 1.   0.17 0.04 0.71\n",
      " 0.26 0.2  0.01 0.14 0.07 0.13 0.3  0.02 0.06 0.13 1.   0.43 0.06 0.15\n",
      " 0.01 0.04 0.06 0.04 0.42 0.13 0.2  0.05 0.02 1.   0.06 0.15 0.32 0.78\n",
      " 0.58 0.14 0.22 0.03 0.   1.   0.02 0.36 0.01 0.08 0.   0.25 0.04 0.05\n",
      " 0.14 0.2  0.31 0.04 0.04 0.17 0.17 0.28 0.25 0.28 0.   0.04 0.03 0.06\n",
      " 0.43 0.08 0.05 0.01 0.01 0.57 0.03 0.11 1.   0.34 0.14 0.16 0.03 0.05\n",
      " 1.   1.   0.05 0.06 0.76 0.02 0.43 0.1  0.49 0.07 0.75 0.04 0.6  0.01\n",
      " 1.   0.03 0.1  0.01 0.35 0.03 0.08 0.04 1.   0.03 0.1  1.   0.39 0.08\n",
      " 0.07 0.79 1.   0.06 0.03 0.03 0.28 0.02 0.07 0.25 0.1  0.05 0.04 0.07\n",
      " 0.02 0.15 0.05 1.   0.06 0.21 0.11 0.02 0.28 0.05 0.37 0.09 0.31 0.56\n",
      " 0.37 0.14 0.08 0.1  0.02 0.11 0.27 0.05 0.37 0.05 0.68 0.53 0.03 0.02\n",
      " 0.05 0.04 0.37 0.17 0.05 0.01 0.39 0.47 1.   0.47 0.05 0.04 0.22 0.09\n",
      " 0.04 0.08 0.37 0.23 0.08 0.1  1.   0.28 0.12 0.63 0.21 0.05 0.02 0.1\n",
      " 0.58 0.08 0.02 0.04 0.34 0.56 0.1  0.73 0.1  0.3  0.04 0.09 0.04 0.47\n",
      " 0.05 0.03 0.04 0.13 0.08 0.15 0.2  0.37 0.04 0.05 0.1  1.   0.39 0.27\n",
      " 0.13 0.32 0.   0.09 0.04 0.05 0.27 0.25 0.11 0.16 1.   0.04 0.04 0.63\n",
      " 0.37 0.22 0.03 0.41 0.39 0.04 0.05 0.06 0.05 0.04 0.18 0.05 0.19 0.03\n",
      " 0.56 0.27 0.74 0.05 0.05 0.15 0.8  0.56 0.39 0.09 0.25 0.01 0.08 0.18\n",
      " 0.31 0.2  0.26 0.03 0.09 0.09 0.09 0.53 0.11 0.08 0.1  0.03 0.11 0.21\n",
      " 0.8  0.05 0.35 0.05 0.05 0.22 0.04 0.05 0.07 0.55 0.19 1.   0.06 0.45\n",
      " 1.   0.26 0.05 0.06 0.07 0.29 0.03 0.12 0.01 0.08 0.1  0.97 0.04 0.1\n",
      " 0.07 0.22 0.02 0.26 0.06 0.03 0.51 0.07 0.28 0.99 0.01 0.04 0.8  0.21\n",
      " 0.54 0.17 0.05 0.06 0.53 0.06 0.64 1.   0.05 0.65 0.06 0.12 0.15 0.05\n",
      " 0.06 0.08 0.04 0.03 0.27 1.   0.25 0.27 0.19 1.   0.4  0.16 0.05 0.12\n",
      " 0.99 0.38 0.59 0.03 0.2  0.31 0.08 0.54 0.37 0.06 1.   0.14 0.09 0.13\n",
      " 0.14 0.22 0.02 0.01 1.   0.42 0.14 0.04 0.34 0.34 1.   0.29 0.59 0.19\n",
      " 0.26 0.13 0.05 0.5  0.02 1.   0.59 0.28 1.   0.81 0.01 0.86 0.01 0.03\n",
      " 0.1  0.21 0.38 0.76 0.4  0.   0.33 0.27 0.03 0.38 1.   0.19 0.37 0.35\n",
      " 0.26 0.15 0.04 0.57 0.14 0.07 0.6  0.05 1.   0.03 0.95 0.34 0.1  0.27\n",
      " 0.11 0.02 0.01 0.27 1.   0.13 0.13]\n",
      "4 [    4 36264 51121] [0.42 1.   0.74]\n",
      "5 [    5   239   394  1015  3897  4510  7069  7855  8373  9724  7645 10738\n",
      " 11187 11343  7490 13417 20246 10634 13991 22275  3804 24745 25244 16458\n",
      " 24635 28917 28961 29605 30436 30444 31650 25956  9706  5466 33195 28764\n",
      " 34533 34895  9996 36101 15479  7694 31116 38762 39121  1255 40746  9146\n",
      " 40806 15416 43085 43235 26366 30445 24551  6522 46711 48124 12135 48882\n",
      " 49084 49174 16539  6554 49789  7654 45832 33125 51063 51877 52479 52557\n",
      " 52845 25530 12407 25302 54504 29184 53767 27510] [0.17 0.08 0.3  1.   0.56 0.55 0.7  0.07 0.38 1.   0.07 1.   0.2  1.\n",
      " 0.01 0.05 0.79 0.53 0.17 1.   0.46 0.45 1.   0.08 0.43 1.   0.49 1.\n",
      " 0.87 0.27 0.29 0.07 0.65 0.61 1.   0.17 0.45 1.   0.21 0.34 0.11 1.\n",
      " 0.   0.91 0.2  0.43 0.28 0.42 0.2  0.04 0.39 0.15 0.16 0.03 0.98 0.02\n",
      " 0.15 1.   1.   0.09 0.29 0.26 0.76 0.17 0.4  0.32 0.02 0.   0.18 0.63\n",
      " 0.82 0.25 0.13 0.71 1.   0.03 1.   0.38 0.19 1.  ]\n"
     ]
    }
   ],
   "source": [
    "grouped_by_items = mapped_df.groupby(\"itemId\")\n",
    "iter = 0\n",
    "for item, grouped in grouped_by_items:\n",
    "    print(item, grouped[\"userId\"].values, grouped[\"rating\"].values)\n",
    "    iter = iter + 1\n",
    "    if iter > 5:\n",
    "        break"
   ]
  },
  {
   "cell_type": "code",
   "execution_count": 34,
   "metadata": {},
   "outputs": [
    {
     "data": {
      "text/html": [
       "<div>\n",
       "<style scoped>\n",
       "    .dataframe tbody tr th:only-of-type {\n",
       "        vertical-align: middle;\n",
       "    }\n",
       "\n",
       "    .dataframe tbody tr th {\n",
       "        vertical-align: top;\n",
       "    }\n",
       "\n",
       "    .dataframe thead th {\n",
       "        text-align: right;\n",
       "    }\n",
       "</style>\n",
       "<table border=\"1\" class=\"dataframe\">\n",
       "  <thead>\n",
       "    <tr style=\"text-align: right;\">\n",
       "      <th></th>\n",
       "      <th>userId</th>\n",
       "      <th>itemId</th>\n",
       "      <th>rating</th>\n",
       "    </tr>\n",
       "  </thead>\n",
       "  <tbody>\n",
       "    <tr>\n",
       "      <th>count</th>\n",
       "      <td>283124.000000</td>\n",
       "      <td>283124.000000</td>\n",
       "      <td>283124.000000</td>\n",
       "    </tr>\n",
       "    <tr>\n",
       "      <th>mean</th>\n",
       "      <td>45517.935138</td>\n",
       "      <td>3726.982520</td>\n",
       "      <td>0.403185</td>\n",
       "    </tr>\n",
       "    <tr>\n",
       "      <th>std</th>\n",
       "      <td>33412.540839</td>\n",
       "      <td>2531.352931</td>\n",
       "      <td>0.351710</td>\n",
       "    </tr>\n",
       "    <tr>\n",
       "      <th>min</th>\n",
       "      <td>0.000000</td>\n",
       "      <td>0.000000</td>\n",
       "      <td>0.000000</td>\n",
       "    </tr>\n",
       "    <tr>\n",
       "      <th>25%</th>\n",
       "      <td>16307.000000</td>\n",
       "      <td>217.000000</td>\n",
       "      <td>0.090000</td>\n",
       "    </tr>\n",
       "    <tr>\n",
       "      <th>50%</th>\n",
       "      <td>39071.500000</td>\n",
       "      <td>5553.000000</td>\n",
       "      <td>0.300000</td>\n",
       "    </tr>\n",
       "    <tr>\n",
       "      <th>75%</th>\n",
       "      <td>70874.000000</td>\n",
       "      <td>5572.000000</td>\n",
       "      <td>0.680000</td>\n",
       "    </tr>\n",
       "    <tr>\n",
       "      <th>max</th>\n",
       "      <td>118857.000000</td>\n",
       "      <td>5595.000000</td>\n",
       "      <td>1.000000</td>\n",
       "    </tr>\n",
       "  </tbody>\n",
       "</table>\n",
       "</div>"
      ],
      "text/plain": [
       "              userId         itemId         rating\n",
       "count  283124.000000  283124.000000  283124.000000\n",
       "mean    45517.935138    3726.982520       0.403185\n",
       "std     33412.540839    2531.352931       0.351710\n",
       "min         0.000000       0.000000       0.000000\n",
       "25%     16307.000000     217.000000       0.090000\n",
       "50%     39071.500000    5553.000000       0.300000\n",
       "75%     70874.000000    5572.000000       0.680000\n",
       "max    118857.000000    5595.000000       1.000000"
      ]
     },
     "execution_count": 34,
     "metadata": {},
     "output_type": "execute_result"
    }
   ],
   "source": [
    "mapped_df.describe()"
   ]
  },
  {
   "cell_type": "code",
   "execution_count": 35,
   "metadata": {},
   "outputs": [
    {
     "data": {
      "text/html": [
       "<div>\n",
       "<style scoped>\n",
       "    .dataframe tbody tr th:only-of-type {\n",
       "        vertical-align: middle;\n",
       "    }\n",
       "\n",
       "    .dataframe tbody tr th {\n",
       "        vertical-align: top;\n",
       "    }\n",
       "\n",
       "    .dataframe thead tr th {\n",
       "        text-align: left;\n",
       "    }\n",
       "\n",
       "    .dataframe thead tr:last-of-type th {\n",
       "        text-align: right;\n",
       "    }\n",
       "</style>\n",
       "<table border=\"1\" class=\"dataframe\">\n",
       "  <thead>\n",
       "    <tr>\n",
       "      <th></th>\n",
       "      <th colspan=\"8\" halign=\"left\">userId</th>\n",
       "      <th colspan=\"8\" halign=\"left\">rating</th>\n",
       "    </tr>\n",
       "    <tr>\n",
       "      <th></th>\n",
       "      <th>count</th>\n",
       "      <th>mean</th>\n",
       "      <th>std</th>\n",
       "      <th>min</th>\n",
       "      <th>25%</th>\n",
       "      <th>50%</th>\n",
       "      <th>75%</th>\n",
       "      <th>max</th>\n",
       "      <th>count</th>\n",
       "      <th>mean</th>\n",
       "      <th>std</th>\n",
       "      <th>min</th>\n",
       "      <th>25%</th>\n",
       "      <th>50%</th>\n",
       "      <th>75%</th>\n",
       "      <th>max</th>\n",
       "    </tr>\n",
       "    <tr>\n",
       "      <th>itemId</th>\n",
       "      <th></th>\n",
       "      <th></th>\n",
       "      <th></th>\n",
       "      <th></th>\n",
       "      <th></th>\n",
       "      <th></th>\n",
       "      <th></th>\n",
       "      <th></th>\n",
       "      <th></th>\n",
       "      <th></th>\n",
       "      <th></th>\n",
       "      <th></th>\n",
       "      <th></th>\n",
       "      <th></th>\n",
       "      <th></th>\n",
       "      <th></th>\n",
       "    </tr>\n",
       "  </thead>\n",
       "  <tbody>\n",
       "    <tr>\n",
       "      <th>0</th>\n",
       "      <td>11.0</td>\n",
       "      <td>23898.909091</td>\n",
       "      <td>15481.160205</td>\n",
       "      <td>0.0</td>\n",
       "      <td>13932.00</td>\n",
       "      <td>24831.0</td>\n",
       "      <td>32151.00</td>\n",
       "      <td>49547.0</td>\n",
       "      <td>11.0</td>\n",
       "      <td>0.555455</td>\n",
       "      <td>0.420556</td>\n",
       "      <td>0.01</td>\n",
       "      <td>0.1000</td>\n",
       "      <td>0.71</td>\n",
       "      <td>0.96</td>\n",
       "      <td>1.0</td>\n",
       "    </tr>\n",
       "    <tr>\n",
       "      <th>1</th>\n",
       "      <td>253.0</td>\n",
       "      <td>26284.525692</td>\n",
       "      <td>16585.252377</td>\n",
       "      <td>1.0</td>\n",
       "      <td>11083.00</td>\n",
       "      <td>25736.0</td>\n",
       "      <td>40823.00</td>\n",
       "      <td>56922.0</td>\n",
       "      <td>253.0</td>\n",
       "      <td>0.340909</td>\n",
       "      <td>0.328131</td>\n",
       "      <td>0.00</td>\n",
       "      <td>0.0700</td>\n",
       "      <td>0.23</td>\n",
       "      <td>0.51</td>\n",
       "      <td>1.0</td>\n",
       "    </tr>\n",
       "    <tr>\n",
       "      <th>2</th>\n",
       "      <td>998.0</td>\n",
       "      <td>23993.209419</td>\n",
       "      <td>16153.092848</td>\n",
       "      <td>2.0</td>\n",
       "      <td>10256.00</td>\n",
       "      <td>21504.5</td>\n",
       "      <td>36379.75</td>\n",
       "      <td>57170.0</td>\n",
       "      <td>998.0</td>\n",
       "      <td>0.265721</td>\n",
       "      <td>0.252251</td>\n",
       "      <td>0.00</td>\n",
       "      <td>0.1100</td>\n",
       "      <td>0.18</td>\n",
       "      <td>0.31</td>\n",
       "      <td>1.0</td>\n",
       "    </tr>\n",
       "    <tr>\n",
       "      <th>3</th>\n",
       "      <td>763.0</td>\n",
       "      <td>25816.133683</td>\n",
       "      <td>16311.633358</td>\n",
       "      <td>3.0</td>\n",
       "      <td>11039.50</td>\n",
       "      <td>25033.0</td>\n",
       "      <td>39334.50</td>\n",
       "      <td>57032.0</td>\n",
       "      <td>763.0</td>\n",
       "      <td>0.261743</td>\n",
       "      <td>0.290218</td>\n",
       "      <td>0.00</td>\n",
       "      <td>0.0500</td>\n",
       "      <td>0.14</td>\n",
       "      <td>0.37</td>\n",
       "      <td>1.0</td>\n",
       "    </tr>\n",
       "    <tr>\n",
       "      <th>4</th>\n",
       "      <td>3.0</td>\n",
       "      <td>29129.666667</td>\n",
       "      <td>26294.694452</td>\n",
       "      <td>4.0</td>\n",
       "      <td>18134.00</td>\n",
       "      <td>36264.0</td>\n",
       "      <td>43692.50</td>\n",
       "      <td>51121.0</td>\n",
       "      <td>3.0</td>\n",
       "      <td>0.720000</td>\n",
       "      <td>0.290517</td>\n",
       "      <td>0.42</td>\n",
       "      <td>0.5800</td>\n",
       "      <td>0.74</td>\n",
       "      <td>0.87</td>\n",
       "      <td>1.0</td>\n",
       "    </tr>\n",
       "    <tr>\n",
       "      <th>...</th>\n",
       "      <td>...</td>\n",
       "      <td>...</td>\n",
       "      <td>...</td>\n",
       "      <td>...</td>\n",
       "      <td>...</td>\n",
       "      <td>...</td>\n",
       "      <td>...</td>\n",
       "      <td>...</td>\n",
       "      <td>...</td>\n",
       "      <td>...</td>\n",
       "      <td>...</td>\n",
       "      <td>...</td>\n",
       "      <td>...</td>\n",
       "      <td>...</td>\n",
       "      <td>...</td>\n",
       "      <td>...</td>\n",
       "    </tr>\n",
       "    <tr>\n",
       "      <th>5591</th>\n",
       "      <td>2062.0</td>\n",
       "      <td>88373.198351</td>\n",
       "      <td>36712.255275</td>\n",
       "      <td>206.0</td>\n",
       "      <td>62115.50</td>\n",
       "      <td>113245.5</td>\n",
       "      <td>113760.75</td>\n",
       "      <td>114276.0</td>\n",
       "      <td>2062.0</td>\n",
       "      <td>0.552017</td>\n",
       "      <td>0.418740</td>\n",
       "      <td>0.00</td>\n",
       "      <td>0.0900</td>\n",
       "      <td>0.58</td>\n",
       "      <td>1.00</td>\n",
       "      <td>1.0</td>\n",
       "    </tr>\n",
       "    <tr>\n",
       "      <th>5592</th>\n",
       "      <td>4473.0</td>\n",
       "      <td>77658.720322</td>\n",
       "      <td>40844.945010</td>\n",
       "      <td>51.0</td>\n",
       "      <td>38845.00</td>\n",
       "      <td>102867.0</td>\n",
       "      <td>114734.00</td>\n",
       "      <td>115852.0</td>\n",
       "      <td>4473.0</td>\n",
       "      <td>0.279982</td>\n",
       "      <td>0.311933</td>\n",
       "      <td>0.00</td>\n",
       "      <td>0.0300</td>\n",
       "      <td>0.15</td>\n",
       "      <td>0.41</td>\n",
       "      <td>1.0</td>\n",
       "    </tr>\n",
       "    <tr>\n",
       "      <th>5593</th>\n",
       "      <td>1784.0</td>\n",
       "      <td>74408.062780</td>\n",
       "      <td>42261.466639</td>\n",
       "      <td>72.0</td>\n",
       "      <td>32935.00</td>\n",
       "      <td>93911.0</td>\n",
       "      <td>115921.25</td>\n",
       "      <td>116367.0</td>\n",
       "      <td>1784.0</td>\n",
       "      <td>0.486564</td>\n",
       "      <td>0.361262</td>\n",
       "      <td>0.00</td>\n",
       "      <td>0.1375</td>\n",
       "      <td>0.43</td>\n",
       "      <td>0.86</td>\n",
       "      <td>1.0</td>\n",
       "    </tr>\n",
       "    <tr>\n",
       "      <th>5594</th>\n",
       "      <td>2792.0</td>\n",
       "      <td>77591.144699</td>\n",
       "      <td>42499.077646</td>\n",
       "      <td>52.0</td>\n",
       "      <td>36021.75</td>\n",
       "      <td>104451.5</td>\n",
       "      <td>116559.25</td>\n",
       "      <td>117257.0</td>\n",
       "      <td>2792.0</td>\n",
       "      <td>0.420512</td>\n",
       "      <td>0.401583</td>\n",
       "      <td>0.00</td>\n",
       "      <td>0.0400</td>\n",
       "      <td>0.26</td>\n",
       "      <td>0.92</td>\n",
       "      <td>1.0</td>\n",
       "    </tr>\n",
       "    <tr>\n",
       "      <th>5595</th>\n",
       "      <td>4383.0</td>\n",
       "      <td>84347.529774</td>\n",
       "      <td>41295.107683</td>\n",
       "      <td>46.0</td>\n",
       "      <td>44010.50</td>\n",
       "      <td>112718.0</td>\n",
       "      <td>117761.50</td>\n",
       "      <td>118857.0</td>\n",
       "      <td>4383.0</td>\n",
       "      <td>0.481727</td>\n",
       "      <td>0.408847</td>\n",
       "      <td>0.00</td>\n",
       "      <td>0.0600</td>\n",
       "      <td>0.39</td>\n",
       "      <td>1.00</td>\n",
       "      <td>1.0</td>\n",
       "    </tr>\n",
       "  </tbody>\n",
       "</table>\n",
       "<p>5596 rows × 16 columns</p>\n",
       "</div>"
      ],
      "text/plain": [
       "        userId                                                         \\\n",
       "         count          mean           std    min       25%       50%   \n",
       "itemId                                                                  \n",
       "0         11.0  23898.909091  15481.160205    0.0  13932.00   24831.0   \n",
       "1        253.0  26284.525692  16585.252377    1.0  11083.00   25736.0   \n",
       "2        998.0  23993.209419  16153.092848    2.0  10256.00   21504.5   \n",
       "3        763.0  25816.133683  16311.633358    3.0  11039.50   25033.0   \n",
       "4          3.0  29129.666667  26294.694452    4.0  18134.00   36264.0   \n",
       "...        ...           ...           ...    ...       ...       ...   \n",
       "5591    2062.0  88373.198351  36712.255275  206.0  62115.50  113245.5   \n",
       "5592    4473.0  77658.720322  40844.945010   51.0  38845.00  102867.0   \n",
       "5593    1784.0  74408.062780  42261.466639   72.0  32935.00   93911.0   \n",
       "5594    2792.0  77591.144699  42499.077646   52.0  36021.75  104451.5   \n",
       "5595    4383.0  84347.529774  41295.107683   46.0  44010.50  112718.0   \n",
       "\n",
       "                             rating                                          \\\n",
       "              75%       max   count      mean       std   min     25%   50%   \n",
       "itemId                                                                        \n",
       "0        32151.00   49547.0    11.0  0.555455  0.420556  0.01  0.1000  0.71   \n",
       "1        40823.00   56922.0   253.0  0.340909  0.328131  0.00  0.0700  0.23   \n",
       "2        36379.75   57170.0   998.0  0.265721  0.252251  0.00  0.1100  0.18   \n",
       "3        39334.50   57032.0   763.0  0.261743  0.290218  0.00  0.0500  0.14   \n",
       "4        43692.50   51121.0     3.0  0.720000  0.290517  0.42  0.5800  0.74   \n",
       "...           ...       ...     ...       ...       ...   ...     ...   ...   \n",
       "5591    113760.75  114276.0  2062.0  0.552017  0.418740  0.00  0.0900  0.58   \n",
       "5592    114734.00  115852.0  4473.0  0.279982  0.311933  0.00  0.0300  0.15   \n",
       "5593    115921.25  116367.0  1784.0  0.486564  0.361262  0.00  0.1375  0.43   \n",
       "5594    116559.25  117257.0  2792.0  0.420512  0.401583  0.00  0.0400  0.26   \n",
       "5595    117761.50  118857.0  4383.0  0.481727  0.408847  0.00  0.0600  0.39   \n",
       "\n",
       "                   \n",
       "         75%  max  \n",
       "itemId             \n",
       "0       0.96  1.0  \n",
       "1       0.51  1.0  \n",
       "2       0.31  1.0  \n",
       "3       0.37  1.0  \n",
       "4       0.87  1.0  \n",
       "...      ...  ...  \n",
       "5591    1.00  1.0  \n",
       "5592    0.41  1.0  \n",
       "5593    0.86  1.0  \n",
       "5594    0.92  1.0  \n",
       "5595    1.00  1.0  \n",
       "\n",
       "[5596 rows x 16 columns]"
      ]
     },
     "execution_count": 35,
     "metadata": {},
     "output_type": "execute_result"
    }
   ],
   "source": [
    "grouped_by_items.describe()"
   ]
  },
  {
   "cell_type": "code",
   "execution_count": 36,
   "metadata": {
    "collapsed": false,
    "deletable": true,
    "editable": true,
    "jupyter": {
     "outputs_hidden": false
    }
   },
   "outputs": [],
   "source": [
    "import tensorflow as tf\n",
    "grouped_by_items = mapped_df.groupby(\"itemId\")\n",
    "with tf.io.TFRecordWriter(\"data/users_for_item\") as ofp:\n",
    "    for item, grouped in grouped_by_items:\n",
    "        example = tf.train.Example(features = tf.train.Features(feature = {\n",
    "            \"key\": tf.train.Feature(int64_list = tf.train.Int64List(value = [item])),\n",
    "            \"indices\": tf.train.Feature(int64_list = tf.train.Int64List(value = grouped[\"userId\"].values)),\n",
    "            \"values\": tf.train.Feature(float_list = tf.train.FloatList(value = grouped[\"rating\"].values))\n",
    "        }))\n",
    "        ofp.write(example.SerializeToString())"
   ]
  },
  {
   "cell_type": "code",
   "execution_count": null,
   "metadata": {},
   "outputs": [],
   "source": []
  },
  {
   "cell_type": "code",
   "execution_count": 37,
   "metadata": {
    "collapsed": false,
    "deletable": true,
    "editable": true,
    "jupyter": {
     "outputs_hidden": false
    }
   },
   "outputs": [],
   "source": [
    "grouped_by_users = mapped_df.groupby(\"userId\")\n",
    "with tf.io.TFRecordWriter(\"data/items_for_user\") as ofp:\n",
    "    for user, grouped in grouped_by_users:\n",
    "        example = tf.train.Example(features = tf.train.Features(feature = {\n",
    "            \"key\": tf.train.Feature(int64_list = tf.train.Int64List(value = [user])),\n",
    "            \"indices\": tf.train.Feature(int64_list = tf.train.Int64List(value = grouped[\"itemId\"].values)),\n",
    "            \"values\": tf.train.Feature(float_list = tf.train.FloatList(value = grouped[\"rating\"].values))\n",
    "        }))\n",
    "        ofp.write(example.SerializeToString())"
   ]
  },
  {
   "cell_type": "code",
   "execution_count": 38,
   "metadata": {
    "collapsed": false,
    "deletable": true,
    "editable": true,
    "jupyter": {
     "outputs_hidden": false
    }
   },
   "outputs": [
    {
     "name": "stdout",
     "output_type": "stream",
     "text": [
      "total 36256\n",
      "-rw-r--r-- 1 sferro sferro 14066967 Mar  9 13:08 collab_raw.csv\n",
      "-rw-r--r-- 1 sferro sferro  3465266 Mar  9 13:08 users.csv\n",
      "-rw-r--r-- 1 sferro sferro    81116 Mar  9 13:08 items.csv\n",
      "-rw-r--r-- 1 sferro sferro  7627395 Mar  9 13:15 collab_mapped.csv\n",
      "-rw-r--r-- 1 sferro sferro  2282759 Mar  9 13:30 users_for_item\n",
      "-rw-r--r-- 1 sferro sferro  9587189 Mar  9 13:31 items_for_user\n"
     ]
    }
   ],
   "source": [
    "!ls -lrt data"
   ]
  },
  {
   "cell_type": "markdown",
   "metadata": {
    "deletable": true,
    "editable": true
   },
   "source": [
    "To summarize, you created the following data files from collab_raw.csv:\n",
    "<ol>\n",
    "<li> ```collab_mapped.csv``` is essentially the same data as in ```collab_raw.csv``` except that ```visitorId``` and ```contentId``` which are business-specific have been mapped to ```userId``` and ```itemId``` which are enumerated in 0,1,2,....  The mappings themselves are stored in ```items.csv``` and ```users.csv``` so that they can be used during inference.\n",
    "<li> ```users_for_item``` contains all the users/ratings for each item in TFExample format\n",
    "<li> ```items_for_user``` contains all the items/ratings for each user in TFExample format\n",
    "</ol>"
   ]
  },
  {
   "cell_type": "markdown",
   "metadata": {
    "deletable": true,
    "editable": true
   },
   "source": [
    "## Train with WALS\n",
    "\n",
    "Once you have the dataset, do matrix factorization with WALS using the [WALSMatrixFactorization](https://www.tensorflow.org/versions/r1.15/api_docs/python/tf/contrib/factorization/WALSMatrixFactorization) in the contrib directory.\n",
    "This is an estimator model, so it should be relatively familiar.\n",
    "<p>\n",
    "As usual, you write an input_fn to provide the data to the model, and then create the Estimator to do train_and_evaluate.\n",
    "Because it is in contrib and hasn't moved over to tf.estimator yet, you use tf.contrib.learn.Experiment to handle the training loop.<p>\n",
    "Make sure to replace <strong># TODO</strong> in below code."
   ]
  },
  {
   "cell_type": "code",
   "execution_count": 41,
   "metadata": {
    "collapsed": false,
    "deletable": true,
    "editable": true,
    "jupyter": {
     "outputs_hidden": false
    }
   },
   "outputs": [
    {
     "ename": "ModuleNotFoundError",
     "evalue": "No module named 'tensorflow.contrib'",
     "output_type": "error",
     "traceback": [
      "\u001b[0;31m---------------------------------------------------------------------------\u001b[0m",
      "\u001b[0;31mModuleNotFoundError\u001b[0m                       Traceback (most recent call last)",
      "Cell \u001b[0;32mIn[41], line 4\u001b[0m\n\u001b[1;32m      2\u001b[0m \u001b[38;5;28;01mimport\u001b[39;00m \u001b[38;5;21;01mtensorflow\u001b[39;00m \u001b[38;5;28;01mas\u001b[39;00m \u001b[38;5;21;01mtf\u001b[39;00m\n\u001b[1;32m      3\u001b[0m \u001b[38;5;28;01mfrom\u001b[39;00m \u001b[38;5;21;01mtensorflow\u001b[39;00m\u001b[38;5;21;01m.\u001b[39;00m\u001b[38;5;21;01mpython\u001b[39;00m\u001b[38;5;21;01m.\u001b[39;00m\u001b[38;5;21;01mlib\u001b[39;00m\u001b[38;5;21;01m.\u001b[39;00m\u001b[38;5;21;01mio\u001b[39;00m \u001b[38;5;28;01mimport\u001b[39;00m file_io\n\u001b[0;32m----> 4\u001b[0m \u001b[38;5;28;01mfrom\u001b[39;00m \u001b[38;5;21;01mtensorflow\u001b[39;00m\u001b[38;5;21;01m.\u001b[39;00m\u001b[38;5;21;01mcontrib\u001b[39;00m\u001b[38;5;21;01m.\u001b[39;00m\u001b[38;5;21;01mfactorization\u001b[39;00m \u001b[38;5;28;01mimport\u001b[39;00m WALSMatrixFactorization\n\u001b[1;32m      6\u001b[0m \u001b[38;5;28;01mdef\u001b[39;00m \u001b[38;5;21mread_dataset\u001b[39m(mode, args):\n\u001b[1;32m      7\u001b[0m     \u001b[38;5;28;01mdef\u001b[39;00m \u001b[38;5;21mdecode_example\u001b[39m(protos, vocab_size):\n\u001b[1;32m      8\u001b[0m         \u001b[38;5;66;03m# TODO 2: Your code here\u001b[39;00m\n",
      "\u001b[0;31mModuleNotFoundError\u001b[0m: No module named 'tensorflow.contrib'"
     ]
    }
   ],
   "source": [
    "import os\n",
    "import tensorflow as tf\n",
    "from tensorflow.python.lib.io import file_io\n",
    "from tensorflow.contrib.factorization import WALSMatrixFactorization\n",
    "  \n",
    "def read_dataset(mode, args):\n",
    "    def decode_example(protos, vocab_size):\n",
    "        # TODO 2: Your code here\n",
    "        features =  {\n",
    "            \"key\": tf.io.FixedLenFeature(shape = [1], dtype = tf.int64),\n",
    "            \"indices\": tf.io.VarLenFeature(tf.int64),\n",
    "            \"values\": tf.io.VarLenFeature(tf.float32)\n",
    "        }\n",
    "        parsed_features = tf.parse_single_example(serialized = protos, features = features)\n",
    "        values = tf.sparse_merge(sp_ids = parsed_features[\"indices\"], sp_values = parsed_features[\"values\"], vocab_size = vocab_size)\n",
    "        # Save key to remap after batching\n",
    "        # This is a temporary workaround to assign correct row numbers in each batch.\n",
    "        # You can ignore details of this part and remap_keys().\n",
    "        key = parsed_features[\"key\"]\n",
    "        decoded_sparse_tensor = tf.SparseTensor(indices = tf.concat(values = [values.indices, [key]], axis = 0), \n",
    "                                                values = tf.concat(values = [values.values, [0.0]], axis = 0), \n",
    "                                                dense_shape = values.dense_shape)\n",
    "        return\n",
    "  \n",
    "  \n",
    "    def remap_keys(sparse_tensor):\n",
    "        # Current indices of your SparseTensor that you need to fix\n",
    "        bad_indices = sparse_tensor.indices # shape = (current_batch_size * (number_of_items/users[i] + 1), 2)\n",
    "        # Current values of your SparseTensor that you need to fix\n",
    "        bad_values = sparse_tensor.values # shape = (current_batch_size * (number_of_items/users[i] + 1),)\n",
    "\n",
    "        # Since batch is ordered, the last value for a batch index is the user\n",
    "        # Find where the batch index chages to extract the user rows\n",
    "        # 1 where user, else 0\n",
    "        user_mask = tf.concat(values = [bad_indices[1:,0] - bad_indices[:-1,0], tf.constant(value = [1], dtype = tf.int64)], axis = 0) # shape = (current_batch_size * (number_of_items/users[i] + 1), 2)\n",
    "\n",
    "        # Mask out the user rows from the values\n",
    "        good_values = tf.boolean_mask(tensor = bad_values, mask = tf.equal(x = user_mask, y = 0)) # shape = (current_batch_size * number_of_items/users[i],)\n",
    "        item_indices = tf.boolean_mask(tensor = bad_indices, mask = tf.equal(x = user_mask, y = 0)) # shape = (current_batch_size * number_of_items/users[i],)\n",
    "        user_indices = tf.boolean_mask(tensor = bad_indices, mask = tf.equal(x = user_mask, y = 1))[:, 1] # shape = (current_batch_size,)\n",
    "\n",
    "        good_user_indices = tf.gather(params = user_indices, indices = item_indices[:,0]) # shape = (current_batch_size * number_of_items/users[i],)\n",
    "\n",
    "        # User and item indices are rank 1, need to make rank 1 to concat\n",
    "        good_user_indices_expanded = tf.expand_dims(input = good_user_indices, axis = -1) # shape = (current_batch_size * number_of_items/users[i], 1)\n",
    "        good_item_indices_expanded = tf.expand_dims(input = item_indices[:, 1], axis = -1) # shape = (current_batch_size * number_of_items/users[i], 1)\n",
    "        good_indices = tf.concat(values = [good_user_indices_expanded, good_item_indices_expanded], axis = 1) # shape = (current_batch_size * number_of_items/users[i], 2)\n",
    "\n",
    "        remapped_sparse_tensor = tf.SparseTensor(indices = good_indices, values = good_values, dense_shape = sparse_tensor.dense_shape)\n",
    "        return remapped_sparse_tensor\n",
    "\n",
    "    \n",
    "    def parse_tfrecords(filename, vocab_size):\n",
    "        if mode == tf.estimator.ModeKeys.TRAIN:\n",
    "            num_epochs = None # indefinitely\n",
    "        else:\n",
    "            num_epochs = 1 # end-of-input after this\n",
    "\n",
    "        files = tf.gfile.Glob(filename = os.path.join(args[\"input_path\"], filename))\n",
    "\n",
    "        # Create dataset from file list\n",
    "        dataset = tf.data.TFRecordDataset(files)\n",
    "        dataset = dataset.map(map_func = lambda x: decode_example(x, vocab_size))\n",
    "        dataset = dataset.repeat(count = num_epochs)\n",
    "        dataset = dataset.batch(batch_size = args[\"batch_size\"])\n",
    "        dataset = dataset.map(map_func = lambda x: remap_keys(x))\n",
    "        return dataset.make_one_shot_iterator().get_next()\n",
    "  \n",
    "    def _input_fn():\n",
    "        features = {\n",
    "            WALSMatrixFactorization.INPUT_ROWS: parse_tfrecords(\"items_for_user\", args[\"nitems\"]),\n",
    "            WALSMatrixFactorization.INPUT_COLS: parse_tfrecords(\"users_for_item\", args[\"nusers\"]),\n",
    "            WALSMatrixFactorization.PROJECT_ROW: tf.constant(True)\n",
    "        }\n",
    "        return features, None\n",
    "\n",
    "    return _input_fn"
   ]
  },
  {
   "cell_type": "markdown",
   "metadata": {
    "deletable": true,
    "editable": true
   },
   "source": [
    "This code is helpful in developing the input function. You don't need it in production."
   ]
  },
  {
   "cell_type": "code",
   "execution_count": 23,
   "metadata": {
    "collapsed": false,
    "deletable": true,
    "editable": true,
    "jupyter": {
     "outputs_hidden": false
    }
   },
   "outputs": [
    {
     "name": "stdout",
     "output_type": "stream",
     "text": [
      "WARNING:tensorflow:From /tmp/ipykernel_13523/171886433.py:2: The name tf.Session is deprecated. Please use tf.compat.v1.Session instead.\n",
      "\n",
      "WARNING:tensorflow:From /tmp/ipykernel_13523/3925013467.py:57: The name tf.gfile.Glob is deprecated. Please use tf.io.gfile.glob instead.\n",
      "\n",
      "WARNING:tensorflow:From /opt/conda/lib/python3.7/site-packages/tensorflow_core/python/autograph/converters/directives.py:119: The name tf.FixedLenFeature is deprecated. Please use tf.io.FixedLenFeature instead.\n",
      "\n",
      "WARNING:tensorflow:From /opt/conda/lib/python3.7/site-packages/tensorflow_core/python/autograph/converters/directives.py:119: The name tf.VarLenFeature is deprecated. Please use tf.io.VarLenFeature instead.\n",
      "\n",
      "WARNING:tensorflow:From /opt/conda/lib/python3.7/site-packages/tensorflow_core/python/autograph/converters/directives.py:119: The name tf.parse_single_example is deprecated. Please use tf.io.parse_single_example instead.\n",
      "\n"
     ]
    },
    {
     "name": "stderr",
     "output_type": "stream",
     "text": [
      "2022-05-16 17:40:20.509438: I tensorflow/core/platform/profile_utils/cpu_utils.cc:94] CPU Frequency: 2200225000 Hz\n",
      "2022-05-16 17:40:20.510339: I tensorflow/compiler/xla/service/service.cc:168] XLA service 0x55a7e3dcc0d0 initialized for platform Host (this does not guarantee that XLA will be used). Devices:\n",
      "2022-05-16 17:40:20.510379: I tensorflow/compiler/xla/service/service.cc:176]   StreamExecutor device (0): Host, Default Version\n",
      "2022-05-16 17:40:20.511445: I tensorflow/core/common_runtime/process_util.cc:136] Creating new thread pool with default inter op setting: 2. Tune using inter_op_parallelism_threads for best performance.\n"
     ]
    },
    {
     "name": "stdout",
     "output_type": "stream",
     "text": [
      "WARNING:tensorflow:From /tmp/ipykernel_13523/3925013467.py:13: sparse_merge (from tensorflow.python.ops.sparse_ops) is deprecated and will be removed in a future version.\n",
      "Instructions for updating:\n",
      "No similar op available at this time.\n",
      "WARNING:tensorflow:From /opt/conda/lib/python3.7/site-packages/tensorflow_core/python/ops/array_ops.py:1475: where (from tensorflow.python.ops.array_ops) is deprecated and will be removed in a future version.\n",
      "Instructions for updating:\n",
      "Use tf.where in 2.0, which has the same broadcast rule as np.where\n",
      "WARNING:tensorflow:From /tmp/ipykernel_13523/3925013467.py:65: DatasetV1.make_one_shot_iterator (from tensorflow.python.data.ops.dataset_ops) is deprecated and will be removed in a future version.\n",
      "Instructions for updating:\n",
      "Use `for ... in dataset:` to iterate over a dataset. If using `tf.estimator`, return the `Dataset` object directly from your input function. As a last resort, you can use `tf.compat.v1.data.make_one_shot_iterator(dataset)`.\n",
      "SparseTensorValue(indices=array([[   0,    0],\n",
      "       [   0,  129],\n",
      "       [   0,  233],\n",
      "       [   0,  662],\n",
      "       [   1,    1],\n",
      "       [   1,    9],\n",
      "       [   1,   13],\n",
      "       [   1,   52],\n",
      "       [   1,  160],\n",
      "       [   1,  200],\n",
      "       [   1,  261],\n",
      "       [   1, 5635],\n",
      "       [   2,    2],\n",
      "       [   2,  182],\n",
      "       [   3,    3],\n",
      "       [   3,  144],\n",
      "       [   3, 5611],\n",
      "       [   3, 5615],\n",
      "       [   3, 5616],\n",
      "       [   3, 5620],\n",
      "       [   3, 5623],\n",
      "       [   3, 5624],\n",
      "       [   3, 5637],\n",
      "       [   3, 5638]]), values=array([1.  , 0.89, 1.  , 1.  , 1.  , 0.07, 0.34, 0.48, 1.  , 0.11, 0.37,\n",
      "       0.33, 0.86, 0.67, 0.55, 0.16, 1.  , 0.23, 0.46, 1.  , 1.  , 1.  ,\n",
      "       0.23, 1.  ], dtype=float32), dense_shape=array([   4, 5662]))\n",
      "SparseTensorValue(indices=array([[   4,    4],\n",
      "       [   5,    5],\n",
      "       [   5,   23],\n",
      "       [   5,   29],\n",
      "       [   5,   37],\n",
      "       [   5,   40],\n",
      "       [   5,   42],\n",
      "       [   5,   45],\n",
      "       [   5,   52],\n",
      "       [   5,   53],\n",
      "       [   5,  146],\n",
      "       [   5,  214],\n",
      "       [   5,  245],\n",
      "       [   5,  365],\n",
      "       [   5,  395],\n",
      "       [   5,  752],\n",
      "       [   5,  852],\n",
      "       [   5, 1336],\n",
      "       [   5, 5621],\n",
      "       [   5, 5627],\n",
      "       [   5, 5635],\n",
      "       [   5, 5642],\n",
      "       [   5, 5644],\n",
      "       [   5, 5648],\n",
      "       [   5, 5653],\n",
      "       [   6,    6],\n",
      "       [   6,   30],\n",
      "       [   6,   35],\n",
      "       [   6,  162],\n",
      "       [   6,  453],\n",
      "       [   6,  615],\n",
      "       [   6, 5619],\n",
      "       [   7,    7]]), values=array([0.03, 0.35, 0.28, 1.  , 1.  , 0.67, 0.63, 1.  , 1.  , 0.57, 0.05,\n",
      "       0.64, 0.17, 0.6 , 0.36, 0.15, 0.19, 0.17, 0.28, 0.77, 0.17, 0.35,\n",
      "       1.  , 0.46, 1.  , 0.14, 0.33, 0.12, 0.06, 0.09, 0.04, 0.47, 1.  ],\n",
      "      dtype=float32), dense_shape=array([   4, 5662]))\n"
     ]
    }
   ],
   "source": [
    "def try_out():\n",
    "    with tf.Session() as sess:\n",
    "        fn = read_dataset(\n",
    "            mode = tf.estimator.ModeKeys.EVAL, \n",
    "            args = {\"input_path\": \"data\", \"batch_size\": 4, \"nitems\": NITEMS, \"nusers\": NUSERS})\n",
    "        feats, _ = fn()\n",
    "        \n",
    "        print(feats[\"input_rows\"].eval())\n",
    "        print(feats[\"input_rows\"].eval())\n",
    "\n",
    "try_out()"
   ]
  },
  {
   "cell_type": "code",
   "execution_count": 25,
   "metadata": {
    "collapsed": false,
    "deletable": true,
    "editable": true,
    "jupyter": {
     "outputs_hidden": false
    }
   },
   "outputs": [],
   "source": [
    "def find_top_k(user, item_factors, k):\n",
    "    all_items = tf.matmul(a = tf.expand_dims(input = user, axis = 0), b = tf.transpose(a = item_factors))\n",
    "    topk = tf.nn.top_k(input = all_items, k = k)\n",
    "    return tf.cast(x = topk.indices, dtype = tf.int64)\n",
    "    \n",
    "def batch_predict(args):\n",
    "    import numpy as np\n",
    "    with tf.Session() as sess:\n",
    "        estimator = tf.contrib.factorization.WALSMatrixFactorization(\n",
    "            num_rows = args[\"nusers\"], \n",
    "            num_cols = args[\"nitems\"],\n",
    "            embedding_dimension = args[\"n_embeds\"],\n",
    "            model_dir = args[\"output_dir\"])\n",
    "        \n",
    "        # This is how you would get the row factors for out-of-vocab user data\n",
    "        # row_factors = list(estimator.get_projections(input_fn=read_dataset(tf.estimator.ModeKeys.EVAL, args)))\n",
    "        # user_factors = tf.convert_to_tensor(np.array(row_factors))\n",
    "\n",
    "        # But for in-vocab data, the row factors are already in the checkpoint\n",
    "        user_factors = tf.convert_to_tensor(value = estimator.get_row_factors()[0]) # (nusers, nembeds)\n",
    "        # In either case, you have to assume catalog doesn\"t change, so col_factors are read in\n",
    "        item_factors = tf.convert_to_tensor(value = estimator.get_col_factors()[0])# (nitems, nembeds)\n",
    "\n",
    "        # For each user, find the top K items\n",
    "        topk = tf.squeeze(input = tf.map_fn(fn = lambda user: find_top_k(user, item_factors, args[\"topk\"]), elems = user_factors, dtype = tf.int64))\n",
    "        with file_io.FileIO(os.path.join(args[\"output_dir\"], \"batch_pred.txt\"), mode = 'w') as f:\n",
    "            for best_items_for_user in topk.eval():\n",
    "                f.write(\",\".join(str(x) for x in best_items_for_user) + '\\n')\n",
    "\n",
    "def train_and_evaluate(args):\n",
    "    train_steps = int(0.5 + (1.0 * args[\"num_epochs\"] * args[\"nusers\"]) / args[\"batch_size\"])\n",
    "    steps_in_epoch = int(0.5 + args[\"nusers\"] / args[\"batch_size\"])\n",
    "    print(\"Will train for {} steps, evaluating once every {} steps\".format(train_steps, steps_in_epoch))\n",
    "    def experiment_fn(output_dir):\n",
    "        return tf.contrib.learn.Experiment(\n",
    "            tf.contrib.factorization.WALSMatrixFactorization(\n",
    "                num_rows = args[\"nusers\"], \n",
    "                num_cols = args[\"nitems\"],\n",
    "                embedding_dimension = args[\"n_embeds\"],\n",
    "                model_dir = args[\"output_dir\"]),\n",
    "            train_input_fn = read_dataset(tf.estimator.ModeKeys.TRAIN, args),\n",
    "            eval_input_fn = read_dataset(tf.estimator.ModeKeys.EVAL, args),\n",
    "            train_steps = train_steps,\n",
    "            eval_steps = 1,\n",
    "            min_eval_frequency = steps_in_epoch\n",
    "        )\n",
    "\n",
    "    from tensorflow.contrib.learn.python.learn import learn_runner\n",
    "    learn_runner.run(experiment_fn = experiment_fn, output_dir = args[\"output_dir\"])\n",
    "    \n",
    "    batch_predict(args)"
   ]
  },
  {
   "cell_type": "code",
   "execution_count": 26,
   "metadata": {
    "collapsed": false,
    "deletable": true,
    "editable": true,
    "jupyter": {
     "outputs_hidden": false
    }
   },
   "outputs": [
    {
     "name": "stdout",
     "output_type": "stream",
     "text": [
      "Will train for 12 steps, evaluating once every 236 steps\n",
      "WARNING:tensorflow:From /tmp/ipykernel_13523/1819520735.py:49: run (from tensorflow.contrib.learn.python.learn.learn_runner) is deprecated and will be removed in a future version.\n",
      "Instructions for updating:\n",
      "Use tf.estimator.train_and_evaluate.\n",
      "WARNING:tensorflow:\n",
      "The TensorFlow contrib module will not be included in TensorFlow 2.0.\n",
      "For more information, please see:\n",
      "  * https://github.com/tensorflow/community/blob/master/rfcs/20180907-contrib-sunset.md\n",
      "  * https://github.com/tensorflow/addons\n",
      "  * https://github.com/tensorflow/io (for I/O related ops)\n",
      "If you depend on functionality not listed there, please file an issue.\n",
      "\n",
      "WARNING:tensorflow:From /opt/conda/lib/python3.7/site-packages/tensorflow_core/contrib/learn/python/learn/estimators/estimator.py:1180: BaseEstimator.__init__ (from tensorflow.contrib.learn.python.learn.estimators.estimator) is deprecated and will be removed in a future version.\n",
      "Instructions for updating:\n",
      "Please replace uses of any Estimator from tf.contrib.learn with an Estimator from tf.estimator.*\n",
      "WARNING:tensorflow:From /opt/conda/lib/python3.7/site-packages/tensorflow_core/contrib/learn/python/learn/estimators/estimator.py:427: RunConfig.__init__ (from tensorflow.contrib.learn.python.learn.estimators.run_config) is deprecated and will be removed in a future version.\n",
      "Instructions for updating:\n",
      "When switching to tf.estimator.Estimator, use tf.estimator.RunConfig instead.\n",
      "INFO:tensorflow:Using default config.\n",
      "INFO:tensorflow:Using config: {'_task_type': None, '_task_id': 0, '_cluster_spec': <tensorflow.python.training.server_lib.ClusterSpec object at 0x7fc3e838dfd0>, '_master': '', '_num_ps_replicas': 0, '_num_worker_replicas': 0, '_environment': 'local', '_is_chief': True, '_evaluation_master': '', '_train_distribute': None, '_eval_distribute': None, '_experimental_max_worker_delay_secs': None, '_device_fn': None, '_tf_config': gpu_options {\n",
      "  per_process_gpu_memory_fraction: 1.0\n",
      "}\n",
      ", '_tf_random_seed': None, '_save_summary_steps': 100, '_save_checkpoints_secs': 600, '_log_step_count_steps': 100, '_protocol': None, '_session_config': None, '_save_checkpoints_steps': None, '_keep_checkpoint_max': 5, '_keep_checkpoint_every_n_hours': 10000, '_model_dir': 'wals_trained', '_session_creation_timeout_secs': 7200}\n",
      "WARNING:tensorflow:From /tmp/ipykernel_13523/1819520735.py:45: Experiment.__init__ (from tensorflow.contrib.learn.python.learn.experiment) is deprecated and will be removed in a future version.\n",
      "Instructions for updating:\n",
      "Please switch to tf.estimator.train_and_evaluate. You will also have to convert to a tf.estimator.Estimator.\n",
      "WARNING:tensorflow:From /opt/conda/lib/python3.7/site-packages/tensorflow_core/contrib/learn/python/learn/monitors.py:279: BaseMonitor.__init__ (from tensorflow.contrib.learn.python.learn.monitors) is deprecated and will be removed after 2016-12-05.\n",
      "Instructions for updating:\n",
      "Monitors are deprecated. Please use tf.train.SessionRunHook.\n",
      "WARNING:tensorflow:From /opt/conda/lib/python3.7/site-packages/tensorflow_core/python/training/training_util.py:236: Variable.initialized_value (from tensorflow.python.ops.variables) is deprecated and will be removed in a future version.\n",
      "Instructions for updating:\n",
      "Use Variable.read_value. Variables in 2.X are initialized automatically both in eager and graph (inside tf.defun) contexts.\n",
      "WARNING:tensorflow:From /opt/conda/lib/python3.7/site-packages/tensorflow_core/contrib/factorization/python/ops/wals.py:315: ModelFnOps.__new__ (from tensorflow.contrib.learn.python.learn.estimators.model_fn) is deprecated and will be removed in a future version.\n",
      "Instructions for updating:\n",
      "When switching to tf.estimator.Estimator, use tf.estimator.EstimatorSpec. You can use the `estimator_spec` method to create an equivalent one.\n",
      "INFO:tensorflow:Create CheckpointSaverHook.\n",
      "INFO:tensorflow:Graph was finalized.\n",
      "INFO:tensorflow:Running local_init_op.\n",
      "INFO:tensorflow:Done running local_init_op.\n",
      "INFO:tensorflow:Saving checkpoints for 0 into wals_trained/model.ckpt.\n",
      "INFO:tensorflow:SweepHook running init op.\n",
      "INFO:tensorflow:SweepHook running prep ops for the row sweep.\n",
      "INFO:tensorflow:Next fit step starting.\n",
      "INFO:tensorflow:loss = 193699.97, step = 1\n",
      "INFO:tensorflow:Next fit step starting.\n",
      "INFO:tensorflow:Next fit step starting.\n",
      "INFO:tensorflow:Next fit step starting.\n",
      "INFO:tensorflow:Next fit step starting.\n",
      "INFO:tensorflow:Next fit step starting.\n",
      "INFO:tensorflow:Next fit step starting.\n",
      "INFO:tensorflow:Next fit step starting.\n",
      "INFO:tensorflow:Next fit step starting.\n",
      "INFO:tensorflow:Next fit step starting.\n",
      "INFO:tensorflow:Next fit step starting.\n",
      "INFO:tensorflow:Next fit step starting.\n",
      "INFO:tensorflow:Saving checkpoints for 12 into wals_trained/model.ckpt.\n",
      "INFO:tensorflow:Loss for final step: 162428.39.\n",
      "INFO:tensorflow:Starting evaluation at 2022-05-16T17:40:42Z\n",
      "INFO:tensorflow:Graph was finalized.\n",
      "INFO:tensorflow:Restoring parameters from wals_trained/model.ckpt-12\n",
      "INFO:tensorflow:Running local_init_op.\n",
      "INFO:tensorflow:Done running local_init_op.\n",
      "INFO:tensorflow:Evaluation [1/1]\n",
      "INFO:tensorflow:Finished evaluation at 2022-05-16-17:40:43\n",
      "INFO:tensorflow:Saving dict for global step 12: global_step = 12, loss = 193699.97\n",
      "INFO:tensorflow:Using default config.\n",
      "INFO:tensorflow:Using config: {'_task_type': None, '_task_id': 0, '_cluster_spec': <tensorflow.python.training.server_lib.ClusterSpec object at 0x7fc3e838dfd0>, '_master': '', '_num_ps_replicas': 0, '_num_worker_replicas': 0, '_environment': 'local', '_is_chief': True, '_evaluation_master': '', '_train_distribute': None, '_eval_distribute': None, '_experimental_max_worker_delay_secs': None, '_device_fn': None, '_tf_config': gpu_options {\n",
      "  per_process_gpu_memory_fraction: 1.0\n",
      "}\n",
      ", '_tf_random_seed': None, '_save_summary_steps': 100, '_save_checkpoints_secs': 600, '_log_step_count_steps': 100, '_protocol': None, '_session_config': None, '_save_checkpoints_steps': None, '_keep_checkpoint_max': 5, '_keep_checkpoint_every_n_hours': 10000, '_model_dir': 'wals_trained', '_session_creation_timeout_secs': 7200}\n"
     ]
    }
   ],
   "source": [
    "import shutil\n",
    "shutil.rmtree(path = \"wals_trained\", ignore_errors=True)\n",
    "train_and_evaluate({\n",
    "    \"output_dir\": \"wals_trained\",\n",
    "    \"input_path\": \"data/\",\n",
    "    \"num_epochs\": 0.05,\n",
    "    \"nitems\": NITEMS,\n",
    "    \"nusers\": NUSERS,\n",
    "\n",
    "    \"batch_size\": 512,\n",
    "    \"n_embeds\": 10,\n",
    "    \"topk\": 3\n",
    "  })"
   ]
  },
  {
   "cell_type": "code",
   "execution_count": 27,
   "metadata": {
    "collapsed": false,
    "deletable": true,
    "editable": true,
    "jupyter": {
     "outputs_hidden": false
    }
   },
   "outputs": [
    {
     "name": "stdout",
     "output_type": "stream",
     "text": [
      "batch_pred.txt\n",
      "checkpoint\n",
      "eval\n",
      "events.out.tfevents.1652722839.tensorflow-1-15-20220516-225105\n",
      "graph.pbtxt\n",
      "model.ckpt-0.data-00000-of-00001\n",
      "model.ckpt-0.index\n",
      "model.ckpt-0.meta\n",
      "model.ckpt-12.data-00000-of-00001\n",
      "model.ckpt-12.index\n",
      "model.ckpt-12.meta\n"
     ]
    }
   ],
   "source": [
    "!ls wals_trained"
   ]
  },
  {
   "cell_type": "code",
   "execution_count": 28,
   "metadata": {
    "collapsed": false,
    "deletable": true,
    "editable": true,
    "jupyter": {
     "outputs_hidden": false
    }
   },
   "outputs": [
    {
     "name": "stdout",
     "output_type": "stream",
     "text": [
      "5526,129,885\n",
      "4712,2402,2620\n",
      "2710,139,1001\n",
      "885,5526,3450\n",
      "202,370,2839\n",
      "4972,1085,4505\n",
      "4896,1687,2833\n",
      "3418,5095,2702\n",
      "3537,479,4896\n",
      "1001,4516,2347\n"
     ]
    }
   ],
   "source": [
    "!head wals_trained/batch_pred.txt"
   ]
  },
  {
   "cell_type": "markdown",
   "metadata": {
    "deletable": true,
    "editable": true
   },
   "source": [
    "## Run as a Python module\n",
    "\n",
    "Let's run it as Python module for just a few steps."
   ]
  },
  {
   "cell_type": "code",
   "execution_count": 29,
   "metadata": {},
   "outputs": [],
   "source": [
    "os.environ[\"NITEMS\"] = str(NITEMS)\n",
    "os.environ[\"NUSERS\"] = str(NUSERS)"
   ]
  },
  {
   "cell_type": "code",
   "execution_count": 30,
   "metadata": {
    "collapsed": false,
    "deletable": true,
    "editable": true,
    "jupyter": {
     "outputs_hidden": false
    }
   },
   "outputs": [
    {
     "name": "stdout",
     "output_type": "stream",
     "text": [
      "Will train for 2 steps, evaluating once every 236 steps\n"
     ]
    },
    {
     "name": "stderr",
     "output_type": "stream",
     "text": [
      "WARNING:tensorflow:From /home/jupyter/training-data-analyst/courses/machine_learning/deepdive/10_recommend/labs/walsmodel/model.py:27: The name tf.logging.set_verbosity is deprecated. Please use tf.compat.v1.logging.set_verbosity instead.\n",
      "\n",
      "WARNING:tensorflow:From /home/jupyter/training-data-analyst/courses/machine_learning/deepdive/10_recommend/labs/walsmodel/model.py:27: The name tf.logging.INFO is deprecated. Please use tf.compat.v1.logging.INFO instead.\n",
      "\n",
      "WARNING:tensorflow:From /home/jupyter/training-data-analyst/courses/machine_learning/deepdive/10_recommend/labs/walsmodel/model.py:198: run (from tensorflow.contrib.learn.python.learn.learn_runner) is deprecated and will be removed in a future version.\n",
      "Instructions for updating:\n",
      "Use tf.estimator.train_and_evaluate.\n",
      "WARNING:tensorflow:\n",
      "The TensorFlow contrib module will not be included in TensorFlow 2.0.\n",
      "For more information, please see:\n",
      "  * https://github.com/tensorflow/community/blob/master/rfcs/20180907-contrib-sunset.md\n",
      "  * https://github.com/tensorflow/addons\n",
      "  * https://github.com/tensorflow/io (for I/O related ops)\n",
      "If you depend on functionality not listed there, please file an issue.\n",
      "\n",
      "WARNING:tensorflow:From /opt/conda/lib/python3.7/site-packages/tensorflow_core/contrib/learn/python/learn/estimators/estimator.py:1180: BaseEstimator.__init__ (from tensorflow.contrib.learn.python.learn.estimators.estimator) is deprecated and will be removed in a future version.\n",
      "Instructions for updating:\n",
      "Please replace uses of any Estimator from tf.contrib.learn with an Estimator from tf.estimator.*\n",
      "WARNING:tensorflow:From /opt/conda/lib/python3.7/site-packages/tensorflow_core/contrib/learn/python/learn/estimators/estimator.py:427: RunConfig.__init__ (from tensorflow.contrib.learn.python.learn.estimators.run_config) is deprecated and will be removed in a future version.\n",
      "Instructions for updating:\n",
      "When switching to tf.estimator.Estimator, use tf.estimator.RunConfig instead.\n",
      "INFO:tensorflow:Using default config.\n",
      "INFO:tensorflow:Using config: {'_task_type': None, '_task_id': 0, '_cluster_spec': <tensorflow.python.training.server_lib.ClusterSpec object at 0x7fdf7d13df90>, '_master': '', '_num_ps_replicas': 0, '_num_worker_replicas': 0, '_environment': 'cloud', '_is_chief': True, '_evaluation_master': '', '_train_distribute': None, '_eval_distribute': None, '_experimental_max_worker_delay_secs': None, '_device_fn': None, '_tf_config': gpu_options {\n",
      "  per_process_gpu_memory_fraction: 1.0\n",
      "}\n",
      ", '_tf_random_seed': None, '_save_summary_steps': 100, '_save_checkpoints_secs': 600, '_log_step_count_steps': 100, '_protocol': None, '_session_config': None, '_save_checkpoints_steps': None, '_keep_checkpoint_max': 5, '_keep_checkpoint_every_n_hours': 10000, '_model_dir': '/home/jupyter/training-data-analyst/courses/machine_learning/deepdive/10_recommend/labs/wals_trained/', '_session_creation_timeout_secs': 7200}\n",
      "WARNING:tensorflow:From /home/jupyter/training-data-analyst/courses/machine_learning/deepdive/10_recommend/labs/walsmodel/model.py:194: make_export_strategy (from tensorflow.contrib.learn.python.learn.utils.saved_model_export_utils) is deprecated and will be removed in a future version.\n",
      "Instructions for updating:\n",
      "Switch to tf.estimator.Exporter and associated utilities.\n",
      "WARNING:tensorflow:From /opt/conda/lib/python3.7/site-packages/tensorflow_core/contrib/learn/python/learn/utils/saved_model_export_utils.py:484: ExportStrategy.__new__ (from tensorflow.contrib.learn.python.learn.export_strategy) is deprecated and will be removed in a future version.\n",
      "Instructions for updating:\n",
      "Please switch to tf.estimator.train_and_evaluate, and use tf.estimator.Exporter.\n",
      "WARNING:tensorflow:From /home/jupyter/training-data-analyst/courses/machine_learning/deepdive/10_recommend/labs/walsmodel/model.py:194: Experiment.__init__ (from tensorflow.contrib.learn.python.learn.experiment) is deprecated and will be removed in a future version.\n",
      "Instructions for updating:\n",
      "Please switch to tf.estimator.train_and_evaluate. You will also have to convert to a tf.estimator.Estimator.\n",
      "WARNING:tensorflow:From /opt/conda/lib/python3.7/site-packages/tensorflow_core/contrib/learn/python/learn/monitors.py:279: BaseMonitor.__init__ (from tensorflow.contrib.learn.python.learn.monitors) is deprecated and will be removed after 2016-12-05.\n",
      "Instructions for updating:\n",
      "Monitors are deprecated. Please use tf.train.SessionRunHook.\n",
      "WARNING:tensorflow:From /home/jupyter/training-data-analyst/courses/machine_learning/deepdive/10_recommend/labs/walsmodel/model.py:85: The name tf.gfile.Glob is deprecated. Please use tf.io.gfile.glob instead.\n",
      "\n",
      "WARNING:tensorflow:From /opt/conda/lib/python3.7/site-packages/tensorflow_core/python/autograph/converters/directives.py:119: The name tf.FixedLenFeature is deprecated. Please use tf.io.FixedLenFeature instead.\n",
      "\n",
      "WARNING:tensorflow:From /opt/conda/lib/python3.7/site-packages/tensorflow_core/python/autograph/converters/directives.py:119: The name tf.VarLenFeature is deprecated. Please use tf.io.VarLenFeature instead.\n",
      "\n",
      "WARNING:tensorflow:From /opt/conda/lib/python3.7/site-packages/tensorflow_core/python/autograph/converters/directives.py:119: The name tf.parse_single_example is deprecated. Please use tf.io.parse_single_example instead.\n",
      "\n",
      "WARNING:tensorflow:From /home/jupyter/training-data-analyst/courses/machine_learning/deepdive/10_recommend/labs/walsmodel/model.py:41: sparse_merge (from tensorflow.python.ops.sparse_ops) is deprecated and will be removed in a future version.\n",
      "Instructions for updating:\n",
      "No similar op available at this time.\n",
      "WARNING:tensorflow:From /opt/conda/lib/python3.7/site-packages/tensorflow_core/python/ops/array_ops.py:1475: where (from tensorflow.python.ops.array_ops) is deprecated and will be removed in a future version.\n",
      "Instructions for updating:\n",
      "Use tf.where in 2.0, which has the same broadcast rule as np.where\n",
      "WARNING:tensorflow:From /home/jupyter/training-data-analyst/courses/machine_learning/deepdive/10_recommend/labs/walsmodel/model.py:93: DatasetV1.make_one_shot_iterator (from tensorflow.python.data.ops.dataset_ops) is deprecated and will be removed in a future version.\n",
      "Instructions for updating:\n",
      "Use `for ... in dataset:` to iterate over a dataset. If using `tf.estimator`, return the `Dataset` object directly from your input function. As a last resort, you can use `tf.compat.v1.data.make_one_shot_iterator(dataset)`.\n",
      "WARNING:tensorflow:From /opt/conda/lib/python3.7/site-packages/tensorflow_core/python/training/training_util.py:236: Variable.initialized_value (from tensorflow.python.ops.variables) is deprecated and will be removed in a future version.\n",
      "Instructions for updating:\n",
      "Use Variable.read_value. Variables in 2.X are initialized automatically both in eager and graph (inside tf.defun) contexts.\n",
      "WARNING:tensorflow:From /opt/conda/lib/python3.7/site-packages/tensorflow_core/contrib/factorization/python/ops/wals.py:315: ModelFnOps.__new__ (from tensorflow.contrib.learn.python.learn.estimators.model_fn) is deprecated and will be removed in a future version.\n",
      "Instructions for updating:\n",
      "When switching to tf.estimator.Estimator, use tf.estimator.EstimatorSpec. You can use the `estimator_spec` method to create an equivalent one.\n",
      "INFO:tensorflow:Create CheckpointSaverHook.\n",
      "INFO:tensorflow:Graph was finalized.\n",
      "2022-05-16 17:41:57.967197: I tensorflow/core/platform/profile_utils/cpu_utils.cc:94] CPU Frequency: 2200225000 Hz\n",
      "2022-05-16 17:41:57.967730: I tensorflow/compiler/xla/service/service.cc:168] XLA service 0x55c1e30cd920 initialized for platform Host (this does not guarantee that XLA will be used). Devices:\n",
      "2022-05-16 17:41:57.967776: I tensorflow/compiler/xla/service/service.cc:176]   StreamExecutor device (0): Host, Default Version\n",
      "2022-05-16 17:41:57.967913: I tensorflow/core/common_runtime/process_util.cc:136] Creating new thread pool with default inter op setting: 2. Tune using inter_op_parallelism_threads for best performance.\n",
      "INFO:tensorflow:Running local_init_op.\n",
      "INFO:tensorflow:Done running local_init_op.\n",
      "INFO:tensorflow:Saving checkpoints for 0 into /home/jupyter/training-data-analyst/courses/machine_learning/deepdive/10_recommend/labs/wals_trained/model.ckpt.\n",
      "INFO:tensorflow:SweepHook running init op.\n",
      "INFO:tensorflow:SweepHook running prep ops for the row sweep.\n",
      "INFO:tensorflow:Next fit step starting.\n",
      "INFO:tensorflow:loss = 193920.0, step = 1\n",
      "INFO:tensorflow:Next fit step starting.\n",
      "INFO:tensorflow:Saving checkpoints for 2 into /home/jupyter/training-data-analyst/courses/machine_learning/deepdive/10_recommend/labs/wals_trained/model.ckpt.\n",
      "INFO:tensorflow:Loss for final step: 165045.23.\n",
      "INFO:tensorflow:Starting evaluation at 2022-05-16T17:42:00Z\n",
      "INFO:tensorflow:Graph was finalized.\n",
      "INFO:tensorflow:Restoring parameters from /home/jupyter/training-data-analyst/courses/machine_learning/deepdive/10_recommend/labs/wals_trained/model.ckpt-2\n",
      "INFO:tensorflow:Running local_init_op.\n",
      "INFO:tensorflow:Done running local_init_op.\n",
      "INFO:tensorflow:Evaluation [1/1]\n",
      "INFO:tensorflow:Finished evaluation at 2022-05-16-17:42:00\n",
      "INFO:tensorflow:Saving dict for global step 2: global_step = 2, loss = 193920.0\n",
      "WARNING:tensorflow:From /opt/conda/lib/python3.7/site-packages/tensorflow_core/contrib/learn/python/learn/estimators/estimator.py:1374: get_timestamped_export_dir (from tensorflow.contrib.learn.python.learn.utils.saved_model_export_utils) is deprecated and will be removed in a future version.\n",
      "Instructions for updating:\n",
      "Switch to tf.estimator.Exporter and associated utilities.\n",
      "WARNING:tensorflow:From /opt/conda/lib/python3.7/site-packages/tensorflow_core/contrib/learn/python/learn/estimators/estimator.py:1379: get_temp_export_dir (from tensorflow.contrib.learn.python.learn.utils.saved_model_export_utils) is deprecated and will be removed in a future version.\n",
      "Instructions for updating:\n",
      "Switch to tf.estimator.Exporter and associated utilities.\n",
      "WARNING:tensorflow:From /home/jupyter/training-data-analyst/courses/machine_learning/deepdive/10_recommend/labs/walsmodel/model.py:157: The name tf.placeholder is deprecated. Please use tf.compat.v1.placeholder instead.\n",
      "\n",
      "WARNING:tensorflow:From /opt/conda/lib/python3.7/site-packages/tensorflow_core/contrib/learn/python/learn/estimators/estimator.py:1389: get_input_alternatives (from tensorflow.contrib.learn.python.learn.utils.saved_model_export_utils) is deprecated and will be removed in a future version.\n",
      "Instructions for updating:\n",
      "Switch to tf.estimator.Exporter and associated utilities.\n",
      "WARNING:tensorflow:From /opt/conda/lib/python3.7/site-packages/tensorflow_core/contrib/learn/python/learn/estimators/estimator.py:1403: get_output_alternatives (from tensorflow.contrib.learn.python.learn.utils.saved_model_export_utils) is deprecated and will be removed in a future version.\n",
      "Instructions for updating:\n",
      "Switch to tf.estimator.Exporter and associated utilities.\n",
      "WARNING:tensorflow:From /opt/conda/lib/python3.7/site-packages/tensorflow_core/contrib/learn/python/learn/estimators/estimator.py:1413: build_all_signature_defs (from tensorflow.contrib.learn.python.learn.utils.saved_model_export_utils) is deprecated and will be removed in a future version.\n",
      "Instructions for updating:\n",
      "Switch to tf.estimator.Exporter and associated utilities.\n",
      "WARNING:tensorflow:From /opt/conda/lib/python3.7/site-packages/tensorflow_core/contrib/learn/python/learn/utils/saved_model_export_utils.py:267: build_standardized_signature_def (from tensorflow.contrib.learn.python.learn.utils.saved_model_export_utils) is deprecated and will be removed in a future version.\n",
      "Instructions for updating:\n",
      "Switch to tf.estimator.Exporter and associated utilities.\n",
      "WARNING:tensorflow:From /opt/conda/lib/python3.7/site-packages/tensorflow_core/python/saved_model/signature_def_utils_impl.py:201: build_tensor_info (from tensorflow.python.saved_model.utils_impl) is deprecated and will be removed in a future version.\n",
      "Instructions for updating:\n",
      "This function will only be available through the v1 compatibility library as tf.compat.v1.saved_model.utils.build_tensor_info or tf.compat.v1.saved_model.build_tensor_info.\n",
      "INFO:tensorflow:Restoring parameters from /home/jupyter/training-data-analyst/courses/machine_learning/deepdive/10_recommend/labs/wals_trained/model.ckpt-2\n",
      "INFO:tensorflow:Assets added to graph.\n",
      "INFO:tensorflow:No assets to write.\n",
      "INFO:tensorflow:SavedModel written to: /home/jupyter/training-data-analyst/courses/machine_learning/deepdive/10_recommend/labs/wals_trained/export/Servo/temp-1652722920/saved_model.pb\n",
      "WARNING:tensorflow:From /opt/conda/lib/python3.7/site-packages/tensorflow_core/contrib/learn/python/learn/utils/saved_model_export_utils.py:481: garbage_collect_exports (from tensorflow.contrib.learn.python.learn.utils.saved_model_export_utils) is deprecated and will be removed in a future version.\n",
      "Instructions for updating:\n",
      "Switch to tf.estimator.Exporter and associated utilities.\n",
      "WARNING:tensorflow:From /opt/conda/lib/python3.7/site-packages/tensorflow_core/contrib/learn/python/learn/utils/saved_model_export_utils.py:394: largest_export_versions (from tensorflow.contrib.learn.python.learn.utils.gc) is deprecated and will be removed in a future version.\n",
      "Instructions for updating:\n",
      "Please implement your own file management or use Saver.\n",
      "WARNING:tensorflow:From /opt/conda/lib/python3.7/site-packages/tensorflow_core/contrib/learn/python/learn/utils/saved_model_export_utils.py:395: negation (from tensorflow.contrib.learn.python.learn.utils.gc) is deprecated and will be removed in a future version.\n",
      "Instructions for updating:\n",
      "Please implement your own file management or use Saver.\n",
      "WARNING:tensorflow:From /opt/conda/lib/python3.7/site-packages/tensorflow_core/contrib/learn/python/learn/utils/saved_model_export_utils.py:397: get_paths (from tensorflow.contrib.learn.python.learn.utils.gc) is deprecated and will be removed in a future version.\n",
      "Instructions for updating:\n",
      "Please implement your own file name management.\n",
      "WARNING:tensorflow:From /home/jupyter/training-data-analyst/courses/machine_learning/deepdive/10_recommend/labs/walsmodel/model.py:117: The name tf.Session is deprecated. Please use tf.compat.v1.Session instead.\n",
      "\n",
      "INFO:tensorflow:Using default config.\n",
      "INFO:tensorflow:Using config: {'_task_type': None, '_task_id': 0, '_cluster_spec': <tensorflow.python.training.server_lib.ClusterSpec object at 0x7fdf7d0e7850>, '_master': '', '_num_ps_replicas': 0, '_num_worker_replicas': 0, '_environment': 'cloud', '_is_chief': True, '_evaluation_master': '', '_train_distribute': None, '_eval_distribute': None, '_experimental_max_worker_delay_secs': None, '_device_fn': None, '_tf_config': gpu_options {\n",
      "  per_process_gpu_memory_fraction: 1.0\n",
      "}\n",
      ", '_tf_random_seed': None, '_save_summary_steps': 100, '_save_checkpoints_secs': 600, '_log_step_count_steps': 100, '_protocol': None, '_session_config': None, '_save_checkpoints_steps': None, '_keep_checkpoint_max': 5, '_keep_checkpoint_every_n_hours': 10000, '_model_dir': '/home/jupyter/training-data-analyst/courses/machine_learning/deepdive/10_recommend/labs/wals_trained/', '_session_creation_timeout_secs': 7200}\n"
     ]
    }
   ],
   "source": [
    "%%bash\n",
    "rm -rf wals.tar.gz wals_trained\n",
    "gcloud ai-platform local train \\\n",
    "    --module-name=walsmodel.task \\\n",
    "    --package-path=${PWD}/walsmodel \\\n",
    "    -- \\\n",
    "    --output_dir=${PWD}/wals_trained \\\n",
    "    --input_path=${PWD}/data \\\n",
    "    --num_epochs=0.01 --nitems=${NITEMS} --nusers=${NUSERS} \\\n",
    "    --job-dir=./tmp"
   ]
  },
  {
   "cell_type": "markdown",
   "metadata": {},
   "source": [
    "## Get row and column factors\n",
    "\n",
    "Once you have a trained WALS model, you can get row and column factors (user and item embeddings) from the checkpoint file. You'll look at how to use these in the section on building a recommendation system using deep neural networks."
   ]
  },
  {
   "cell_type": "code",
   "execution_count": 33,
   "metadata": {},
   "outputs": [],
   "source": [
    "def get_factors(args):\n",
    "    with tf.Session() as sess:\n",
    "        estimator = tf.contrib.factorization.WALSMatrixFactorization(\n",
    "            num_rows = args[\"nusers\"], \n",
    "            num_cols = args[\"nitems\"],\n",
    "            embedding_dimension = args[\"n_embeds\"],\n",
    "            model_dir = args[\"output_dir\"])\n",
    "        \n",
    "        row_factors = estimator.get_row_factors()[0]\n",
    "        col_factors = estimator.get_col_factors()[0]\n",
    "    return row_factors, col_factors"
   ]
  },
  {
   "cell_type": "code",
   "execution_count": 57,
   "metadata": {},
   "outputs": [
    {
     "name": "stdout",
     "output_type": "stream",
     "text": [
      "/home/jupyter/training-data-analyst/courses/machine_learning/deepdive2/recommendation_systems/labs/wals_trained\n"
     ]
    }
   ],
   "source": [
    "%%bash\n",
    "echo $PWD/wals_trained"
   ]
  },
  {
   "cell_type": "code",
   "execution_count": 34,
   "metadata": {},
   "outputs": [
    {
     "name": "stdout",
     "output_type": "stream",
     "text": [
      "INFO:tensorflow:Using default config.\n",
      "INFO:tensorflow:Using config: {'_task_type': None, '_task_id': 0, '_cluster_spec': <tensorflow.python.training.server_lib.ClusterSpec object at 0x7fc3e9a79a10>, '_master': '', '_num_ps_replicas': 0, '_num_worker_replicas': 0, '_environment': 'local', '_is_chief': True, '_evaluation_master': '', '_train_distribute': None, '_eval_distribute': None, '_experimental_max_worker_delay_secs': None, '_device_fn': None, '_tf_config': gpu_options {\n",
      "  per_process_gpu_memory_fraction: 1.0\n",
      "}\n",
      ", '_tf_random_seed': None, '_save_summary_steps': 100, '_save_checkpoints_secs': 600, '_log_step_count_steps': 100, '_protocol': None, '_session_config': None, '_save_checkpoints_steps': None, '_keep_checkpoint_max': 5, '_keep_checkpoint_every_n_hours': 10000, '_model_dir': 'gs://qwiklabs-gcp-01-7f6e984e70dc/wals/model_trained', '_session_creation_timeout_secs': 7200}\n",
      "[[ 3.6948849e-03 -8.5906551e-04  4.8303331e-04 -1.5890118e-03\n",
      "   3.2951573e-03  1.8742392e-03 -4.0969993e-03  6.1582108e-03\n",
      "  -2.8773610e-04 -1.3332820e-03]\n",
      " [ 1.3797252e-03 -6.1344338e-04  1.8084486e-03 -1.3052947e-03\n",
      "  -5.8687606e-04  1.2303573e-03  4.5222897e-04  1.5270878e-03\n",
      "  -3.6727260e-03 -3.0614049e-04]\n",
      " [-1.8781899e-04 -3.4702761e-04 -2.0322317e-05 -3.4224652e-04\n",
      "  -4.4325300e-04 -1.1415767e-03  1.1274662e-04  5.7519245e-04\n",
      "   1.1694311e-04  7.0931134e-04]]\n",
      "[[ 1.55777712e+01 -1.05091429e+00  9.74276304e-01 -1.42321882e+01\n",
      "   5.99148512e+00  2.02531338e+00 -1.14337492e+01  1.73737488e+01\n",
      "  -6.27120638e+00 -3.14125824e+00]\n",
      " [ 1.13881841e-01 -1.24881916e-01  1.47017851e-01  3.90907042e-02\n",
      "  -2.54981425e-02 -2.25878507e-02 -8.38336051e-02 -3.10666151e-02\n",
      "  -1.92982569e-01  5.66481380e-03]\n",
      " [-2.36634836e-01 -1.71446967e+00 -2.04065472e-01 -2.04369950e+00\n",
      "  -1.53748310e+00 -4.64286995e+00  1.42189160e-01  2.47772884e+00\n",
      "  -9.40964222e-01  3.68809652e+00]]\n"
     ]
    }
   ],
   "source": [
    "args = {\n",
    "    \"output_dir\": \"\", # ENTER THE OUTPUT FROM THE PREVIOUS CELL HERE\n",
    "    \"nitems\": NITEMS,\n",
    "    \"nusers\": NUSERS,\n",
    "    \"n_embeds\": 10\n",
    "  }\n",
    "\n",
    "user_embeddings, item_embeddings = get_factors(args)\n",
    "print(user_embeddings[:3])\n",
    "print(item_embeddings[:3])"
   ]
  },
  {
   "cell_type": "markdown",
   "metadata": {},
   "source": [
    "You can visualize the embedding vectors using dimensional reduction techniques such as PCA."
   ]
  },
  {
   "cell_type": "code",
   "execution_count": 35,
   "metadata": {},
   "outputs": [
    {
     "data": {
      "text/plain": [
       "<mpl_toolkits.mplot3d.art3d.Path3DCollection at 0x7fc3ea66e4d0>"
      ]
     },
     "execution_count": 35,
     "metadata": {},
     "output_type": "execute_result"
    },
    {
     "data": {
      "image/png": "[encoded data removed]",
      "text/plain": [
       "<Figure size 576x576 with 1 Axes>"
      ]
     },
     "metadata": {
      "needs_background": "light"
     },
     "output_type": "display_data"
    }
   ],
   "source": [
    "import matplotlib.pyplot as plt\n",
    "from mpl_toolkits.mplot3d import Axes3D\n",
    "from sklearn.decomposition import PCA\n",
    "\n",
    "pca = PCA(n_components = 3)\n",
    "pca.fit(user_embeddings)\n",
    "user_embeddings_pca = # TODO 3: Your code here\n",
    "\n",
    "fig = plt.figure(figsize = (8,8))\n",
    "ax = fig.add_subplot(111, projection = \"3d\")\n",
    "xs, ys, zs = user_embeddings_pca[::150].T\n",
    "ax.scatter(xs, ys, zs)"
   ]
  },
  {
   "cell_type": "markdown",
   "metadata": {
    "deletable": true,
    "editable": true
   },
   "source": [
    "## OPTIONAL: Run on Cloud"
   ]
  },
  {
   "cell_type": "code",
   "execution_count": 31,
   "metadata": {
    "collapsed": false,
    "deletable": true,
    "editable": true,
    "jupyter": {
     "outputs_hidden": false
    }
   },
   "outputs": [
    {
     "name": "stderr",
     "output_type": "stream",
     "text": [
      "Copying file://data/collab_mapped.csv [Content-Type=text/csv]...\n",
      "Copying file://data/collab_raw.csv [Content-Type=text/csv]...                   \n",
      "Copying file://data/items.csv [Content-Type=text/csv]...                        \n",
      "Copying file://data/items_for_user [Content-Type=application/octet-stream]...   \n",
      "Copying file://data/users_for_item [Content-Type=application/octet-stream]...   \n",
      "Copying file://data/users.csv [Content-Type=text/csv]...                        \n",
      "- [6/6 files][ 35.7 MiB/ 35.7 MiB] 100% Done                                    \n",
      "Operation completed over 6 objects/35.7 MiB.                                     \n"
     ]
    }
   ],
   "source": [
    "%%bash\n",
    "gsutil -m cp data/* gs://${BUCKET}/wals/data"
   ]
  },
  {
   "cell_type": "code",
   "execution_count": 32,
   "metadata": {
    "collapsed": false,
    "deletable": true,
    "editable": true,
    "jupyter": {
     "outputs_hidden": false
    }
   },
   "outputs": [
    {
     "name": "stdout",
     "output_type": "stream",
     "text": [
      "gs://qwiklabs-gcp-01-7f6e984e70dc/wals/model_trained us-central1 wals_220516_174236\n",
      "jobId: wals_220516_174236\n",
      "state: QUEUED\n"
     ]
    },
    {
     "name": "stderr",
     "output_type": "stream",
     "text": [
      "CommandException: 1 files/objects could not be removed.\n",
      "Job [wals_220516_174236] submitted successfully.\n",
      "Your job is still active. You may view the status of your job with the command\n",
      "\n",
      "  $ gcloud ai-platform jobs describe wals_220516_174236\n",
      "\n",
      "or continue streaming the logs with the command\n",
      "\n",
      "  $ gcloud ai-platform jobs stream-logs wals_220516_174236\n"
     ]
    }
   ],
   "source": [
    "%%bash\n",
    "OUTDIR=gs://${BUCKET}/wals/model_trained\n",
    "JOBNAME=wals_$(date -u +%y%m%d_%H%M%S)\n",
    "echo $OUTDIR $REGION $JOBNAME\n",
    "gsutil -m rm -rf $OUTDIR\n",
    "gcloud ai-platform jobs submit training $JOBNAME \\\n",
    "    --region=$REGION \\\n",
    "    --module-name=walsmodel.task \\\n",
    "    --package-path=${PWD}/walsmodel \\\n",
    "    --job-dir=$OUTDIR \\\n",
    "    --staging-bucket=gs://$BUCKET \\\n",
    "    --scale-tier=BASIC_GPU \\\n",
    "    --runtime-version=$TFVERSION \\\n",
    "    -- \\\n",
    "    --output_dir=$OUTDIR \\\n",
    "    --input_path=gs://${BUCKET}/wals/data \\\n",
    "    --num_epochs=10 --nitems=${NITEMS} --nusers=${NUSERS} "
   ]
  },
  {
   "cell_type": "markdown",
   "metadata": {
    "deletable": true,
    "editable": true
   },
   "source": [
    "This will take <b>10 minutes</b> to complete. Rerun the above command until the jobs gets submitted."
   ]
  },
  {
   "cell_type": "markdown",
   "metadata": {
    "deletable": true,
    "editable": true
   },
   "source": [
    "<pre>\n",
    "# Copyright 2022 Google Inc. All Rights Reserved.\n",
    "#\n",
    "# Licensed under the Apache License, Version 2.0 (the \"License\");\n",
    "# you may not use this file except in compliance with the License.\n",
    "# You may obtain a copy of the License at\n",
    "#\n",
    "#      http://www.apache.org/licenses/LICENSE-2.0\n",
    "#\n",
    "# Unless required by applicable law or agreed to in writing, software\n",
    "# distributed under the License is distributed on an \"AS IS\" BASIS,\n",
    "# WITHOUT WARRANTIES OR CONDITIONS OF ANY KIND, either express or implied.\n",
    "# See the License for the specific language governing permissions and\n",
    "# limitations under the License.\n",
    "</pre>"
   ]
  }
 ],
 "metadata": {
  "environment": {
   "kernel": "python3",
   "name": "tf-gpu.1-15.m91",
   "type": "gcloud",
   "uri": "gcr.io/deeplearning-platform-release/tf-gpu.1-15:m91"
  },
  "kernelspec": {
   "display_name": "Python 3",
   "language": "python",
   "name": "python3"
  },
  "language_info": {
   "codemirror_mode": {
    "name": "ipython",
    "version": 3
   },
   "file_extension": ".py",
   "mimetype": "text/x-python",
   "name": "python",
   "nbconvert_exporter": "python",
   "pygments_lexer": "ipython3",
   "version": "3.11.8"
  }
 },
 "nbformat": 4,
 "nbformat_minor": 4
}
